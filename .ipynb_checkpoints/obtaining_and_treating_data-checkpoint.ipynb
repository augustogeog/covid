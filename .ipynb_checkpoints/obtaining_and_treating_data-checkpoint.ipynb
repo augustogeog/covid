{
 "cells": [
  {
   "cell_type": "markdown",
   "metadata": {},
   "source": [
    "1 Prepração do notebook\n",
    "2 Obtenção dos dados, tratamento e geração de Data Frames\n",
    "\n",
    "* Dados sobre Covid\n",
    "    * Obtenção de dados do COVID19 e geração do Data Frame df_covid19_br\n",
    "    * Geração do df_covid19_br_para_shapefile com tratamento dos dados\n",
    "    * Geração do Geo Data Frames gdf_covid19_br, com os casos para o Brasil, e gdf_covid19_pr, com os casos do Paraná\n",
    "* Obtenção dos Demais dados\n",
    "* nível de hierarquia urbana\n",
    "* população\n",
    "* mobilidade pendular\n",
    "* níveis de exportação\n",
    "* pib percapita\n",
    "* número de pessoas com renda elevada (a definir o critério)\n",
    "* tentar identificar uma forma de criar uma base que se atualize dinamicamente e identifique avizinhamento de municípios 0 e 1 \n",
    "\n",
    "3 Análise Exploratória Correlações\n",
    "\n",
    "* Gerar painel de estatística descritiva\n",
    "\n",
    "* Gerar gráficos de distribuição\n",
    "* Fazer matriz de correlações\n",
    "\n",
    "4 Modelização"
   ]
  },
  {
   "cell_type": "markdown",
   "metadata": {},
   "source": [
    "# Obtenção, tratamento e Análise Exploratória dos dados sobre COVID-19 no Brasil"
   ]
  },
  {
   "cell_type": "markdown",
   "metadata": {},
   "source": [
    "# Preparação do Notebook"
   ]
  },
  {
   "cell_type": "markdown",
   "metadata": {},
   "source": [
    "* Importação das principais bibliotecas\n",
    "* Configuração das operações por default (estilos e tamanhos de gráficos)"
   ]
  },
  {
   "cell_type": "code",
   "execution_count": 1,
   "metadata": {},
   "outputs": [],
   "source": [
    "import geopandas as gpd"
   ]
  },
  {
   "cell_type": "code",
   "execution_count": 1,
   "metadata": {
    "code_folding": []
   },
   "outputs": [],
   "source": [
    "# importação de bibliotecas básicas\n",
    "\n",
    "import pandas as pd # Biblioteca para operação avançada com dados tabulares de diversos tipos\n",
    "import numpy as np # Biblioteca para operação com vetores de auto desempenho e um tipo por vez\n",
    "from matplotlib import use as mpl_use # Função Matplotlib que estabelece backend e precisa ser chamda antes do plt\n",
    "mpl_use('nbagg') # uso do backend \"nbagg\" para os gráficos terem paineis interativos\n",
    "import matplotlib.pyplot as plt # Biblioteca para geração de gráficos de menor nível de abstração\n",
    "import seaborn as sns # Biblioteca baseada em matplotlib para geração de gráficos e estilização, com maior nível de abstração\n",
    "#import geopandas as gpd # Biblioteca de análise geográfica\n",
    "import descartes # Dependência do Geopandas para poder gerar mapas\n",
    "import matplotlib \n",
    "# configurações\n",
    "\n",
    "# Configuração de DataFrame Pandas para formato numérico com duas casas decimais quando a coluna for float\n",
    "#pd.set_option('display.float_format', lambda x: '%.2f' % x)\n",
    "\n",
    "# Apresentação dos gráficos no interior das células\n",
    "%matplotlib inline \n",
    "plt.style.use('ggplot') # Apresentação dos gráficos\n",
    "\n",
    "# Códigos abaixo são configurações que deixo por opção, caso se tornem úteis em alguma operação\n",
    "# Configuração das Células para que apresentam múltiplos resultados em vez de apenas o último \n",
    "# InteractiveShell.ast_node_interactivity = \"all\"\n",
    "# sns.set() # Configuração de Gráficos para padrão de formatação básica da biblioteca Seaborn"
   ]
  },
  {
   "cell_type": "markdown",
   "metadata": {},
   "source": [
    "## Importação e Tratamento Preliminar dos Dados"
   ]
  },
  {
   "cell_type": "markdown",
   "metadata": {},
   "source": [
    "* Verificação da Estrutura dos dados\n",
    "* Observação da pertinência dos tipos\n",
    "* Identificação e tratamento dos dados nulos\n",
    "* Codificação de variáveis categóricas\n",
    "* Separação dos batches\n",
    "    * Estratificado\n",
    "    * Não Estratificado\n",
    "* Criar versão com regularização de escala\n",
    "\n",
    "\n",
    "Data"
   ]
  },
  {
   "cell_type": "markdown",
   "metadata": {},
   "source": [
    "### Função de Importação de Base de Dados e Geração do Data Frame df-covid19_br\n",
    "* Abaixo se encontra uma função colect_cases, que obtem os dados sobre COVID-19 compilados dos boletins e disponível em \"https://raw.githubusercontent.com/wcota/covid19br/master/cases-brazil-cities-time.csv\"\n",
    "    * Os dados são salvos em Pandas Data Frame\n",
    "    * Os nomes das colunas são corrigidos\n",
    "    * As duplicidades são eliminadas, pela retirada de várias linhas com totais\n",
    "\n",
    "Observações: É conveniente que, no futuro, a função tenha um tratamento para que as datas não estejam em formato texto"
   ]
  },
  {
   "cell_type": "code",
   "execution_count": 2,
   "metadata": {
    "code_folding": [
     0
    ]
   },
   "outputs": [],
   "source": [
    "def colect_cases(output=None, output_format='csv', correct_columns=True, correct_rows=True):\n",
    "    # Retrieves the notified cases in Brazilian boletins found in\n",
    "    # https://raw.githubusercontent.com/wcota/covid19br/master/cases-brazil-cities-time.csv\n",
    "    # correct_columns -> whether or not to rearrange the columns and rename them\n",
    "    # Correct_rows -> whether or not to remove the total cases by date, which would duplicate the values per day\n",
    "    # name_csv -> string withe name of the csv file to save the content of the Data Frame. If name_csv equals to None, no file is saved\n",
    "\n",
    "    # loads the CSV data into df_cases\n",
    "    df_cases = pd.read_csv(\n",
    "        'https://raw.githubusercontent.com/wcota/covid19br/master/cases-brazil-cities-time.csv',\n",
    "        parse_dates=True,\n",
    "        infer_datetime_format=True)\n",
    "\n",
    "    # if correct_columns == True, it rearranges the columns orders and renames them\n",
    "    if correct_columns == True:\n",
    "        df_cases = df_cases[['ibgeID', 'city', 'state', 'date', 'newCases', 'totalCases']].rename(\n",
    "            columns={'ibgeID': 'cod_mun', 'city': 'municipio', 'state': 'estado', 'date': 'data', 'newCases': 'novos_casos', 'totalCases': 'casos_total'})\n",
    "\n",
    "    # if correct_rows == True, it removes the rows that show the total cases by date, which would duplicate the values per day\n",
    "    if correct_rows == True:\n",
    "        filter_cases_total = df_cases.loc[df_cases.estado == 'TOTAL']\n",
    "        df_cases.drop(filter_cases_total.index, axis=0, inplace=True)\n",
    "\n",
    "    # removes the state name in the municipality column\n",
    "    df_cases.municipio = df_cases.municipio.apply(\n",
    "        lambda a_corrigir: a_corrigir.split('/')[0])\n",
    "\n",
    "    # if name_csv contains the name of a csv file, a file will be created in the current directory\n",
    "    # or in the specified directory\n",
    "    if output != None:\n",
    "        if output_format == 'csv':\n",
    "            df_cases.to_csv(output, encoding='utf-16')\n",
    "        if output_format == 'excel':\n",
    "            df_cases.to_excel(output, encoding='utf-16')\n",
    "\n",
    "    return df_cases"
   ]
  },
  {
   "cell_type": "markdown",
   "metadata": {},
   "source": [
    "### Importação, observação e tratamento preliminar dos dados\n",
    "\n",
    "* Criação do Data Frame df_covid_19_br\n",
    "* observação preliminar dos dados\n",
    "* identificação de sua estrutura de linhas e colunas"
   ]
  },
  {
   "cell_type": "markdown",
   "metadata": {},
   "source": [
    "**Data Frame df_covid_19_br**"
   ]
  },
  {
   "cell_type": "code",
   "execution_count": 3,
   "metadata": {
    "hide_input": true
   },
   "outputs": [
    {
     "ename": "NameError",
     "evalue": "name 'pd' is not defined",
     "output_type": "error",
     "traceback": [
      "\u001b[1;31m---------------------------------------------------------------------------\u001b[0m",
      "\u001b[1;31mNameError\u001b[0m                                 Traceback (most recent call last)",
      "\u001b[1;32m<ipython-input-3-7b59dd2546a8>\u001b[0m in \u001b[0;36m<module>\u001b[1;34m\u001b[0m\n\u001b[1;32m----> 1\u001b[1;33m \u001b[0mdf_covid_19_br\u001b[0m \u001b[1;33m=\u001b[0m \u001b[0mcolect_cases\u001b[0m\u001b[1;33m(\u001b[0m\u001b[1;33m)\u001b[0m\u001b[1;33m\u001b[0m\u001b[1;33m\u001b[0m\u001b[0m\n\u001b[0m\u001b[0;32m      2\u001b[0m \u001b[0mdf_covid_19_br\u001b[0m\u001b[1;33m\u001b[0m\u001b[1;33m\u001b[0m\u001b[0m\n",
      "\u001b[1;32m<ipython-input-2-33e61287c26b>\u001b[0m in \u001b[0;36mcolect_cases\u001b[1;34m(output, output_format, correct_columns, correct_rows)\u001b[0m\n\u001b[0;32m      7\u001b[0m \u001b[1;33m\u001b[0m\u001b[0m\n\u001b[0;32m      8\u001b[0m     \u001b[1;31m# loads the CSV data into df_cases\u001b[0m\u001b[1;33m\u001b[0m\u001b[1;33m\u001b[0m\u001b[1;33m\u001b[0m\u001b[0m\n\u001b[1;32m----> 9\u001b[1;33m     df_cases = pd.read_csv(\n\u001b[0m\u001b[0;32m     10\u001b[0m         \u001b[1;34m'https://raw.githubusercontent.com/wcota/covid19br/master/cases-brazil-cities-time.csv'\u001b[0m\u001b[1;33m,\u001b[0m\u001b[1;33m\u001b[0m\u001b[1;33m\u001b[0m\u001b[0m\n\u001b[0;32m     11\u001b[0m         \u001b[0mparse_dates\u001b[0m\u001b[1;33m=\u001b[0m\u001b[1;32mTrue\u001b[0m\u001b[1;33m,\u001b[0m\u001b[1;33m\u001b[0m\u001b[1;33m\u001b[0m\u001b[0m\n",
      "\u001b[1;31mNameError\u001b[0m: name 'pd' is not defined"
     ]
    }
   ],
   "source": [
    "df_covid_19_br = colect_cases()\n",
    "df_covid_19_br"
   ]
  },
  {
   "cell_type": "markdown",
   "metadata": {
    "variables": {
     "len(df_covid_19_br.columns)": {},
     "len(df_covid_19_br.index)": {}
    }
   },
   "source": [
    "**informações da estrutura do Data Frame df_covid_19_br**<br>\n",
    "O Data Frame df_covid_19_br conta com {{len(df_covid_19_br.index)}} linhas e {{len(df_covid_19_br.columns)}} colunas\n",
    "A estrutura do df_covid_19_br não é adequada para importação em formato shapefile, necessário para geração de cartogramas "
   ]
  },
  {
   "cell_type": "code",
   "execution_count": 4,
   "metadata": {
    "hide_input": true,
    "variables": {
     "df_covid_19_br.rows": "<p><strong>AttributeError</strong>: &#39;DataFrame&#39; object has no attribute &#39;rows&#39;</p>\n"
    }
   },
   "outputs": [
    {
     "ename": "NameError",
     "evalue": "name 'df_covid_19_br' is not defined",
     "output_type": "error",
     "traceback": [
      "\u001b[1;31m---------------------------------------------------------------------------\u001b[0m",
      "\u001b[1;31mNameError\u001b[0m                                 Traceback (most recent call last)",
      "\u001b[1;32m<ipython-input-4-398722c8846a>\u001b[0m in \u001b[0;36m<module>\u001b[1;34m\u001b[0m\n\u001b[1;32m----> 1\u001b[1;33m \u001b[0mdf_covid_19_br\u001b[0m\u001b[1;33m.\u001b[0m\u001b[0minfo\u001b[0m\u001b[1;33m(\u001b[0m\u001b[1;33m)\u001b[0m\u001b[1;33m\u001b[0m\u001b[1;33m\u001b[0m\u001b[0m\n\u001b[0m",
      "\u001b[1;31mNameError\u001b[0m: name 'df_covid_19_br' is not defined"
     ]
    }
   ],
   "source": [
    "df_covid_19_br.info()"
   ]
  },
  {
   "cell_type": "markdown",
   "metadata": {
    "hide_input": true
   },
   "source": [
    "**Dados sem associação com municípios**<br>\n",
    "Algumas linhas contam o número de casos, mas sem associar a seus municípios, colocando-os como Fora do Estado, Estrangeiro e No-INFO"
   ]
  },
  {
   "cell_type": "code",
   "execution_count": 5,
   "metadata": {
    "hide_input": false
   },
   "outputs": [
    {
     "ename": "NameError",
     "evalue": "name 'df_covid_19_br' is not defined",
     "output_type": "error",
     "traceback": [
      "\u001b[1;31m---------------------------------------------------------------------------\u001b[0m",
      "\u001b[1;31mNameError\u001b[0m                                 Traceback (most recent call last)",
      "\u001b[1;32m<ipython-input-5-7f983c16291b>\u001b[0m in \u001b[0;36m<module>\u001b[1;34m\u001b[0m\n\u001b[1;32m----> 1\u001b[1;33m \u001b[0mfilter_len_cod_mun\u001b[0m \u001b[1;33m=\u001b[0m \u001b[0mdf_covid_19_br\u001b[0m\u001b[1;33m.\u001b[0m\u001b[0mcod_mun\u001b[0m\u001b[1;33m.\u001b[0m\u001b[0mastype\u001b[0m\u001b[1;33m(\u001b[0m\u001b[1;34m'str'\u001b[0m\u001b[1;33m)\u001b[0m\u001b[1;33m.\u001b[0m\u001b[0mstr\u001b[0m\u001b[1;33m.\u001b[0m\u001b[0mlen\u001b[0m\u001b[1;33m(\u001b[0m\u001b[1;33m)\u001b[0m \u001b[1;33m==\u001b[0m \u001b[1;36m2\u001b[0m\u001b[1;33m\u001b[0m\u001b[1;33m\u001b[0m\u001b[0m\n\u001b[0m\u001b[0;32m      2\u001b[0m \u001b[0mfilter_last_date\u001b[0m \u001b[1;33m=\u001b[0m \u001b[0mdf_covid_19_br\u001b[0m\u001b[1;33m.\u001b[0m\u001b[0mdata\u001b[0m \u001b[1;33m==\u001b[0m \u001b[0mdf_covid_19_br\u001b[0m\u001b[1;33m.\u001b[0m\u001b[0mdata\u001b[0m\u001b[1;33m.\u001b[0m\u001b[0mmax\u001b[0m\u001b[1;33m(\u001b[0m\u001b[1;33m)\u001b[0m\u001b[1;33m\u001b[0m\u001b[1;33m\u001b[0m\u001b[0m\n\u001b[0;32m      3\u001b[0m \u001b[1;33m\u001b[0m\u001b[0m\n\u001b[0;32m      4\u001b[0m \u001b[0mdf_covid_19_br\u001b[0m\u001b[1;33m[\u001b[0m\u001b[0mfilter_len_cod_mun\u001b[0m\u001b[1;33m]\u001b[0m\u001b[1;33m.\u001b[0m\u001b[0mhead\u001b[0m\u001b[1;33m(\u001b[0m\u001b[1;33m)\u001b[0m\u001b[1;33m\u001b[0m\u001b[1;33m\u001b[0m\u001b[0m\n",
      "\u001b[1;31mNameError\u001b[0m: name 'df_covid_19_br' is not defined"
     ]
    }
   ],
   "source": [
    "filter_len_cod_mun = df_covid_19_br.cod_mun.astype('str').str.len() == 2\n",
    "filter_last_date = df_covid_19_br.data == df_covid_19_br.data.max()\n",
    "\n",
    "df_covid_19_br[filter_len_cod_mun].head()"
   ]
  },
  {
   "cell_type": "code",
   "execution_count": null,
   "metadata": {
    "hide_input": false
   },
   "outputs": [],
   "source": [
    "df_covid_19_br[filter_len_cod_mun].municipio.value_counts()"
   ]
  },
  {
   "cell_type": "markdown",
   "metadata": {},
   "source": [
    "**verificação de dados faltantes**\n",
    "\n",
    "O heatmap abaixo e a série de dados adiante mostram que não existe célula em branco no Data Frame df_covid_19_br"
   ]
  },
  {
   "cell_type": "code",
   "execution_count": 6,
   "metadata": {
    "hide_input": true
   },
   "outputs": [
    {
     "ename": "NameError",
     "evalue": "name 'sns' is not defined",
     "output_type": "error",
     "traceback": [
      "\u001b[1;31m---------------------------------------------------------------------------\u001b[0m",
      "\u001b[1;31mNameError\u001b[0m                                 Traceback (most recent call last)",
      "\u001b[1;32m<ipython-input-6-89b0babf1690>\u001b[0m in \u001b[0;36m<module>\u001b[1;34m\u001b[0m\n\u001b[0;32m      1\u001b[0m \u001b[1;31m#gráfico heatmap para identificação do padrão de distribuição dos valores nulos no Data Frame\u001b[0m\u001b[1;33m\u001b[0m\u001b[1;33m\u001b[0m\u001b[1;33m\u001b[0m\u001b[0m\n\u001b[1;32m----> 2\u001b[1;33m \u001b[0msns\u001b[0m\u001b[1;33m.\u001b[0m\u001b[0mheatmap\u001b[0m\u001b[1;33m(\u001b[0m\u001b[0mdf_covid_19_br\u001b[0m\u001b[1;33m.\u001b[0m\u001b[0misnull\u001b[0m\u001b[1;33m(\u001b[0m\u001b[1;33m)\u001b[0m\u001b[1;33m,\u001b[0m \u001b[0mcbar\u001b[0m\u001b[1;33m=\u001b[0m\u001b[1;32mFalse\u001b[0m\u001b[1;33m)\u001b[0m\u001b[1;33m;\u001b[0m\u001b[1;33m\u001b[0m\u001b[1;33m\u001b[0m\u001b[0m\n\u001b[0m",
      "\u001b[1;31mNameError\u001b[0m: name 'sns' is not defined"
     ]
    }
   ],
   "source": [
    "#gráfico heatmap para identificação do padrão de distribuição dos valores nulos no Data Frame\n",
    "sns.heatmap(df_covid_19_br.isnull(), cbar=False); "
   ]
  },
  {
   "cell_type": "code",
   "execution_count": null,
   "metadata": {
    "hide_input": true
   },
   "outputs": [],
   "source": [
    "df_covid_19_br.isnull().sum()"
   ]
  },
  {
   "cell_type": "code",
   "execution_count": null,
   "metadata": {},
   "outputs": [],
   "source": [
    "dic_data_inicial = {}\n",
    "cod_municipios = df_covid_19_br[~filter_len_cod_mun].cod_mun.unique()\n",
    "for codigo in cod_municipios:\n",
    "    data_inicial = df_covid_19_br[df_covid_19_br.cod_mun == codigo]['data'].min()\n",
    "    dic_data_inicial[codigo] = data_inicial"
   ]
  },
  {
   "cell_type": "code",
   "execution_count": null,
   "metadata": {},
   "outputs": [],
   "source": [
    "df_data_primeiro_caso = pd.DataFrame(data=dic_data_inicial.values(), index=dic_data_inicial.keys(), columns = ['data_primeiro_caso'])"
   ]
  },
  {
   "cell_type": "code",
   "execution_count": null,
   "metadata": {},
   "outputs": [],
   "source": [
    "df_data_primeiro_caso"
   ]
  },
  {
   "cell_type": "code",
   "execution_count": null,
   "metadata": {},
   "outputs": [],
   "source": []
  },
  {
   "cell_type": "markdown",
   "metadata": {},
   "source": [
    "### Geração do Shapefile com os dados de CoronaVirus"
   ]
  },
  {
   "cell_type": "code",
   "execution_count": 7,
   "metadata": {
    "code_folding": [
     0
    ]
   },
   "outputs": [],
   "source": [
    "def preparing_shape_data(df):\n",
    "    \n",
    "    \n",
    "    # retira os casos do estado que não estão associados a municipios\n",
    "    filter_len_cod_mun = df.cod_mun.astype('str').str.len() == 2 #filtro de cod_mun de apenas dois caracteres\n",
    "    df = df[~filter_len_cod_mun] # Retira do Data Frame df as linhas em que cod_mun tem apenas dois caracteres \n",
    "    \n",
    "    # pivoteia o df, com cod_mun na linha, datas nas colunas e casos totais como valores\n",
    "    df = df[['cod_mun',\n",
    "              'data',\n",
    "              'casos_total']].pivot_table(index='cod_mun', columns='data', values='casos_total')\n",
    "    \n",
    "    # corrige o nome das colunas\n",
    "    list_new_column_names = []\n",
    "    for old_name in df.columns:\n",
    "        new_name = 'dia' + old_name.split('-')[2]+ old_name.split('-')[1]\n",
    "        list_new_column_names.append(new_name)\n",
    "    df.columns = list_new_column_names\n",
    "    \n",
    "    \n",
    "    \n",
    "    #list_new_column_names = []\n",
    "    #for old_column_name in df.columns:\n",
    "    #    new_name = 'dia' + old_column_name.split('-')[1] + old_column_name.split('-')[0]\n",
    "    #    list_new_column_names.append(new_name)\n",
    "    #df.columns = list_new_column_names\n",
    "    \n",
    "    # insere 0 nos casos em que o valores são nulos\n",
    "    df.fillna(0, inplace=True)\n",
    "    \n",
    "    # transforma os dados em integers\n",
    "    \n",
    "    df = df.astype('int32')\n",
    "    \n",
    "    \n",
    "    return df"
   ]
  },
  {
   "cell_type": "code",
   "execution_count": 8,
   "metadata": {},
   "outputs": [
    {
     "ename": "NameError",
     "evalue": "name 'df_covid_19_br' is not defined",
     "output_type": "error",
     "traceback": [
      "\u001b[1;31m---------------------------------------------------------------------------\u001b[0m",
      "\u001b[1;31mNameError\u001b[0m                                 Traceback (most recent call last)",
      "\u001b[1;32m<ipython-input-8-cfefa25868d0>\u001b[0m in \u001b[0;36m<module>\u001b[1;34m\u001b[0m\n\u001b[0;32m      1\u001b[0m \u001b[1;31m# Gera o Data Frame com os dados de COVID no formato adequado para importação em Geo Data Frame\u001b[0m\u001b[1;33m\u001b[0m\u001b[1;33m\u001b[0m\u001b[1;33m\u001b[0m\u001b[0m\n\u001b[1;32m----> 2\u001b[1;33m \u001b[0mdf_covid_19_br_to_shape\u001b[0m \u001b[1;33m=\u001b[0m \u001b[0mpreparing_shape_data\u001b[0m\u001b[1;33m(\u001b[0m\u001b[0mdf_covid_19_br\u001b[0m\u001b[1;33m)\u001b[0m\u001b[1;33m\u001b[0m\u001b[1;33m\u001b[0m\u001b[0m\n\u001b[0m",
      "\u001b[1;31mNameError\u001b[0m: name 'df_covid_19_br' is not defined"
     ]
    }
   ],
   "source": [
    "# Gera o Data Frame com os dados de COVID no formato adequado para importação em Geo Data Frame\n",
    "df_covid_19_br_to_shape = preparing_shape_data(df_covid_19_br)"
   ]
  },
  {
   "cell_type": "code",
   "execution_count": null,
   "metadata": {},
   "outputs": [],
   "source": [
    "# visualização do Data Frame com os dados para importação em Geo Data Frame\n",
    "df_covid_19_br_to_shape"
   ]
  },
  {
   "cell_type": "code",
   "execution_count": null,
   "metadata": {},
   "outputs": [],
   "source": [
    "# Cria o Geo Data Frame com base na shapefile de todos os municipios do Brasil\n",
    "gdf_municipios_br = gpd.read_file('BRMUE250GC_SIR.shp', encoding='utf-8')\n",
    "gdf_municipios_br"
   ]
  },
  {
   "cell_type": "code",
   "execution_count": null,
   "metadata": {},
   "outputs": [],
   "source": [
    "# Verifica a estrutura do Geo Data Frame\n",
    "gdf_municipios_br.info() "
   ]
  },
  {
   "cell_type": "code",
   "execution_count": null,
   "metadata": {},
   "outputs": [],
   "source": [
    "# Renomeia as colunas do Geo Data Frame\n",
    "gdf_municipios_br.columns = ['municipio', 'cod_mun', 'geometry']"
   ]
  },
  {
   "cell_type": "code",
   "execution_count": null,
   "metadata": {},
   "outputs": [],
   "source": [
    "# Altera o tipo da coluna cod_mun no Geo Data Frame para integer\n",
    "gdf_municipios_br.cod_mun  = pd.to_numeric(gdf_municipios_br.cod_mun, downcast='integer')"
   ]
  },
  {
   "cell_type": "code",
   "execution_count": null,
   "metadata": {},
   "outputs": [],
   "source": [
    "# Expande o Data Frame df_covid_19_br_to_shape para que tenha os mesmos indexes encontrados no Geo Data Frame\n",
    "\n",
    "df_covid_19_br_to_shape = df_covid_19_br_to_shape.reindex(gdf_municipios_br.cod_mun.values)"
   ]
  },
  {
   "cell_type": "code",
   "execution_count": null,
   "metadata": {},
   "outputs": [],
   "source": [
    "# Faz a junção entre Geo Data Frame e o Data Frame \n",
    "\n",
    "gdf_municipios_br = gdf_municipios_br.merge(df_covid_19_br_to_shape, on='cod_mun')"
   ]
  },
  {
   "cell_type": "code",
   "execution_count": null,
   "metadata": {},
   "outputs": [],
   "source": [
    "gdf_municipios_br.iloc[:, 3:] = gdf_municipios_br.iloc[:, 3:].fillna(0)"
   ]
  },
  {
   "cell_type": "code",
   "execution_count": null,
   "metadata": {},
   "outputs": [],
   "source": [
    "gdf_municipios_br.nlargest(n=10, columns='dia3003')"
   ]
  },
  {
   "cell_type": "code",
   "execution_count": null,
   "metadata": {},
   "outputs": [],
   "source": [
    "gdf_municipios_br[gdf_municipios_br['dia2703'] != 0].plot(column='dia2703', figsize=(15, 10))"
   ]
  },
  {
   "cell_type": "code",
   "execution_count": null,
   "metadata": {},
   "outputs": [],
   "source": [
    "gdf_municipios_br.to_file(driver = 'ESRI Shapefile', filename = 'BRMUE250GC_SIR_alterado.shp')"
   ]
  },
  {
   "cell_type": "code",
   "execution_count": null,
   "metadata": {},
   "outputs": [],
   "source": [
    "df_fatores_geograficos = pd.read_csv('base_compilada_de_fatores_geograficos.csv', delimiter=';', encoding='utf-8')"
   ]
  },
  {
   "cell_type": "code",
   "execution_count": null,
   "metadata": {},
   "outputs": [],
   "source": [
    "df_fatores_geograficos.info()"
   ]
  },
  {
   "cell_type": "code",
   "execution_count": null,
   "metadata": {},
   "outputs": [],
   "source": [
    "df_fatores_geograficos.describe()"
   ]
  },
  {
   "cell_type": "code",
   "execution_count": null,
   "metadata": {},
   "outputs": [],
   "source": [
    "df_fatores_geograficos.set_index('cod_mun', inplace=True)"
   ]
  },
  {
   "cell_type": "code",
   "execution_count": null,
   "metadata": {},
   "outputs": [],
   "source": [
    "df_fatores_geograficos = df_fatores_geograficos.join(df_covid_19_br_to_shape, on='cod_mun')"
   ]
  },
  {
   "cell_type": "code",
   "execution_count": null,
   "metadata": {},
   "outputs": [],
   "source": [
    "df_fatores_geograficos.iloc[:, 10:] = df_fatores_geograficos.iloc[:, 10:].fillna(0)"
   ]
  },
  {
   "cell_type": "code",
   "execution_count": null,
   "metadata": {},
   "outputs": [],
   "source": [
    "df_fatores_geograficos = df_fatores_geograficos.join(df_data_primeiro_caso, on='cod_mun')"
   ]
  },
  {
   "cell_type": "code",
   "execution_count": null,
   "metadata": {},
   "outputs": [],
   "source": [
    "df_fatores_geograficos.data_primeiro_caso = pd.to_datetime(df_fatores_geograficos.data_primeiro_caso)"
   ]
  },
  {
   "cell_type": "code",
   "execution_count": null,
   "metadata": {},
   "outputs": [],
   "source": [
    "df_fatores_geograficos.info()"
   ]
  },
  {
   "cell_type": "code",
   "execution_count": null,
   "metadata": {},
   "outputs": [],
   "source": [
    "df_fatores_geograficos['data_padrao'] = pd.to_datetime('2020-02-24')\n",
    "\n",
    "df_fatores_geograficos['dias_contaminação_referencia'] = df_fatores_geograficos['data_primeiro_caso'].sub(df_fatores_geograficos['data_padrao'], axis=0)\n",
    "\n",
    "\n",
    "df_fatores_geograficos['dias_contaminação_referencia'] = df_fatores_geograficos['dias_contaminação_referencia'] / np.timedelta64(1, 'D')\n"
   ]
  },
  {
   "cell_type": "code",
   "execution_count": null,
   "metadata": {},
   "outputs": [],
   "source": [
    "df_fatores_geograficos"
   ]
  },
  {
   "cell_type": "code",
   "execution_count": null,
   "metadata": {},
   "outputs": [],
   "source": [
    "df_fatores_geograficos.columns"
   ]
  },
  {
   "cell_type": "code",
   "execution_count": null,
   "metadata": {},
   "outputs": [],
   "source": [
    "corr = df_fatores_geograficos[['pop2019', \n",
    "                        'pib2017milreais', \n",
    "                        'export_fob_2019',\n",
    "                        'import_fob_2019',\n",
    "                        'pip_per_capita17',\n",
    "                        'hierarquia',\n",
    "                        'dia2502',\n",
    "                        'dias_contaminação_referencia']].corr()"
   ]
  },
  {
   "cell_type": "code",
   "execution_count": null,
   "metadata": {},
   "outputs": [],
   "source": [
    "corr"
   ]
  },
  {
   "cell_type": "code",
   "execution_count": null,
   "metadata": {},
   "outputs": [],
   "source": [
    "sns.heatmap(corr, \n",
    "        xticklabels=corr.columns,\n",
    "        yticklabels=corr.columns, cmap = sns.diverging_palette(250, 10, as_cmap=True))"
   ]
  },
  {
   "cell_type": "markdown",
   "metadata": {},
   "source": [
    "**arranjos populacionais**"
   ]
  },
  {
   "cell_type": "code",
   "execution_count": null,
   "metadata": {},
   "outputs": [],
   "source": [
    "df_arranjos_populacionais = pd.read_csv('arranjo_populacional.csv', sep=';', decimal=',')"
   ]
  },
  {
   "cell_type": "code",
   "execution_count": null,
   "metadata": {},
   "outputs": [],
   "source": [
    "# insere a coluna peso\n",
    "df_arranjos_populacionais['peso_integracao_interna'] = 0\n",
    "\n",
    "# calcula o peso populacional de cada municipio no conjunto\n",
    "for arranjo in df_arranjos_populacionais.arranjo_populacional.unique():\n",
    "    filtro_arranjo_pop = df_arranjos_populacionais.arranjo_populacional == arranjo\n",
    "    df_arranjos_populacionais.loc[:,'peso_integracao_interna'].loc[filtro_arranjo_pop] = df_arranjos_populacionais.loc[filtro_arranjo_pop].pop_2019 / df_arranjos_populacionais.loc[filtro_arranjo_pop].pop_2019.sum();"
   ]
  },
  {
   "cell_type": "code",
   "execution_count": null,
   "metadata": {},
   "outputs": [],
   "source": [
    "# insere a coluna peso\n",
    "df_arranjos_populacionais['peso_integracao_geral'] = 0\n",
    "\n",
    "# calcula o peso populacional de cada municipio no conjunto\n",
    "for arranjo in df_arranjos_populacionais.arranjo_populacional.unique():\n",
    "    filtro_arranjo_pop = df_arranjos_populacionais.arranjo_populacional == arranjo\n",
    "    df_arranjos_populacionais.loc[:,'peso_integracao_geral'].loc[filtro_arranjo_pop] = df_arranjos_populacionais.loc[filtro_arranjo_pop].loc[:,'pessoas_em_pendularidade_trabalho'].sum() / df_arranjos_populacionais.loc[:,'pessoas_em_pendularidade_trabalho'].sum();"
   ]
  },
  {
   "cell_type": "code",
   "execution_count": null,
   "metadata": {},
   "outputs": [],
   "source": [
    "df_fatores_geograficos = df_fatores_geograficos.join(df_arranjos_populacionais.loc[:,['cod_mun', 'peso_integracao_interna', 'peso_integracao_geral']], on='cod_mun')"
   ]
  },
  {
   "cell_type": "code",
   "execution_count": null,
   "metadata": {},
   "outputs": [],
   "source": [
    "df_fatores_geograficos.to_csv('fatores_total.csv', sep=';', decimal=',', encoding='utf-16')"
   ]
  },
  {
   "cell_type": "code",
   "execution_count": null,
   "metadata": {},
   "outputs": [],
   "source": [
    "df_arranjos_populacionais.loc[:,['cod_mun', 'peso_integracao_interna', 'peso_integracao_geral']]"
   ]
  },
  {
   "cell_type": "code",
   "execution_count": null,
   "metadata": {},
   "outputs": [],
   "source": [
    "df_arranjos_populacionais.loc[:,'peso_integracao_geral'].sum()"
   ]
  },
  {
   "cell_type": "code",
   "execution_count": null,
   "metadata": {},
   "outputs": [],
   "source": [
    "next(iter_test)[1].values[0]"
   ]
  },
  {
   "cell_type": "code",
   "execution_count": null,
   "metadata": {},
   "outputs": [],
   "source": [
    "filtro_arranjo_pop = df_arranjos_populacionais.arranjo_populacional == next(iter_test)[1].values[0]\n",
    "df_arranjos_populacionais[filtro_arranjo_pop]"
   ]
  },
  {
   "cell_type": "code",
   "execution_count": null,
   "metadata": {},
   "outputs": [],
   "source": [
    "df_arranjos_populacionais['peso'] = 0"
   ]
  },
  {
   "cell_type": "code",
   "execution_count": null,
   "metadata": {},
   "outputs": [],
   "source": [
    "filtro_arranjo_pop = df_arranjos_populacionais.arranjo_populacional == 'São José do Rio Preto/SP'\n",
    "df_arranjos_populacionais.loc[:,'peso'].sum()"
   ]
  },
  {
   "cell_type": "code",
   "execution_count": null,
   "metadata": {},
   "outputs": [],
   "source": [
    "filtro_arranjo_pop = df_arranjos_populacionais.arranjo_populacional == 'Antônio Prado/RS'\n",
    "\n",
    "#df_arranjos_populacionais.loc[filtro_arranjo_pop].loc[:,'peso'] = \n",
    "\n",
    "df_arranjos_populacionais.loc[filtro_arranjo_pop].pop_2019 / df_arranjos_populacionais.loc[filtro_arranjo_pop].pop_2019.sum()\n",
    "\n",
    "\n",
    "#df_arranjos_populacionais[filtro_arranjo_pop]['p'] = df_arranjos_populacionais[filtro_arranjo_pop].pop_2019.sum()"
   ]
  },
  {
   "cell_type": "code",
   "execution_count": null,
   "metadata": {},
   "outputs": [],
   "source": [
    "df_arranjos_populacionais[filtro_arranjo_pop]['peso']"
   ]
  },
  {
   "cell_type": "code",
   "execution_count": null,
   "metadata": {},
   "outputs": [],
   "source": [
    "df_arranjos_populacionais.loc"
   ]
  },
  {
   "cell_type": "code",
   "execution_count": null,
   "metadata": {},
   "outputs": [],
   "source": []
  },
  {
   "cell_type": "code",
   "execution_count": null,
   "metadata": {},
   "outputs": [],
   "source": []
  },
  {
   "cell_type": "code",
   "execution_count": null,
   "metadata": {},
   "outputs": [],
   "source": []
  },
  {
   "cell_type": "code",
   "execution_count": null,
   "metadata": {},
   "outputs": [],
   "source": []
  },
  {
   "cell_type": "code",
   "execution_count": null,
   "metadata": {},
   "outputs": [],
   "source": []
  },
  {
   "cell_type": "code",
   "execution_count": null,
   "metadata": {},
   "outputs": [],
   "source": []
  },
  {
   "cell_type": "code",
   "execution_count": null,
   "metadata": {},
   "outputs": [],
   "source": [
    "fig, ax = plt.subplots(nrows=1,ncols=2, figsize=(20,8))\n",
    "ax[0].hist(df_fatores_geograficos.pop2019, bins=10)\n",
    "ax[1].scatter(x=np.log(df_fatores_geograficos.pop2019[df_fatores_geograficos.dias_contaminação_referencia.notna()]), y=df_fatores_geograficos.dias_contaminação_referencia[df_fatores_geograficos.dias_contaminação_referencia.notna()]);\n",
    "ax[1].set_title('First Plot')\n",
    "ax[1].set_title('First Plot')"
   ]
  },
  {
   "cell_type": "code",
   "execution_count": null,
   "metadata": {},
   "outputs": [],
   "source": [
    "filtro_dias = df_fatores_geograficos.dias_contaminação_referencia >= 0"
   ]
  },
  {
   "cell_type": "code",
   "execution_count": null,
   "metadata": {},
   "outputs": [],
   "source": [
    "fig, ax = plt.subplots(nrows=1,ncols=2, figsize=(20,8))\n",
    "\n",
    "ax[0].scatter(y=df_fatores_geograficos['pop2019'][filtro_dias], x=df_fatores_geograficos.dias_contaminação_referencia[filtro_dias]);\n",
    "ax[0].set_ylabel('População em 2019')\n",
    "ax[0].ticklabel_format(useOffset=False, style='plain')\n",
    "ax[0].set_xlabel('Data da primeira notificação')\n",
    "ax[0].set_ylabel('População em 2019')\n",
    "\n",
    "\n",
    "ax[1].scatter(y=np.log(df_fatores_geograficos['pop2019'][filtro_dias]), x=df_fatores_geograficos.dias_contaminação_referencia[filtro_dias]);\n",
    "ax[1].set_xlabel('Data da primeira notificação')\n",
    "ax[1].set_ylabel('Log(População em 2019)')\n",
    "ax[1].set_xlabel('Data da primeira notificação');"
   ]
  },
  {
   "cell_type": "code",
   "execution_count": null,
   "metadata": {},
   "outputs": [],
   "source": [
    "fig, ax = plt.subplots(nrows=1,ncols=2, figsize=(20,8))\n",
    "\n",
    "ax[0].scatter(y=df_fatores_geograficos['pib2017milreais'][filtro_dias], x=df_fatores_geograficos.dias_contaminação_referencia[filtro_dias]);\n",
    "ax[0].set_ylabel('PIB Municipal em 2017 (R$1.000)')\n",
    "ax[0].ticklabel_format(useOffset=False, style='plain')\n",
    "ax[0].set_xlabel('Data da primeira notificação')\n",
    "ax[0].set_ylabel('PIB Municipal em 2017')\n",
    "\n",
    "\n",
    "ax[1].scatter(y=np.log(df_fatores_geograficos['pib2017milreais'][filtro_dias]), x=df_fatores_geograficos.dias_contaminação_referencia[filtro_dias]);\n",
    "ax[1].set_xlabel('Data da primeira notificação')\n",
    "ax[1].set_ylabel('Log(PIB Municipal em 2017)')\n",
    "ax[1].set_xlabel('Data da primeira notificação');"
   ]
  },
  {
   "cell_type": "code",
   "execution_count": null,
   "metadata": {
    "hide_input": false
   },
   "outputs": [],
   "source": [
    "fig, ax = plt.subplots(nrows=1,ncols=2, figsize=(20,8))\n",
    "\n",
    "ax[0].scatter(y=df_fatores_geograficos['pip_per_capita17'][filtro_dias], x=df_fatores_geograficos.dias_contaminação_referencia[filtro_dias]);\n",
    "ax[0].set_ylabel('PIB per capita em 2017(R$)')\n",
    "ax[0].ticklabel_format(useOffset=False, style='plain')\n",
    "ax[0].set_xlabel('Data da primeira notificação')\n",
    "ax[0].set_ylabel('População em 2019')\n",
    "\n",
    "\n",
    "ax[1].scatter(y=np.log(df_fatores_geograficos['pip_per_capita17'][filtro_dias]), x=df_fatores_geograficos.dias_contaminação_referencia[filtro_dias]);\n",
    "ax[1].set_xlabel('Data da primeira notificação')\n",
    "ax[1].set_ylabel('Log(PIB per capita em 2017)')\n",
    "ax[1].set_xlabel('Data da primeira notificação');"
   ]
  },
  {
   "cell_type": "code",
   "execution_count": null,
   "metadata": {},
   "outputs": [],
   "source": [
    "fig, ax = plt.subplots(nrows=1,ncols=2, figsize=(20,8))\n",
    "\n",
    "ax[0].scatter(y=df_fatores_geograficos['export_fob_2019'][filtro_dias], x=df_fatores_geograficos.dias_contaminação_referencia[filtro_dias]);\n",
    "ax[0].set_ylabel('Exportações em 2019(FOB)')\n",
    "ax[0].ticklabel_format(useOffset=False, style='plain')\n",
    "ax[0].set_xlabel('Data da primeira notificação')\n",
    "ax[0].set_ylabel('Exportações em 2019 (FOB)')\n",
    "\n",
    "\n",
    "ax[1].scatter(y=np.log(df_fatores_geograficos['export_fob_2019'][filtro_dias]), x=df_fatores_geograficos.dias_contaminação_referencia[filtro_dias]);\n",
    "ax[1].set_xlabel('Data da primeira notificação')\n",
    "ax[1].set_ylabel('Log(Exportações em 2019)')\n",
    "ax[1].set_xlabel('Data da primeira notificação');"
   ]
  },
  {
   "cell_type": "code",
   "execution_count": null,
   "metadata": {},
   "outputs": [],
   "source": [
    "fig, ax = plt.subplots(nrows=1,ncols=2, figsize=(20,8))\n",
    "\n",
    "ax[0].scatter(y=df_fatores_geograficos['import_fob_2019'][filtro_dias], x=df_fatores_geograficos.dias_contaminação_referencia[filtro_dias]);\n",
    "ax[0].set_ylabel('Importações em 2019(FOB)')\n",
    "ax[0].ticklabel_format(useOffset=False, style='plain')\n",
    "ax[0].set_xlabel('Data da primeira notificação')\n",
    "ax[0].set_ylabel('População em 2019')\n",
    "\n",
    "\n",
    "ax[1].scatter(y=np.log(df_fatores_geograficos['import_fob_2019'][filtro_dias]), x=df_fatores_geograficos.dias_contaminação_referencia[filtro_dias]);\n",
    "ax[1].set_xlabel('Data da primeira notificação')\n",
    "ax[1].set_ylabel('Log(Importações em 2019)')\n",
    "ax[1].set_xlabel('Data da primeira notificação');"
   ]
  },
  {
   "cell_type": "code",
   "execution_count": null,
   "metadata": {},
   "outputs": [],
   "source": [
    "plt.scatter?"
   ]
  },
  {
   "cell_type": "code",
   "execution_count": null,
   "metadata": {},
   "outputs": [],
   "source": []
  },
  {
   "cell_type": "code",
   "execution_count": null,
   "metadata": {},
   "outputs": [],
   "source": [
    "fig, ax = plt.subplots(nrows=1,ncols=1, figsize=(20,8))\n",
    "\n",
    "color_map = plt.cm.get_cmap('magma')\n",
    "color_map = color_map.reversed()\n",
    "\n",
    "plt.scatter(c=df_fatores_geograficos['hierarquia'][filtro_dias], \n",
    "            x=df_fatores_geograficos.dias_contaminação_referencia[filtro_dias],\n",
    "            y=np.log(df_fatores_geograficos.pop2019[filtro_dias]),\n",
    "            alpha=0.5,\n",
    "            cmap=color_map,\n",
    "            s=300);\n",
    "\n",
    "\n",
    "teste = plt.colorbar(ticks=[1, 2, 3, 4, 5, 6, 7, 8, 9, 10,  11])\n",
    "# teste.set_label('Hierarquia Urbana', rotation=270)\n",
    "teste.ax.set_yticklabels(['Centro Local', 'Centro de Zona B', 'Centro de Zona A', 'Capital Sub-regional B', 'Capital Sub-regional A', 'Capital Regional C', 'Capital Regional B', 'Capital Regional A', 'Metrópole', 'Metrópole Nacional', 'Grande Metrópole Nacional'])  # horizontal colorbar\n",
    "\n",
    "plt.ticklabel_format(useOffset=False, style='plain')\n",
    "plt.xlabel('Data da primeira notificação')\n",
    "plt.ylabel('População em 2019');"
   ]
  },
  {
   "cell_type": "code",
   "execution_count": null,
   "metadata": {},
   "outputs": [],
   "source": [
    "plt.legend?"
   ]
  },
  {
   "cell_type": "code",
   "execution_count": null,
   "metadata": {},
   "outputs": [],
   "source": [
    "SMALL_SIZE = 12\n",
    "MEDIUM_SIZE = 16\n",
    "BIGGER_SIZE = 20\n",
    "\n",
    "plt.rc('font', size=MEDIUM_SIZE)          # controls default text sizes\n",
    "plt.rc('axes', titlesize=BIGGER_SIZE)     # fontsize of the axes title\n",
    "plt.rc('axes', labelsize=MEDIUM_SIZE)    # fontsize of the x and y labels\n",
    "plt.rc('xtick', labelsize=SMALL_SIZE)    # fontsize of the tick labels\n",
    "plt.rc('ytick', labelsize=SMALL_SIZE)    # fontsize of the tick labels\n",
    "plt.rc('legend', fontsize=MEDIUM_SIZE)    # legend fontsize\n",
    "plt.rc('figure', titlesize=BIGGER_SIZE)  # fontsize of the figure title"
   ]
  },
  {
   "cell_type": "code",
   "execution_count": null,
   "metadata": {},
   "outputs": [],
   "source": [
    "fig, ax = plt.subplots(nrows=1,ncols=1, figsize=(20,8))\n",
    "\n",
    "color_map = plt.cm.get_cmap('magma')\n",
    "color_map = color_map.reversed()\n",
    "\n",
    "scatter = plt.scatter(c=df_fatores_geograficos['hierarquia'][filtro_dias], \n",
    "            x=df_fatores_geograficos.dias_contaminação_referencia[filtro_dias],\n",
    "            y=np.log(df_fatores_geograficos.pop2019[filtro_dias]),\n",
    "            alpha=0.9,\n",
    "            cmap=color_map,\n",
    "            s= 300);\n",
    "\n",
    "ax.set_title('Municípios Brasileiros segundo momento do primeiro Caso de COVID-19, população e hierarquia urbana \\n')\n",
    "teste = plt.colorbar(ticks=[1, 2, 3, 4, 5, 6, 7, 8, 9, 10,  11])\n",
    "# teste.set_label('Hierarquia Urbana', rotation=270)\n",
    "teste.ax.set_yticklabels(['Centro Local', 'Centro de Zona B', 'Centro de Zona A', 'Capital Sub-regional B', 'Capital Sub-regional A', 'Capital Regional C', 'Capital Regional B', 'Capital Regional A', 'Metrópole', 'Metrópole Nacional', 'Grande Metrópole Nacional'])  # horizontal colorbar\n",
    "\n",
    "plt.ticklabel_format(useOffset=False, style='plain')\n",
    "plt.xlabel('primeira notificação (dias a partir de 25 de fevereiro de 2020)')\n",
    "plt.ylabel('População em 2019 (escala logarítmica)');\n",
    "\n",
    "\n",
    "plt.savefig('covid.png')\n",
    "#lgnd = plt.legend(handles=handles, loc=\"lower left\", scatterpoints=1)\n",
    "\n",
    "#legend2 = ax.legend(handles, labels, loc=\"upper right\", title=\"Sizes\")\n",
    "#lgnd.legendHandles[0]._sizes = [30]\n",
    "#lgnd.legendHandles[1]._sizes = [30]"
   ]
  },
  {
   "cell_type": "markdown",
   "metadata": {},
   "source": [
    "Para melhorar o gráfico acima, preciso pegar uns parâmetros nos links abaixo\n",
    "\n",
    "https://matplotlib.org/3.1.0/gallery/lines_bars_and_markers/scatter_with_legend.html\n",
    "\n",
    "https://matplotlib.org/3.1.0/api/_as_gen/matplotlib.lines.Line2D.html#matplotlib.lines.Line2D\n",
    "\n",
    "https://matplotlib.org/3.1.0/api/collections_api.html#matplotlib.collections.PathCollection.legend_elements\n",
    "\n",
    "https://stackoverflow.com/questions/11983024/matplotlib-legends-not-working\n",
    "\n",
    "Minha intenção é colocar uma quarta variável (PIB) nesse mesmo gráfico\n",
    "\n",
    "https://stackoverflow.com/questions/24706125/setting-a-fixed-size-for-points-in-legend\n",
    "\n",
    "https://stackoverflow.com/questions/14827650/pyplot-scatter-plot-marker-size"
   ]
  },
  {
   "cell_type": "code",
   "execution_count": 9,
   "metadata": {},
   "outputs": [
    {
     "ename": "NameError",
     "evalue": "name 'plt' is not defined",
     "output_type": "error",
     "traceback": [
      "\u001b[1;31m---------------------------------------------------------------------------\u001b[0m",
      "\u001b[1;31mNameError\u001b[0m                                 Traceback (most recent call last)",
      "\u001b[1;32m<ipython-input-9-83e2db23a02a>\u001b[0m in \u001b[0;36m<module>\u001b[1;34m\u001b[0m\n\u001b[1;32m----> 1\u001b[1;33m \u001b[0mfig\u001b[0m\u001b[1;33m,\u001b[0m \u001b[0max\u001b[0m \u001b[1;33m=\u001b[0m \u001b[0mplt\u001b[0m\u001b[1;33m.\u001b[0m\u001b[0msubplots\u001b[0m\u001b[1;33m(\u001b[0m\u001b[0mnrows\u001b[0m\u001b[1;33m=\u001b[0m\u001b[1;36m1\u001b[0m\u001b[1;33m,\u001b[0m\u001b[0mncols\u001b[0m\u001b[1;33m=\u001b[0m\u001b[1;36m2\u001b[0m\u001b[1;33m,\u001b[0m \u001b[0mfigsize\u001b[0m\u001b[1;33m=\u001b[0m\u001b[1;33m(\u001b[0m\u001b[1;36m20\u001b[0m\u001b[1;33m,\u001b[0m\u001b[1;36m8\u001b[0m\u001b[1;33m)\u001b[0m\u001b[1;33m)\u001b[0m\u001b[1;33m\u001b[0m\u001b[1;33m\u001b[0m\u001b[0m\n\u001b[0m\u001b[0;32m      2\u001b[0m \u001b[1;33m\u001b[0m\u001b[0m\n\u001b[0;32m      3\u001b[0m \u001b[0max\u001b[0m\u001b[1;33m[\u001b[0m\u001b[1;36m0\u001b[0m\u001b[1;33m]\u001b[0m\u001b[1;33m.\u001b[0m\u001b[0mscatter\u001b[0m\u001b[1;33m(\u001b[0m\u001b[0my\u001b[0m\u001b[1;33m=\u001b[0m\u001b[0mdf_fatores_geograficos\u001b[0m\u001b[1;33m[\u001b[0m\u001b[1;34m'pop2019'\u001b[0m\u001b[1;33m]\u001b[0m\u001b[1;33m[\u001b[0m\u001b[0mfiltro_dias\u001b[0m\u001b[1;33m]\u001b[0m\u001b[1;33m,\u001b[0m \u001b[0mx\u001b[0m\u001b[1;33m=\u001b[0m\u001b[0mdf_fatores_geograficos\u001b[0m\u001b[1;33m.\u001b[0m\u001b[0mdias_contaminação_referencia\u001b[0m\u001b[1;33m[\u001b[0m\u001b[0mfiltro_dias\u001b[0m\u001b[1;33m]\u001b[0m\u001b[1;33m)\u001b[0m\u001b[1;33m;\u001b[0m\u001b[1;33m\u001b[0m\u001b[1;33m\u001b[0m\u001b[0m\n\u001b[0;32m      4\u001b[0m \u001b[0max\u001b[0m\u001b[1;33m[\u001b[0m\u001b[1;36m0\u001b[0m\u001b[1;33m]\u001b[0m\u001b[1;33m.\u001b[0m\u001b[0mset_ylabel\u001b[0m\u001b[1;33m(\u001b[0m\u001b[1;34m'População em 2019'\u001b[0m\u001b[1;33m)\u001b[0m\u001b[1;33m\u001b[0m\u001b[1;33m\u001b[0m\u001b[0m\n\u001b[0;32m      5\u001b[0m \u001b[0max\u001b[0m\u001b[1;33m[\u001b[0m\u001b[1;36m0\u001b[0m\u001b[1;33m]\u001b[0m\u001b[1;33m.\u001b[0m\u001b[0mticklabel_format\u001b[0m\u001b[1;33m(\u001b[0m\u001b[0museOffset\u001b[0m\u001b[1;33m=\u001b[0m\u001b[1;32mFalse\u001b[0m\u001b[1;33m,\u001b[0m \u001b[0mstyle\u001b[0m\u001b[1;33m=\u001b[0m\u001b[1;34m'plain'\u001b[0m\u001b[1;33m)\u001b[0m\u001b[1;33m\u001b[0m\u001b[1;33m\u001b[0m\u001b[0m\n",
      "\u001b[1;31mNameError\u001b[0m: name 'plt' is not defined"
     ]
    }
   ],
   "source": [
    "fig, ax = plt.subplots(nrows=1,ncols=2, figsize=(20,8))\n",
    "\n",
    "ax[0].scatter(y=df_fatores_geograficos['pop2019'][filtro_dias], x=df_fatores_geograficos.dias_contaminação_referencia[filtro_dias]);\n",
    "ax[0].set_ylabel('População em 2019')\n",
    "ax[0].ticklabel_format(useOffset=False, style='plain')\n",
    "ax[0].set_xlabel('Data da primeira notificação')\n",
    "ax[0].set_ylabel('População em 2019')\n",
    "\n",
    "\n",
    "ax[1].scatter(y=np.log(df_fatores_geograficos['pop2019'][filtro_dias]), x=df_fatores_geograficos.dias_contaminação_referencia[filtro_dias]);\n",
    "ax[1].set_xlabel('Data da primeira notificação')\n",
    "ax[1].set_ylabel('Log(População em 2019)')\n",
    "ax[1].set_xlabel('Data da primeira notificação');"
   ]
  },
  {
   "cell_type": "code",
   "execution_count": null,
   "metadata": {},
   "outputs": [],
   "source": [
    "fig, ax = plt.subplots(nrows=4,ncols=2, figsize=(20,8))\n",
    "ax"
   ]
  },
  {
   "cell_type": "code",
   "execution_count": null,
   "metadata": {},
   "outputs": [],
   "source": [
    "fig, ax = plt.subplots(nrows=4,ncols=2, figsize=(20,8))\n",
    "ax[0,0].scatter(x=np.log(df_fatores_geograficos[variavel][df_fatores_geograficos.dias_contaminação_referencia.notna()]), y=df_fatores_geograficos.dias_contaminação_referencia[df_fatores_geograficos.dias_contaminação_referencia.notna()]);"
   ]
  },
  {
   "cell_type": "code",
   "execution_count": null,
   "metadata": {},
   "outputs": [],
   "source": [
    "fig, ax = plt.subplots(nrows=1,ncols=2, figsize=(20,8))\n",
    "ax[0].hist(df_fatores_geograficos.pop2019, bins=10)\n",
    "ax[1].scatter(x=df_fatores_geograficos.pop2019[df_fatores_geograficos.dias_contaminação_referencia.notna()], y=df_fatores_geograficos.dias_contaminação_referencia[df_fatores_geograficos.dias_contaminação_referencia.notna()]);"
   ]
  },
  {
   "cell_type": "code",
   "execution_count": 10,
   "metadata": {},
   "outputs": [
    {
     "ename": "NameError",
     "evalue": "name 'df_fatores_geograficos' is not defined",
     "output_type": "error",
     "traceback": [
      "\u001b[1;31m---------------------------------------------------------------------------\u001b[0m",
      "\u001b[1;31mNameError\u001b[0m                                 Traceback (most recent call last)",
      "\u001b[1;32m<ipython-input-10-c368a0f268b3>\u001b[0m in \u001b[0;36m<module>\u001b[1;34m\u001b[0m\n\u001b[1;32m----> 1\u001b[1;33m \u001b[0mdf_fatores_geograficos\u001b[0m\u001b[1;33m.\u001b[0m\u001b[0mpop2019\u001b[0m\u001b[1;33m\u001b[0m\u001b[1;33m\u001b[0m\u001b[0m\n\u001b[0m",
      "\u001b[1;31mNameError\u001b[0m: name 'df_fatores_geograficos' is not defined"
     ]
    }
   ],
   "source": [
    "df_fatores_geograficos.pop2019"
   ]
  },
  {
   "cell_type": "code",
   "execution_count": null,
   "metadata": {},
   "outputs": [],
   "source": [
    "df_fatores_geograficos.dia3103.max()"
   ]
  },
  {
   "cell_type": "code",
   "execution_count": null,
   "metadata": {},
   "outputs": [],
   "source": [
    "df_fatores_geograficos.columns"
   ]
  },
  {
   "cell_type": "code",
   "execution_count": null,
   "metadata": {},
   "outputs": [],
   "source": [
    "list_colunas_selecionadas = list(df_fatores_geograficos.columns[2:10])\n",
    "list_colunas_selecionadas.append(df_fatores_geograficos.columns[-3])"
   ]
  },
  {
   "cell_type": "code",
   "execution_count": null,
   "metadata": {},
   "outputs": [],
   "source": [
    "list_colunas_selecionadas"
   ]
  },
  {
   "cell_type": "code",
   "execution_count": null,
   "metadata": {},
   "outputs": [],
   "source": [
    "df_fatores_geograficos_correlacao =  df_fatores_geograficos.loc[:, list_colunas_selecionadas]\n",
    "df_fatores_geograficos_correlacao"
   ]
  },
  {
   "cell_type": "code",
   "execution_count": null,
   "metadata": {
    "scrolled": true
   },
   "outputs": [],
   "source": [
    "corr = df_fatores_geograficos_correlacao.corr()\n",
    "sns.heatmap(corr, \n",
    "        xticklabels=corr.columns,\n",
    "        yticklabels=corr.columns, cmap = sns.diverging_palette(250, 10, as_cmap=True))"
   ]
  },
  {
   "cell_type": "code",
   "execution_count": null,
   "metadata": {},
   "outputs": [],
   "source": [
    "df_fatores_geograficos_correlacao[df_fatores_geograficos_correlacao.iloc[:,-1] != 0]"
   ]
  },
  {
   "cell_type": "code",
   "execution_count": null,
   "metadata": {},
   "outputs": [],
   "source": [
    "corr = df_fatores_geograficos_correlacao[df_fatores_geograficos_correlacao.iloc[:,-1] != 0].corr()\n",
    "sns.heatmap(corr, \n",
    "        xticklabels=corr.columns,\n",
    "        yticklabels=corr.columns, cmap = sns.diverging_palette(250, 10, as_cmap=True))"
   ]
  },
  {
   "cell_type": "code",
   "execution_count": null,
   "metadata": {},
   "outputs": [],
   "source": [
    "sns.pairplot(df_fatores_geograficos_correlacao)"
   ]
  },
  {
   "cell_type": "code",
   "execution_count": null,
   "metadata": {},
   "outputs": [],
   "source": [
    "sns.pairplot(df_fatores_geograficos_correlacao[df_fatores_geograficos_correlacao.iloc[:,-1] != 0])"
   ]
  },
  {
   "cell_type": "code",
   "execution_count": null,
   "metadata": {},
   "outputs": [],
   "source": [
    "corr"
   ]
  },
  {
   "cell_type": "code",
   "execution_count": null,
   "metadata": {},
   "outputs": [],
   "source": [
    "df_fatores_geograficos['dia3103'].sum()"
   ]
  },
  {
   "cell_type": "code",
   "execution_count": null,
   "metadata": {},
   "outputs": [],
   "source": [
    "df_fatores_geograficos_semzeros = df_fatores_geograficos[df_fatores_geograficos.iloc[:,-1] != 0]"
   ]
  },
  {
   "cell_type": "code",
   "execution_count": null,
   "metadata": {},
   "outputs": [],
   "source": [
    "plt.scatter(df_fatores_geograficos['pop2019'], df_fatores_geograficos['dia2903'])"
   ]
  },
  {
   "cell_type": "code",
   "execution_count": null,
   "metadata": {},
   "outputs": [],
   "source": [
    "plt.scatter(df_fatores_geograficos_correlacao_semzeros['pop2019'], df_fatores_geograficos_correlacao_semzeros['dia2903'])"
   ]
  },
  {
   "cell_type": "code",
   "execution_count": null,
   "metadata": {},
   "outputs": [],
   "source": [
    "plt.scatter(df_fatores_geograficos_correlacao['pop2019'], df_fatores_geograficos_correlacao['dia2903'])"
   ]
  },
  {
   "cell_type": "code",
   "execution_count": null,
   "metadata": {},
   "outputs": [],
   "source": [
    "plt.scatter(df_fatores_geograficos_correlacao['export_fob_2019'], df_fatores_geograficos_correlacao['dia2903'])"
   ]
  },
  {
   "cell_type": "code",
   "execution_count": null,
   "metadata": {},
   "outputs": [],
   "source": []
  },
  {
   "cell_type": "code",
   "execution_count": null,
   "metadata": {},
   "outputs": [],
   "source": [
    "sns.pairplot(df_fatores_geograficos_correlacao[['pop2019', 'dia2903']][df_fatores_geograficos_correlacao.iloc[:,-1] != 0], size=5)"
   ]
  },
  {
   "cell_type": "code",
   "execution_count": null,
   "metadata": {},
   "outputs": [],
   "source": []
  },
  {
   "cell_type": "code",
   "execution_count": null,
   "metadata": {
    "scrolled": true
   },
   "outputs": [],
   "source": [
    "df_arranjos_populacionais"
   ]
  },
  {
   "cell_type": "code",
   "execution_count": null,
   "metadata": {},
   "outputs": [],
   "source": []
  }
 ],
 "metadata": {
  "hide_input": false,
  "kernelspec": {
   "display_name": "Python 3",
   "language": "python",
   "name": "python3"
  },
  "language_info": {
   "codemirror_mode": {
    "name": "ipython",
    "version": 3
   },
   "file_extension": ".py",
   "mimetype": "text/x-python",
   "name": "python",
   "nbconvert_exporter": "python",
   "pygments_lexer": "ipython3",
   "version": "3.7.3"
  },
  "toc": {
   "base_numbering": 1,
   "nav_menu": {},
   "number_sections": true,
   "sideBar": true,
   "skip_h1_title": true,
   "title_cell": "Table of Contents",
   "title_sidebar": "Contents",
   "toc_cell": false,
   "toc_position": {
    "height": "calc(100% - 180px)",
    "left": "10px",
    "top": "150px",
    "width": "212.778px"
   },
   "toc_section_display": true,
   "toc_window_display": true
  },
  "varInspector": {
   "cols": {
    "lenName": 16,
    "lenType": 16,
    "lenVar": 40
   },
   "kernels_config": {
    "python": {
     "delete_cmd_postfix": "",
     "delete_cmd_prefix": "del ",
     "library": "var_list.py",
     "varRefreshCmd": "print(var_dic_list())"
    },
    "r": {
     "delete_cmd_postfix": ") ",
     "delete_cmd_prefix": "rm(",
     "library": "var_list.r",
     "varRefreshCmd": "cat(var_dic_list()) "
    }
   },
   "types_to_exclude": [
    "module",
    "function",
    "builtin_function_or_method",
    "instance",
    "_Feature"
   ],
   "window_display": false
  }
 },
 "nbformat": 4,
 "nbformat_minor": 2
}
