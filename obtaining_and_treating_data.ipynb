{
 "cells": [
  {
   "cell_type": "markdown",
   "metadata": {},
   "source": [
    "1 Prepração do notebook\n",
    "2 Obtenção dos dados, tratamento e geração de Data Frames\n",
    "\n",
    "* Dados sobre Covid\n",
    "    * Obtenção de dados do COVID19 e geração do Data Frame df_covid19_br\n",
    "    * Geração do df_covid19_br_para_shapefile com tratamento dos dados\n",
    "    * Geração do Geo Data Frames gdf_covid19_br, com os casos para o Brasil, e gdf_covid19_pr, com os casos do Paraná\n",
    "* Obtenção dos Demais dados\n",
    "* nível de hierarquia urbana\n",
    "* população\n",
    "* mobilidade pendular\n",
    "* níveis de exportação\n",
    "* pib percapita\n",
    "* número de pessoas com renda elevada (a definir o critério)\n",
    "* tentar identificar uma forma de criar uma base que se atualize dinamicamente e identifique avizinhamento de municípios 0 e 1 \n",
    "\n",
    "3 Análise Exploratória Correlações\n",
    "\n",
    "* Gerar painel de estatística descritiva\n",
    "\n",
    "* Gerar gráficos de distribuição\n",
    "* Fazer matriz de correlações\n",
    "\n",
    "4 Modelização"
   ]
  },
  {
   "cell_type": "markdown",
   "metadata": {},
   "source": [
    "# Obtenção, tratamento e Análise Exploratória dos dados sobre COVID-19 no Brasil"
   ]
  },
  {
   "cell_type": "markdown",
   "metadata": {},
   "source": [
    "## Preparação do Notebook"
   ]
  },
  {
   "cell_type": "markdown",
   "metadata": {},
   "source": [
    "* Importação das principais bibliotecas\n",
    "* Configuração das operações por default (estilos e tamanhos de gráficos)\n",
    "* Referenciamento das subpastas do projeto"
   ]
  },
  {
   "cell_type": "code",
   "execution_count": null,
   "metadata": {
    "code_folding": [
     0
    ]
   },
   "outputs": [],
   "source": [
    "# importação de bibliotecas básicas\n",
    "\n",
    "import pandas as pd # Biblioteca para operação avançada com dados tabulares de diversos tipos\n",
    "import numpy as np # Biblioteca para operação com vetores de auto desempenho e um tipo por vez\n",
    "from matplotlib import use as mpl_use # Função Matplotlib que estabelece backend e precisa ser chamda antes do plt\n",
    "mpl_use('nbagg') # uso do backend \"nbagg\" para os gráficos terem paineis interativos\n",
    "import matplotlib.pyplot as plt # Biblioteca para geração de gráficos de menor nível de abstração\n",
    "import seaborn as sns # Biblioteca baseada em matplotlib para geração de gráficos e estilização, com maior nível de abstração\n",
    "#import geopandas as gpd # Biblioteca de análise geográfica\n",
    "import descartes # Dependência do Geopandas para poder gerar mapas\n",
    "import matplotlib \n",
    "import os"
   ]
  },
  {
   "cell_type": "code",
   "execution_count": 30,
   "metadata": {
    "code_folding": [
     0
    ]
   },
   "outputs": [],
   "source": [
    "# configurações das operações por default\n",
    "\n",
    "# Configuração de DataFrame Pandas para formato numérico com duas casas decimais quando a coluna for float\n",
    "#pd.set_option('display.float_format', lambda x: '%.2f' % x)\n",
    "\n",
    "# Apresentação dos gráficos no interior das células\n",
    "%matplotlib inline \n",
    "plt.style.use('ggplot') # Apresentação dos gráficos\n",
    "\n",
    "# Códigos abaixo são configurações que deixo por opção, caso se tornem úteis em alguma operação\n",
    "# Configuração das Células para que apresentam múltiplos resultados em vez de apenas o último \n",
    "# InteractiveShell.ast_node_interactivity = \"all\"\n",
    "# sns.set() # Configuração de Gráficos para padrão de formatação básica da biblioteca Seaborn"
   ]
  },
  {
   "cell_type": "code",
   "execution_count": 44,
   "metadata": {
    "code_folding": []
   },
   "outputs": [],
   "source": [
    "# referenciamento das subpastas\n",
    "\n",
    "diretorio_economia = os.path.join(os.getcwd(),'base_de_dados','economia')\n",
    "diretorio_casos = os.path.join(os.getcwd(),'base_de_dados','boletins_de_casos')\n",
    "diretorio_hierarquia_urbana = os.path.join(os.getcwd(),'base_de_dados','hierarquia_urbana')\n",
    "diretorio_infra_atendimento = os.path.join(os.getcwd(),'base_de_dados','infraestrutura_atendimento')\n",
    "diretorio_populacao = os.path.join(os.getcwd(),'base_de_dados','populacao')\n",
    "diretorio_transporte_rodoviario = os.path.join(os.getcwd(),'base_de_dados','transporte_rodoviario')\n",
    "diretorio_turismo = os.path.join(os.getcwd(),'base_de_dados','turismo')\n",
    "diretorio_estrutura_territorial = os.path.join(os.getcwd(),'base_de_dados','estrutura_territorial')\n"
   ]
  },
  {
   "cell_type": "markdown",
   "metadata": {},
   "source": [
    "## Importação e Tratamento Preliminar dos Dados"
   ]
  },
  {
   "cell_type": "markdown",
   "metadata": {},
   "source": [
    "* Verificação da Estrutura dos dados\n",
    "* Observação da pertinência dos tipos\n",
    "* Identificação e tratamento dos dados nulos\n",
    "* Codificação de variáveis categóricas\n",
    "* Separação dos batches\n",
    "    * Estratificado\n",
    "    * Não Estratificado\n",
    "* Criar versão com regularização de escala"
   ]
  },
  {
   "cell_type": "markdown",
   "metadata": {},
   "source": [
    "São criados três DataFrames\n",
    "\n",
    "* Dados de Notificações nos municípios brasileiros\n",
    "    * df_covid_19_br - dados de notificações nos municípios brasileiros\n",
    "    * df_casos_sem_referencia_municipal\n",
    "    * df_covid_19_br_to_shape - dados de notificações readequados para importação em ambiente de Sistemas de Informações Geográficas \n",
    "    * df_data_primeiro_caso - dados dos da data do primeiro caso"
   ]
  },
  {
   "cell_type": "markdown",
   "metadata": {},
   "source": [
    "### Dados de notificações nos municípios brasileiros\n",
    "* Abaixo se encontra uma função colect_cases, que obtem os dados sobre COVID-19 compilados dos boletins e disponível em \"https://raw.githubusercontent.com/wcota/covid19br/master/cases-brazil-cities-time.csv\"\n",
    "    * Os dados são salvos em Pandas Data Frame\n",
    "    * Os nomes das colunas são corrigidos\n",
    "    * As duplicidades são eliminadas, pela retirada de várias linhas com totais\n",
    "\n",
    "Observações: É conveniente que, no futuro, a função tenha um tratamento para que as datas não estejam em formato texto"
   ]
  },
  {
   "cell_type": "code",
   "execution_count": 12,
   "metadata": {
    "code_folding": [
     0
    ]
   },
   "outputs": [],
   "source": [
    "def colect_cases(output=None, output_format='csv', correct_columns=True, correct_rows=True):\n",
    "    # Retrieves the notified cases in Brazilian boletins found in\n",
    "    # https://raw.githubusercontent.com/wcota/covid19br/master/cases-brazil-cities-time.csv\n",
    "    # correct_columns -> whether or not to rearrange the columns and rename them\n",
    "    # Correct_rows -> whether or not to remove the total cases by date, which would duplicate the values per day\n",
    "    # name_csv -> string withe name of the csv file to save the content of the Data Frame. If name_csv equals to None, no file is saved\n",
    "\n",
    "    # loads the CSV data into df_cases\n",
    "    df_cases = pd.read_csv(\n",
    "        'https://raw.githubusercontent.com/wcota/covid19br/master/cases-brazil-cities-time.csv',\n",
    "        parse_dates=True,\n",
    "        infer_datetime_format=True)\n",
    "\n",
    "    # if correct_columns == True, it rearranges the columns orders and renames them\n",
    "    if correct_columns == True:\n",
    "        df_cases = df_cases[['ibgeID', 'city', 'state', 'date', 'newCases', 'totalCases']].rename(\n",
    "            columns={'ibgeID': 'cod_mun', 'city': 'municipio', 'state': 'estado', 'date': 'data', 'newCases': 'novos_casos', 'totalCases': 'casos_total'})\n",
    "\n",
    "    # if correct_rows == True, it removes the rows that show the total cases by date, which would duplicate the values per day\n",
    "    if correct_rows == True:\n",
    "        filter_cases_total = df_cases.loc[df_cases.estado == 'TOTAL']\n",
    "        df_cases.drop(filter_cases_total.index, axis=0, inplace=True)\n",
    "\n",
    "    # removes the state name in the municipality column\n",
    "    df_cases.municipio = df_cases.municipio.apply(\n",
    "        lambda a_corrigir: a_corrigir.split('/')[0])\n",
    "\n",
    "    # if name_csv contains the name of a csv file, a file will be created in the current directory\n",
    "    # or in the specified directory\n",
    "    if output != None:\n",
    "        if output_format == 'csv':\n",
    "            df_cases.to_csv(output, encoding='utf-16')\n",
    "        if output_format == 'excel':\n",
    "            df_cases.to_excel(output, encoding='utf-16')\n",
    "\n",
    "    return df_cases"
   ]
  },
  {
   "cell_type": "markdown",
   "metadata": {},
   "source": [
    "### Importação, observação e tratamento preliminar dos dados\n",
    "\n",
    "* Criação do Data Frame df_covid_19_br\n",
    "* observação preliminar dos dados\n",
    "* identificação de sua estrutura de linhas e colunas"
   ]
  },
  {
   "cell_type": "markdown",
   "metadata": {},
   "source": [
    "**Data Frame df_covid_19_br**"
   ]
  },
  {
   "cell_type": "code",
   "execution_count": 31,
   "metadata": {
    "hide_input": true
   },
   "outputs": [
    {
     "data": {
      "text/html": [
       "<div>\n",
       "<style scoped>\n",
       "    .dataframe tbody tr th:only-of-type {\n",
       "        vertical-align: middle;\n",
       "    }\n",
       "\n",
       "    .dataframe tbody tr th {\n",
       "        vertical-align: top;\n",
       "    }\n",
       "\n",
       "    .dataframe thead th {\n",
       "        text-align: right;\n",
       "    }\n",
       "</style>\n",
       "<table border=\"1\" class=\"dataframe\">\n",
       "  <thead>\n",
       "    <tr style=\"text-align: right;\">\n",
       "      <th></th>\n",
       "      <th>cod_mun</th>\n",
       "      <th>municipio</th>\n",
       "      <th>estado</th>\n",
       "      <th>data</th>\n",
       "      <th>novos_casos</th>\n",
       "      <th>casos_total</th>\n",
       "    </tr>\n",
       "  </thead>\n",
       "  <tbody>\n",
       "    <tr>\n",
       "      <td>0</td>\n",
       "      <td>3550308</td>\n",
       "      <td>São Paulo</td>\n",
       "      <td>SP</td>\n",
       "      <td>2020-02-25</td>\n",
       "      <td>1</td>\n",
       "      <td>1</td>\n",
       "    </tr>\n",
       "    <tr>\n",
       "      <td>2</td>\n",
       "      <td>3550308</td>\n",
       "      <td>São Paulo</td>\n",
       "      <td>SP</td>\n",
       "      <td>2020-02-29</td>\n",
       "      <td>1</td>\n",
       "      <td>2</td>\n",
       "    </tr>\n",
       "    <tr>\n",
       "      <td>4</td>\n",
       "      <td>3550308</td>\n",
       "      <td>São Paulo</td>\n",
       "      <td>SP</td>\n",
       "      <td>2020-03-04</td>\n",
       "      <td>1</td>\n",
       "      <td>3</td>\n",
       "    </tr>\n",
       "    <tr>\n",
       "      <td>6</td>\n",
       "      <td>3550308</td>\n",
       "      <td>São Paulo</td>\n",
       "      <td>SP</td>\n",
       "      <td>2020-03-05</td>\n",
       "      <td>3</td>\n",
       "      <td>6</td>\n",
       "    </tr>\n",
       "    <tr>\n",
       "      <td>7</td>\n",
       "      <td>3300407</td>\n",
       "      <td>Barra Mansa</td>\n",
       "      <td>RJ</td>\n",
       "      <td>2020-03-05</td>\n",
       "      <td>1</td>\n",
       "      <td>1</td>\n",
       "    </tr>\n",
       "    <tr>\n",
       "      <td>...</td>\n",
       "      <td>...</td>\n",
       "      <td>...</td>\n",
       "      <td>...</td>\n",
       "      <td>...</td>\n",
       "      <td>...</td>\n",
       "      <td>...</td>\n",
       "    </tr>\n",
       "    <tr>\n",
       "      <td>4906</td>\n",
       "      <td>3516309</td>\n",
       "      <td>Francisco Morato</td>\n",
       "      <td>SP</td>\n",
       "      <td>2020-04-03</td>\n",
       "      <td>0</td>\n",
       "      <td>3</td>\n",
       "    </tr>\n",
       "    <tr>\n",
       "      <td>4907</td>\n",
       "      <td>3523206</td>\n",
       "      <td>Itararé</td>\n",
       "      <td>SP</td>\n",
       "      <td>2020-04-03</td>\n",
       "      <td>0</td>\n",
       "      <td>1</td>\n",
       "    </tr>\n",
       "    <tr>\n",
       "      <td>4908</td>\n",
       "      <td>3523909</td>\n",
       "      <td>Itu</td>\n",
       "      <td>SP</td>\n",
       "      <td>2020-04-03</td>\n",
       "      <td>0</td>\n",
       "      <td>1</td>\n",
       "    </tr>\n",
       "    <tr>\n",
       "      <td>4909</td>\n",
       "      <td>3525300</td>\n",
       "      <td>Jaú</td>\n",
       "      <td>SP</td>\n",
       "      <td>2020-04-03</td>\n",
       "      <td>0</td>\n",
       "      <td>1</td>\n",
       "    </tr>\n",
       "    <tr>\n",
       "      <td>4910</td>\n",
       "      <td>3500501</td>\n",
       "      <td>Águas de Lindóia</td>\n",
       "      <td>SP</td>\n",
       "      <td>2020-04-03</td>\n",
       "      <td>0</td>\n",
       "      <td>1</td>\n",
       "    </tr>\n",
       "  </tbody>\n",
       "</table>\n",
       "<p>4879 rows × 6 columns</p>\n",
       "</div>"
      ],
      "text/plain": [
       "      cod_mun         municipio estado        data  novos_casos  casos_total\n",
       "0     3550308         São Paulo     SP  2020-02-25            1            1\n",
       "2     3550308         São Paulo     SP  2020-02-29            1            2\n",
       "4     3550308         São Paulo     SP  2020-03-04            1            3\n",
       "6     3550308         São Paulo     SP  2020-03-05            3            6\n",
       "7     3300407       Barra Mansa     RJ  2020-03-05            1            1\n",
       "...       ...               ...    ...         ...          ...          ...\n",
       "4906  3516309  Francisco Morato     SP  2020-04-03            0            3\n",
       "4907  3523206           Itararé     SP  2020-04-03            0            1\n",
       "4908  3523909               Itu     SP  2020-04-03            0            1\n",
       "4909  3525300               Jaú     SP  2020-04-03            0            1\n",
       "4910  3500501  Águas de Lindóia     SP  2020-04-03            0            1\n",
       "\n",
       "[4879 rows x 6 columns]"
      ]
     },
     "execution_count": 31,
     "metadata": {},
     "output_type": "execute_result"
    }
   ],
   "source": [
    "df_covid_19_br = colect_cases()\n",
    "df_covid_19_br"
   ]
  },
  {
   "cell_type": "markdown",
   "metadata": {
    "variables": {
     "len(df_covid_19_br.columns)": "6",
     "len(df_covid_19_br.index)": "4879"
    }
   },
   "source": [
    "**Informações da estrutura do Data Frame df_covid_19_br**<br>\n",
    "O Data Frame df_covid_19_br conta com {{len(df_covid_19_br.index)}} linhas e {{len(df_covid_19_br.columns)}} colunas.\n",
    "A estrutura do df_covid_19_br não é adequada para importação em formato shapefile, necessário para geração de cartogramas "
   ]
  },
  {
   "cell_type": "code",
   "execution_count": 14,
   "metadata": {
    "hide_input": true,
    "variables": {
     "df_covid_19_br.rows": "<p><strong>AttributeError</strong>: &#39;DataFrame&#39; object has no attribute &#39;rows&#39;</p>\n"
    }
   },
   "outputs": [
    {
     "name": "stdout",
     "output_type": "stream",
     "text": [
      "<class 'pandas.core.frame.DataFrame'>\n",
      "Int64Index: 4879 entries, 0 to 4910\n",
      "Data columns (total 6 columns):\n",
      "cod_mun        4879 non-null int64\n",
      "municipio      4879 non-null object\n",
      "estado         4879 non-null object\n",
      "data           4879 non-null object\n",
      "novos_casos    4879 non-null int64\n",
      "casos_total    4879 non-null int64\n",
      "dtypes: int64(3), object(3)\n",
      "memory usage: 266.8+ KB\n"
     ]
    }
   ],
   "source": [
    "df_covid_19_br.info()"
   ]
  },
  {
   "cell_type": "markdown",
   "metadata": {
    "hide_input": true
   },
   "source": [
    "**Dados sem associação com municípios**<br>\n",
    "Algumas linhas contam o número de casos, mas sem associar a seus municípios, colocando-os como Fora do Estado, Estrangeiro e No-INFO"
   ]
  },
  {
   "cell_type": "code",
   "execution_count": 32,
   "metadata": {
    "hide_input": false
   },
   "outputs": [
    {
     "data": {
      "text/html": [
       "<div>\n",
       "<style scoped>\n",
       "    .dataframe tbody tr th:only-of-type {\n",
       "        vertical-align: middle;\n",
       "    }\n",
       "\n",
       "    .dataframe tbody tr th {\n",
       "        vertical-align: top;\n",
       "    }\n",
       "\n",
       "    .dataframe thead th {\n",
       "        text-align: right;\n",
       "    }\n",
       "</style>\n",
       "<table border=\"1\" class=\"dataframe\">\n",
       "  <thead>\n",
       "    <tr style=\"text-align: right;\">\n",
       "      <th></th>\n",
       "      <th>cod_mun</th>\n",
       "      <th>municipio</th>\n",
       "      <th>estado</th>\n",
       "      <th>data</th>\n",
       "      <th>novos_casos</th>\n",
       "      <th>casos_total</th>\n",
       "    </tr>\n",
       "  </thead>\n",
       "  <tbody>\n",
       "    <tr>\n",
       "      <td>123</td>\n",
       "      <td>26</td>\n",
       "      <td>ESTRANGEIRO</td>\n",
       "      <td>PE</td>\n",
       "      <td>2020-03-14</td>\n",
       "      <td>1</td>\n",
       "      <td>1</td>\n",
       "    </tr>\n",
       "    <tr>\n",
       "      <td>182</td>\n",
       "      <td>26</td>\n",
       "      <td>ESTRANGEIRO</td>\n",
       "      <td>PE</td>\n",
       "      <td>2020-03-15</td>\n",
       "      <td>0</td>\n",
       "      <td>1</td>\n",
       "    </tr>\n",
       "    <tr>\n",
       "      <td>202</td>\n",
       "      <td>26</td>\n",
       "      <td>ESTRANGEIRO</td>\n",
       "      <td>PE</td>\n",
       "      <td>2020-03-16</td>\n",
       "      <td>2</td>\n",
       "      <td>3</td>\n",
       "    </tr>\n",
       "    <tr>\n",
       "      <td>277</td>\n",
       "      <td>26</td>\n",
       "      <td>ESTRANGEIRO</td>\n",
       "      <td>PE</td>\n",
       "      <td>2020-03-17</td>\n",
       "      <td>0</td>\n",
       "      <td>3</td>\n",
       "    </tr>\n",
       "    <tr>\n",
       "      <td>329</td>\n",
       "      <td>42</td>\n",
       "      <td>ESTRANGEIRO</td>\n",
       "      <td>SC</td>\n",
       "      <td>2020-03-18</td>\n",
       "      <td>2</td>\n",
       "      <td>2</td>\n",
       "    </tr>\n",
       "  </tbody>\n",
       "</table>\n",
       "</div>"
      ],
      "text/plain": [
       "     cod_mun    municipio estado        data  novos_casos  casos_total\n",
       "123       26  ESTRANGEIRO     PE  2020-03-14            1            1\n",
       "182       26  ESTRANGEIRO     PE  2020-03-15            0            1\n",
       "202       26  ESTRANGEIRO     PE  2020-03-16            2            3\n",
       "277       26  ESTRANGEIRO     PE  2020-03-17            0            3\n",
       "329       42  ESTRANGEIRO     SC  2020-03-18            2            2"
      ]
     },
     "execution_count": 32,
     "metadata": {},
     "output_type": "execute_result"
    }
   ],
   "source": [
    "filter_len_cod_mun = df_covid_19_br.cod_mun.astype('str').str.len() == 2\n",
    "filter_last_date = df_covid_19_br.data == df_covid_19_br.data.max()\n",
    "\n",
    "df_casos_sem_referencia_municipal = df_covid_19_br[filter_len_cod_mun].head()\n",
    "\n",
    "df_covid_19_br[filter_len_cod_mun].head()"
   ]
  },
  {
   "cell_type": "code",
   "execution_count": 16,
   "metadata": {
    "hide_input": false
   },
   "outputs": [
    {
     "data": {
      "text/plain": [
       "NÃO ESPECIFICADA    71\n",
       "FORA DO ESTADO      71\n",
       "ESTRANGEIRO         49\n",
       "Name: municipio, dtype: int64"
      ]
     },
     "execution_count": 16,
     "metadata": {},
     "output_type": "execute_result"
    }
   ],
   "source": [
    "df_covid_19_br[filter_len_cod_mun].municipio.value_counts()"
   ]
  },
  {
   "cell_type": "markdown",
   "metadata": {},
   "source": [
    "**verificação de dados faltantes**\n",
    "\n",
    "O heatmap abaixo e a série de dados adiante mostram que não existe célula em branco no Data Frame df_covid_19_br"
   ]
  },
  {
   "cell_type": "code",
   "execution_count": 17,
   "metadata": {
    "hide_input": true
   },
   "outputs": [
    {
     "data": {
      "image/png": "[encoded data removed]",
      "text/plain": [
       "<Figure size 432x288 with 1 Axes>"
      ]
     },
     "metadata": {},
     "output_type": "display_data"
    }
   ],
   "source": [
    "#gráfico heatmap para identificação do padrão de distribuição dos valores nulos no Data Frame\n",
    "sns.heatmap(df_covid_19_br.isnull(), cbar=False); "
   ]
  },
  {
   "cell_type": "code",
   "execution_count": 18,
   "metadata": {
    "hide_input": true
   },
   "outputs": [
    {
     "data": {
      "text/plain": [
       "cod_mun        0\n",
       "municipio      0\n",
       "estado         0\n",
       "data           0\n",
       "novos_casos    0\n",
       "casos_total    0\n",
       "dtype: int64"
      ]
     },
     "execution_count": 18,
     "metadata": {},
     "output_type": "execute_result"
    }
   ],
   "source": [
    "df_covid_19_br.isnull().sum()"
   ]
  },
  {
   "cell_type": "code",
   "execution_count": 19,
   "metadata": {},
   "outputs": [],
   "source": [
    "dic_data_inicial = {}\n",
    "cod_municipios = df_covid_19_br[~filter_len_cod_mun].cod_mun.unique()\n",
    "for codigo in cod_municipios:\n",
    "    data_inicial = df_covid_19_br[df_covid_19_br.cod_mun == codigo]['data'].min()\n",
    "    dic_data_inicial[codigo] = data_inicial"
   ]
  },
  {
   "cell_type": "code",
   "execution_count": 20,
   "metadata": {},
   "outputs": [],
   "source": [
    "df_data_primeiro_caso = pd.DataFrame(data=dic_data_inicial.values(), index=dic_data_inicial.keys(), columns = ['data_primeiro_caso'])"
   ]
  },
  {
   "cell_type": "code",
   "execution_count": 21,
   "metadata": {},
   "outputs": [
    {
     "data": {
      "text/html": [
       "<div>\n",
       "<style scoped>\n",
       "    .dataframe tbody tr th:only-of-type {\n",
       "        vertical-align: middle;\n",
       "    }\n",
       "\n",
       "    .dataframe tbody tr th {\n",
       "        vertical-align: top;\n",
       "    }\n",
       "\n",
       "    .dataframe thead th {\n",
       "        text-align: right;\n",
       "    }\n",
       "</style>\n",
       "<table border=\"1\" class=\"dataframe\">\n",
       "  <thead>\n",
       "    <tr style=\"text-align: right;\">\n",
       "      <th></th>\n",
       "      <th>data_primeiro_caso</th>\n",
       "    </tr>\n",
       "  </thead>\n",
       "  <tbody>\n",
       "    <tr>\n",
       "      <td>3550308</td>\n",
       "      <td>2020-02-25</td>\n",
       "    </tr>\n",
       "    <tr>\n",
       "      <td>3300407</td>\n",
       "      <td>2020-03-05</td>\n",
       "    </tr>\n",
       "    <tr>\n",
       "      <td>3205200</td>\n",
       "      <td>2020-03-05</td>\n",
       "    </tr>\n",
       "    <tr>\n",
       "      <td>2910800</td>\n",
       "      <td>2020-03-06</td>\n",
       "    </tr>\n",
       "    <tr>\n",
       "      <td>3304557</td>\n",
       "      <td>2020-03-07</td>\n",
       "    </tr>\n",
       "    <tr>\n",
       "      <td>...</td>\n",
       "      <td>...</td>\n",
       "    </tr>\n",
       "    <tr>\n",
       "      <td>3516309</td>\n",
       "      <td>2020-04-02</td>\n",
       "    </tr>\n",
       "    <tr>\n",
       "      <td>3523206</td>\n",
       "      <td>2020-04-02</td>\n",
       "    </tr>\n",
       "    <tr>\n",
       "      <td>3523909</td>\n",
       "      <td>2020-04-02</td>\n",
       "    </tr>\n",
       "    <tr>\n",
       "      <td>3525300</td>\n",
       "      <td>2020-04-02</td>\n",
       "    </tr>\n",
       "    <tr>\n",
       "      <td>3500501</td>\n",
       "      <td>2020-04-02</td>\n",
       "    </tr>\n",
       "  </tbody>\n",
       "</table>\n",
       "<p>482 rows × 1 columns</p>\n",
       "</div>"
      ],
      "text/plain": [
       "        data_primeiro_caso\n",
       "3550308         2020-02-25\n",
       "3300407         2020-03-05\n",
       "3205200         2020-03-05\n",
       "2910800         2020-03-06\n",
       "3304557         2020-03-07\n",
       "...                    ...\n",
       "3516309         2020-04-02\n",
       "3523206         2020-04-02\n",
       "3523909         2020-04-02\n",
       "3525300         2020-04-02\n",
       "3500501         2020-04-02\n",
       "\n",
       "[482 rows x 1 columns]"
      ]
     },
     "execution_count": 21,
     "metadata": {},
     "output_type": "execute_result"
    }
   ],
   "source": [
    "df_data_primeiro_caso"
   ]
  },
  {
   "cell_type": "code",
   "execution_count": null,
   "metadata": {},
   "outputs": [],
   "source": []
  },
  {
   "cell_type": "markdown",
   "metadata": {},
   "source": [
    "### Geração do Shapefile com os dados de CoronaVirus"
   ]
  },
  {
   "cell_type": "code",
   "execution_count": 34,
   "metadata": {
    "code_folding": [
     0
    ]
   },
   "outputs": [],
   "source": [
    "def preparing_shape_data(df):\n",
    "    \n",
    "    \n",
    "    # retira os casos do estado que não estão associados a municipios\n",
    "    filter_len_cod_mun = df.cod_mun.astype('str').str.len() == 2 #filtro de cod_mun de apenas dois caracteres\n",
    "    df = df[~filter_len_cod_mun] # Retira do Data Frame df as linhas em que cod_mun tem apenas dois caracteres \n",
    "    \n",
    "    # pivoteia o df, com cod_mun na linha, datas nas colunas e casos totais como valores\n",
    "    df = df[['cod_mun',\n",
    "              'data',\n",
    "              'casos_total']].pivot_table(index='cod_mun', columns='data', values='casos_total')\n",
    "    \n",
    "    # corrige o nome das colunas\n",
    "    list_new_column_names = []\n",
    "    for old_name in df.columns:\n",
    "        new_name = 'dia' + old_name.split('-')[2]+ old_name.split('-')[1]\n",
    "        list_new_column_names.append(new_name)\n",
    "    df.columns = list_new_column_names\n",
    "    \n",
    "    \n",
    "    \n",
    "    #list_new_column_names = []\n",
    "    #for old_column_name in df.columns:\n",
    "    #    new_name = 'dia' + old_column_name.split('-')[1] + old_column_name.split('-')[0]\n",
    "    #    list_new_column_names.append(new_name)\n",
    "    #df.columns = list_new_column_names\n",
    "    \n",
    "    # insere 0 nos casos em que o valores são nulos\n",
    "    df.fillna(0, inplace=True)\n",
    "    \n",
    "    # transforma os dados em integers\n",
    "    \n",
    "    df = df.astype('int32')\n",
    "    \n",
    "    \n",
    "    return df"
   ]
  },
  {
   "cell_type": "code",
   "execution_count": 35,
   "metadata": {},
   "outputs": [],
   "source": [
    "# Gera o Data Frame com os dados de COVID no formato adequado para importação em Geo Data Frame\n",
    "df_covid_19_br_to_shape = preparing_shape_data(df_covid_19_br)"
   ]
  },
  {
   "cell_type": "code",
   "execution_count": 36,
   "metadata": {},
   "outputs": [
    {
     "data": {
      "text/html": [
       "<div>\n",
       "<style scoped>\n",
       "    .dataframe tbody tr th:only-of-type {\n",
       "        vertical-align: middle;\n",
       "    }\n",
       "\n",
       "    .dataframe tbody tr th {\n",
       "        vertical-align: top;\n",
       "    }\n",
       "\n",
       "    .dataframe thead th {\n",
       "        text-align: right;\n",
       "    }\n",
       "</style>\n",
       "<table border=\"1\" class=\"dataframe\">\n",
       "  <thead>\n",
       "    <tr style=\"text-align: right;\">\n",
       "      <th></th>\n",
       "      <th>dia2502</th>\n",
       "      <th>dia2902</th>\n",
       "      <th>dia0403</th>\n",
       "      <th>dia0503</th>\n",
       "      <th>dia0603</th>\n",
       "      <th>dia0703</th>\n",
       "      <th>dia0803</th>\n",
       "      <th>dia0903</th>\n",
       "      <th>dia1003</th>\n",
       "      <th>dia1103</th>\n",
       "      <th>...</th>\n",
       "      <th>dia2503</th>\n",
       "      <th>dia2603</th>\n",
       "      <th>dia2703</th>\n",
       "      <th>dia2803</th>\n",
       "      <th>dia2903</th>\n",
       "      <th>dia3003</th>\n",
       "      <th>dia3103</th>\n",
       "      <th>dia0104</th>\n",
       "      <th>dia0204</th>\n",
       "      <th>dia0304</th>\n",
       "    </tr>\n",
       "    <tr>\n",
       "      <th>cod_mun</th>\n",
       "      <th></th>\n",
       "      <th></th>\n",
       "      <th></th>\n",
       "      <th></th>\n",
       "      <th></th>\n",
       "      <th></th>\n",
       "      <th></th>\n",
       "      <th></th>\n",
       "      <th></th>\n",
       "      <th></th>\n",
       "      <th></th>\n",
       "      <th></th>\n",
       "      <th></th>\n",
       "      <th></th>\n",
       "      <th></th>\n",
       "      <th></th>\n",
       "      <th></th>\n",
       "      <th></th>\n",
       "      <th></th>\n",
       "      <th></th>\n",
       "      <th></th>\n",
       "    </tr>\n",
       "  </thead>\n",
       "  <tbody>\n",
       "    <tr>\n",
       "      <td>1100114</td>\n",
       "      <td>0</td>\n",
       "      <td>0</td>\n",
       "      <td>0</td>\n",
       "      <td>0</td>\n",
       "      <td>0</td>\n",
       "      <td>0</td>\n",
       "      <td>0</td>\n",
       "      <td>0</td>\n",
       "      <td>0</td>\n",
       "      <td>0</td>\n",
       "      <td>...</td>\n",
       "      <td>0</td>\n",
       "      <td>0</td>\n",
       "      <td>0</td>\n",
       "      <td>0</td>\n",
       "      <td>0</td>\n",
       "      <td>1</td>\n",
       "      <td>1</td>\n",
       "      <td>1</td>\n",
       "      <td>1</td>\n",
       "      <td>1</td>\n",
       "    </tr>\n",
       "    <tr>\n",
       "      <td>1100122</td>\n",
       "      <td>0</td>\n",
       "      <td>0</td>\n",
       "      <td>0</td>\n",
       "      <td>0</td>\n",
       "      <td>0</td>\n",
       "      <td>0</td>\n",
       "      <td>0</td>\n",
       "      <td>0</td>\n",
       "      <td>0</td>\n",
       "      <td>0</td>\n",
       "      <td>...</td>\n",
       "      <td>1</td>\n",
       "      <td>1</td>\n",
       "      <td>1</td>\n",
       "      <td>1</td>\n",
       "      <td>1</td>\n",
       "      <td>1</td>\n",
       "      <td>1</td>\n",
       "      <td>1</td>\n",
       "      <td>1</td>\n",
       "      <td>1</td>\n",
       "    </tr>\n",
       "    <tr>\n",
       "      <td>1100205</td>\n",
       "      <td>0</td>\n",
       "      <td>0</td>\n",
       "      <td>0</td>\n",
       "      <td>0</td>\n",
       "      <td>0</td>\n",
       "      <td>0</td>\n",
       "      <td>0</td>\n",
       "      <td>0</td>\n",
       "      <td>0</td>\n",
       "      <td>0</td>\n",
       "      <td>...</td>\n",
       "      <td>4</td>\n",
       "      <td>5</td>\n",
       "      <td>5</td>\n",
       "      <td>5</td>\n",
       "      <td>5</td>\n",
       "      <td>6</td>\n",
       "      <td>7</td>\n",
       "      <td>7</td>\n",
       "      <td>8</td>\n",
       "      <td>8</td>\n",
       "    </tr>\n",
       "    <tr>\n",
       "      <td>1200013</td>\n",
       "      <td>0</td>\n",
       "      <td>0</td>\n",
       "      <td>0</td>\n",
       "      <td>0</td>\n",
       "      <td>0</td>\n",
       "      <td>0</td>\n",
       "      <td>0</td>\n",
       "      <td>0</td>\n",
       "      <td>0</td>\n",
       "      <td>0</td>\n",
       "      <td>...</td>\n",
       "      <td>0</td>\n",
       "      <td>0</td>\n",
       "      <td>0</td>\n",
       "      <td>0</td>\n",
       "      <td>2</td>\n",
       "      <td>7</td>\n",
       "      <td>7</td>\n",
       "      <td>8</td>\n",
       "      <td>8</td>\n",
       "      <td>8</td>\n",
       "    </tr>\n",
       "    <tr>\n",
       "      <td>1200401</td>\n",
       "      <td>0</td>\n",
       "      <td>0</td>\n",
       "      <td>0</td>\n",
       "      <td>0</td>\n",
       "      <td>0</td>\n",
       "      <td>0</td>\n",
       "      <td>0</td>\n",
       "      <td>0</td>\n",
       "      <td>0</td>\n",
       "      <td>0</td>\n",
       "      <td>...</td>\n",
       "      <td>23</td>\n",
       "      <td>24</td>\n",
       "      <td>25</td>\n",
       "      <td>25</td>\n",
       "      <td>31</td>\n",
       "      <td>34</td>\n",
       "      <td>34</td>\n",
       "      <td>34</td>\n",
       "      <td>36</td>\n",
       "      <td>36</td>\n",
       "    </tr>\n",
       "    <tr>\n",
       "      <td>...</td>\n",
       "      <td>...</td>\n",
       "      <td>...</td>\n",
       "      <td>...</td>\n",
       "      <td>...</td>\n",
       "      <td>...</td>\n",
       "      <td>...</td>\n",
       "      <td>...</td>\n",
       "      <td>...</td>\n",
       "      <td>...</td>\n",
       "      <td>...</td>\n",
       "      <td>...</td>\n",
       "      <td>...</td>\n",
       "      <td>...</td>\n",
       "      <td>...</td>\n",
       "      <td>...</td>\n",
       "      <td>...</td>\n",
       "      <td>...</td>\n",
       "      <td>...</td>\n",
       "      <td>...</td>\n",
       "      <td>...</td>\n",
       "      <td>...</td>\n",
       "    </tr>\n",
       "    <tr>\n",
       "      <td>5218805</td>\n",
       "      <td>0</td>\n",
       "      <td>0</td>\n",
       "      <td>0</td>\n",
       "      <td>0</td>\n",
       "      <td>0</td>\n",
       "      <td>0</td>\n",
       "      <td>0</td>\n",
       "      <td>0</td>\n",
       "      <td>0</td>\n",
       "      <td>0</td>\n",
       "      <td>...</td>\n",
       "      <td>6</td>\n",
       "      <td>6</td>\n",
       "      <td>6</td>\n",
       "      <td>7</td>\n",
       "      <td>7</td>\n",
       "      <td>7</td>\n",
       "      <td>7</td>\n",
       "      <td>7</td>\n",
       "      <td>7</td>\n",
       "      <td>7</td>\n",
       "    </tr>\n",
       "    <tr>\n",
       "      <td>5220603</td>\n",
       "      <td>0</td>\n",
       "      <td>0</td>\n",
       "      <td>0</td>\n",
       "      <td>0</td>\n",
       "      <td>0</td>\n",
       "      <td>0</td>\n",
       "      <td>0</td>\n",
       "      <td>0</td>\n",
       "      <td>0</td>\n",
       "      <td>0</td>\n",
       "      <td>...</td>\n",
       "      <td>1</td>\n",
       "      <td>1</td>\n",
       "      <td>1</td>\n",
       "      <td>1</td>\n",
       "      <td>1</td>\n",
       "      <td>1</td>\n",
       "      <td>1</td>\n",
       "      <td>1</td>\n",
       "      <td>1</td>\n",
       "      <td>1</td>\n",
       "    </tr>\n",
       "    <tr>\n",
       "      <td>5221403</td>\n",
       "      <td>0</td>\n",
       "      <td>0</td>\n",
       "      <td>0</td>\n",
       "      <td>0</td>\n",
       "      <td>0</td>\n",
       "      <td>0</td>\n",
       "      <td>0</td>\n",
       "      <td>0</td>\n",
       "      <td>0</td>\n",
       "      <td>0</td>\n",
       "      <td>...</td>\n",
       "      <td>0</td>\n",
       "      <td>0</td>\n",
       "      <td>0</td>\n",
       "      <td>0</td>\n",
       "      <td>0</td>\n",
       "      <td>0</td>\n",
       "      <td>0</td>\n",
       "      <td>1</td>\n",
       "      <td>1</td>\n",
       "      <td>1</td>\n",
       "    </tr>\n",
       "    <tr>\n",
       "      <td>5221858</td>\n",
       "      <td>0</td>\n",
       "      <td>0</td>\n",
       "      <td>0</td>\n",
       "      <td>0</td>\n",
       "      <td>0</td>\n",
       "      <td>0</td>\n",
       "      <td>0</td>\n",
       "      <td>0</td>\n",
       "      <td>0</td>\n",
       "      <td>0</td>\n",
       "      <td>...</td>\n",
       "      <td>2</td>\n",
       "      <td>2</td>\n",
       "      <td>2</td>\n",
       "      <td>2</td>\n",
       "      <td>2</td>\n",
       "      <td>2</td>\n",
       "      <td>3</td>\n",
       "      <td>4</td>\n",
       "      <td>4</td>\n",
       "      <td>4</td>\n",
       "    </tr>\n",
       "    <tr>\n",
       "      <td>5300108</td>\n",
       "      <td>0</td>\n",
       "      <td>0</td>\n",
       "      <td>0</td>\n",
       "      <td>0</td>\n",
       "      <td>0</td>\n",
       "      <td>1</td>\n",
       "      <td>1</td>\n",
       "      <td>1</td>\n",
       "      <td>2</td>\n",
       "      <td>2</td>\n",
       "      <td>...</td>\n",
       "      <td>195</td>\n",
       "      <td>203</td>\n",
       "      <td>242</td>\n",
       "      <td>260</td>\n",
       "      <td>298</td>\n",
       "      <td>312</td>\n",
       "      <td>333</td>\n",
       "      <td>355</td>\n",
       "      <td>400</td>\n",
       "      <td>400</td>\n",
       "    </tr>\n",
       "  </tbody>\n",
       "</table>\n",
       "<p>482 rows × 33 columns</p>\n",
       "</div>"
      ],
      "text/plain": [
       "         dia2502  dia2902  dia0403  dia0503  dia0603  dia0703  dia0803  \\\n",
       "cod_mun                                                                  \n",
       "1100114        0        0        0        0        0        0        0   \n",
       "1100122        0        0        0        0        0        0        0   \n",
       "1100205        0        0        0        0        0        0        0   \n",
       "1200013        0        0        0        0        0        0        0   \n",
       "1200401        0        0        0        0        0        0        0   \n",
       "...          ...      ...      ...      ...      ...      ...      ...   \n",
       "5218805        0        0        0        0        0        0        0   \n",
       "5220603        0        0        0        0        0        0        0   \n",
       "5221403        0        0        0        0        0        0        0   \n",
       "5221858        0        0        0        0        0        0        0   \n",
       "5300108        0        0        0        0        0        1        1   \n",
       "\n",
       "         dia0903  dia1003  dia1103  ...  dia2503  dia2603  dia2703  dia2803  \\\n",
       "cod_mun                             ...                                       \n",
       "1100114        0        0        0  ...        0        0        0        0   \n",
       "1100122        0        0        0  ...        1        1        1        1   \n",
       "1100205        0        0        0  ...        4        5        5        5   \n",
       "1200013        0        0        0  ...        0        0        0        0   \n",
       "1200401        0        0        0  ...       23       24       25       25   \n",
       "...          ...      ...      ...  ...      ...      ...      ...      ...   \n",
       "5218805        0        0        0  ...        6        6        6        7   \n",
       "5220603        0        0        0  ...        1        1        1        1   \n",
       "5221403        0        0        0  ...        0        0        0        0   \n",
       "5221858        0        0        0  ...        2        2        2        2   \n",
       "5300108        1        2        2  ...      195      203      242      260   \n",
       "\n",
       "         dia2903  dia3003  dia3103  dia0104  dia0204  dia0304  \n",
       "cod_mun                                                        \n",
       "1100114        0        1        1        1        1        1  \n",
       "1100122        1        1        1        1        1        1  \n",
       "1100205        5        6        7        7        8        8  \n",
       "1200013        2        7        7        8        8        8  \n",
       "1200401       31       34       34       34       36       36  \n",
       "...          ...      ...      ...      ...      ...      ...  \n",
       "5218805        7        7        7        7        7        7  \n",
       "5220603        1        1        1        1        1        1  \n",
       "5221403        0        0        0        1        1        1  \n",
       "5221858        2        2        3        4        4        4  \n",
       "5300108      298      312      333      355      400      400  \n",
       "\n",
       "[482 rows x 33 columns]"
      ]
     },
     "execution_count": 36,
     "metadata": {},
     "output_type": "execute_result"
    }
   ],
   "source": [
    "# visualização do Data Frame com os dados para importação em Geo Data Frame\n",
    "df_covid_19_br_to_shape"
   ]
  },
  {
   "cell_type": "code",
   "execution_count": null,
   "metadata": {},
   "outputs": [],
   "source": [
    "diretorio_estrutura_territorial = os.path.join(os.getcwd(),'estrutura_territorial')"
   ]
  },
  {
   "cell_type": "code",
   "execution_count": 47,
   "metadata": {},
   "outputs": [
    {
     "data": {
      "text/plain": [
       "'C:\\\\Users\\\\Acer A315\\\\OneDrive\\\\covid_19\\\\base_de_dados\\\\estrutura_territorial\\\\BRMUE250GC_SIR.shp'"
      ]
     },
     "execution_count": 47,
     "metadata": {},
     "output_type": "execute_result"
    }
   ],
   "source": [
    "os.path.join(diretorio_estrutura_territorial,'BRMUE250GC_SIR.shp')"
   ]
  },
  {
   "cell_type": "code",
   "execution_count": 48,
   "metadata": {},
   "outputs": [
    {
     "ename": "DriverError",
     "evalue": "'\base_de_dados\\estrutura_territorial\\BRMUE250GC_SIR.shp' does not exist in the file system, and is not recognized as a supported dataset name.",
     "output_type": "error",
     "traceback": [
      "\u001b[1;31m---------------------------------------------------------------------------\u001b[0m",
      "\u001b[1;31mCPLE_OpenFailedError\u001b[0m                      Traceback (most recent call last)",
      "\u001b[1;32mfiona/_shim.pyx\u001b[0m in \u001b[0;36mfiona._shim.gdal_open_vector\u001b[1;34m()\u001b[0m\n",
      "\u001b[1;32mfiona/_err.pyx\u001b[0m in \u001b[0;36mfiona._err.exc_wrap_pointer\u001b[1;34m()\u001b[0m\n",
      "\u001b[1;31mCPLE_OpenFailedError\u001b[0m: '\base_de_dados\\estrutura_territorial\\BRMUE250GC_SIR.shp' does not exist in the file system, and is not recognized as a supported dataset name.",
      "\nDuring handling of the above exception, another exception occurred:\n",
      "\u001b[1;31mDriverError\u001b[0m                               Traceback (most recent call last)",
      "\u001b[1;32m<ipython-input-48-d2c952cfe103>\u001b[0m in \u001b[0;36m<module>\u001b[1;34m\u001b[0m\n\u001b[0;32m      1\u001b[0m \u001b[1;31m# Cria o Geo Data Frame com base na shapefile de todos os municipios do Brasil\u001b[0m\u001b[1;33m\u001b[0m\u001b[1;33m\u001b[0m\u001b[1;33m\u001b[0m\u001b[0m\n\u001b[1;32m----> 2\u001b[1;33m \u001b[0mgdf_municipios_br\u001b[0m \u001b[1;33m=\u001b[0m \u001b[0mgpd\u001b[0m\u001b[1;33m.\u001b[0m\u001b[0mread_file\u001b[0m\u001b[1;33m(\u001b[0m\u001b[1;34m'\\base_de_dados\\estrutura_territorial\\BRMUE250GC_SIR.shp'\u001b[0m\u001b[1;33m,\u001b[0m \u001b[0mencoding\u001b[0m\u001b[1;33m=\u001b[0m\u001b[1;34m'utf-8'\u001b[0m\u001b[1;33m)\u001b[0m\u001b[1;33m\u001b[0m\u001b[1;33m\u001b[0m\u001b[0m\n\u001b[0m\u001b[0;32m      3\u001b[0m \u001b[0mgdf_municipios_br\u001b[0m\u001b[1;33m\u001b[0m\u001b[1;33m\u001b[0m\u001b[0m\n",
      "\u001b[1;32m~\\Anaconda3\\lib\\site-packages\\geopandas\\io\\file.py\u001b[0m in \u001b[0;36mread_file\u001b[1;34m(filename, bbox, **kwargs)\u001b[0m\n\u001b[0;32m     74\u001b[0m \u001b[1;33m\u001b[0m\u001b[0m\n\u001b[0;32m     75\u001b[0m     \u001b[1;32mwith\u001b[0m \u001b[0mfiona_env\u001b[0m\u001b[1;33m(\u001b[0m\u001b[1;33m)\u001b[0m\u001b[1;33m:\u001b[0m\u001b[1;33m\u001b[0m\u001b[1;33m\u001b[0m\u001b[0m\n\u001b[1;32m---> 76\u001b[1;33m         \u001b[1;32mwith\u001b[0m \u001b[0mreader\u001b[0m\u001b[1;33m(\u001b[0m\u001b[0mpath_or_bytes\u001b[0m\u001b[1;33m,\u001b[0m \u001b[1;33m**\u001b[0m\u001b[0mkwargs\u001b[0m\u001b[1;33m)\u001b[0m \u001b[1;32mas\u001b[0m \u001b[0mfeatures\u001b[0m\u001b[1;33m:\u001b[0m\u001b[1;33m\u001b[0m\u001b[1;33m\u001b[0m\u001b[0m\n\u001b[0m\u001b[0;32m     77\u001b[0m \u001b[1;33m\u001b[0m\u001b[0m\n\u001b[0;32m     78\u001b[0m             \u001b[1;31m# In a future Fiona release the crs attribute of features will\u001b[0m\u001b[1;33m\u001b[0m\u001b[1;33m\u001b[0m\u001b[1;33m\u001b[0m\u001b[0m\n",
      "\u001b[1;32m~\\Anaconda3\\lib\\site-packages\\fiona\\env.py\u001b[0m in \u001b[0;36mwrapper\u001b[1;34m(*args, **kwargs)\u001b[0m\n\u001b[0;32m    394\u001b[0m     \u001b[1;32mdef\u001b[0m \u001b[0mwrapper\u001b[0m\u001b[1;33m(\u001b[0m\u001b[1;33m*\u001b[0m\u001b[0margs\u001b[0m\u001b[1;33m,\u001b[0m \u001b[1;33m**\u001b[0m\u001b[0mkwargs\u001b[0m\u001b[1;33m)\u001b[0m\u001b[1;33m:\u001b[0m\u001b[1;33m\u001b[0m\u001b[1;33m\u001b[0m\u001b[0m\n\u001b[0;32m    395\u001b[0m         \u001b[1;32mif\u001b[0m \u001b[0mlocal\u001b[0m\u001b[1;33m.\u001b[0m\u001b[0m_env\u001b[0m\u001b[1;33m:\u001b[0m\u001b[1;33m\u001b[0m\u001b[1;33m\u001b[0m\u001b[0m\n\u001b[1;32m--> 396\u001b[1;33m             \u001b[1;32mreturn\u001b[0m \u001b[0mf\u001b[0m\u001b[1;33m(\u001b[0m\u001b[1;33m*\u001b[0m\u001b[0margs\u001b[0m\u001b[1;33m,\u001b[0m \u001b[1;33m**\u001b[0m\u001b[0mkwargs\u001b[0m\u001b[1;33m)\u001b[0m\u001b[1;33m\u001b[0m\u001b[1;33m\u001b[0m\u001b[0m\n\u001b[0m\u001b[0;32m    397\u001b[0m         \u001b[1;32melse\u001b[0m\u001b[1;33m:\u001b[0m\u001b[1;33m\u001b[0m\u001b[1;33m\u001b[0m\u001b[0m\n\u001b[0;32m    398\u001b[0m             \u001b[1;32mif\u001b[0m \u001b[0misinstance\u001b[0m\u001b[1;33m(\u001b[0m\u001b[0margs\u001b[0m\u001b[1;33m[\u001b[0m\u001b[1;36m0\u001b[0m\u001b[1;33m]\u001b[0m\u001b[1;33m,\u001b[0m \u001b[0mstr\u001b[0m\u001b[1;33m)\u001b[0m\u001b[1;33m:\u001b[0m\u001b[1;33m\u001b[0m\u001b[1;33m\u001b[0m\u001b[0m\n",
      "\u001b[1;32m~\\Anaconda3\\lib\\site-packages\\fiona\\__init__.py\u001b[0m in \u001b[0;36mopen\u001b[1;34m(fp, mode, driver, schema, crs, encoding, layer, vfs, enabled_drivers, crs_wkt, **kwargs)\u001b[0m\n\u001b[0;32m    251\u001b[0m         \u001b[1;32mif\u001b[0m \u001b[0mmode\u001b[0m \u001b[1;32min\u001b[0m \u001b[1;33m(\u001b[0m\u001b[1;34m'a'\u001b[0m\u001b[1;33m,\u001b[0m \u001b[1;34m'r'\u001b[0m\u001b[1;33m)\u001b[0m\u001b[1;33m:\u001b[0m\u001b[1;33m\u001b[0m\u001b[1;33m\u001b[0m\u001b[0m\n\u001b[0;32m    252\u001b[0m             c = Collection(path, mode, driver=driver, encoding=encoding,\n\u001b[1;32m--> 253\u001b[1;33m                            layer=layer, enabled_drivers=enabled_drivers, **kwargs)\n\u001b[0m\u001b[0;32m    254\u001b[0m         \u001b[1;32melif\u001b[0m \u001b[0mmode\u001b[0m \u001b[1;33m==\u001b[0m \u001b[1;34m'w'\u001b[0m\u001b[1;33m:\u001b[0m\u001b[1;33m\u001b[0m\u001b[1;33m\u001b[0m\u001b[0m\n\u001b[0;32m    255\u001b[0m             \u001b[1;32mif\u001b[0m \u001b[0mschema\u001b[0m\u001b[1;33m:\u001b[0m\u001b[1;33m\u001b[0m\u001b[1;33m\u001b[0m\u001b[0m\n",
      "\u001b[1;32m~\\Anaconda3\\lib\\site-packages\\fiona\\collection.py\u001b[0m in \u001b[0;36m__init__\u001b[1;34m(self, path, mode, driver, schema, crs, encoding, layer, vsi, archive, enabled_drivers, crs_wkt, ignore_fields, ignore_geometry, **kwargs)\u001b[0m\n\u001b[0;32m    157\u001b[0m             \u001b[1;32mif\u001b[0m \u001b[0mself\u001b[0m\u001b[1;33m.\u001b[0m\u001b[0mmode\u001b[0m \u001b[1;33m==\u001b[0m \u001b[1;34m'r'\u001b[0m\u001b[1;33m:\u001b[0m\u001b[1;33m\u001b[0m\u001b[1;33m\u001b[0m\u001b[0m\n\u001b[0;32m    158\u001b[0m                 \u001b[0mself\u001b[0m\u001b[1;33m.\u001b[0m\u001b[0msession\u001b[0m \u001b[1;33m=\u001b[0m \u001b[0mSession\u001b[0m\u001b[1;33m(\u001b[0m\u001b[1;33m)\u001b[0m\u001b[1;33m\u001b[0m\u001b[1;33m\u001b[0m\u001b[0m\n\u001b[1;32m--> 159\u001b[1;33m                 \u001b[0mself\u001b[0m\u001b[1;33m.\u001b[0m\u001b[0msession\u001b[0m\u001b[1;33m.\u001b[0m\u001b[0mstart\u001b[0m\u001b[1;33m(\u001b[0m\u001b[0mself\u001b[0m\u001b[1;33m,\u001b[0m \u001b[1;33m**\u001b[0m\u001b[0mkwargs\u001b[0m\u001b[1;33m)\u001b[0m\u001b[1;33m\u001b[0m\u001b[1;33m\u001b[0m\u001b[0m\n\u001b[0m\u001b[0;32m    160\u001b[0m             \u001b[1;32melif\u001b[0m \u001b[0mself\u001b[0m\u001b[1;33m.\u001b[0m\u001b[0mmode\u001b[0m \u001b[1;32min\u001b[0m \u001b[1;33m(\u001b[0m\u001b[1;34m'a'\u001b[0m\u001b[1;33m,\u001b[0m \u001b[1;34m'w'\u001b[0m\u001b[1;33m)\u001b[0m\u001b[1;33m:\u001b[0m\u001b[1;33m\u001b[0m\u001b[1;33m\u001b[0m\u001b[0m\n\u001b[0;32m    161\u001b[0m                 \u001b[0mself\u001b[0m\u001b[1;33m.\u001b[0m\u001b[0msession\u001b[0m \u001b[1;33m=\u001b[0m \u001b[0mWritingSession\u001b[0m\u001b[1;33m(\u001b[0m\u001b[1;33m)\u001b[0m\u001b[1;33m\u001b[0m\u001b[1;33m\u001b[0m\u001b[0m\n",
      "\u001b[1;32mfiona/ogrext.pyx\u001b[0m in \u001b[0;36mfiona.ogrext.Session.start\u001b[1;34m()\u001b[0m\n",
      "\u001b[1;32mfiona/_shim.pyx\u001b[0m in \u001b[0;36mfiona._shim.gdal_open_vector\u001b[1;34m()\u001b[0m\n",
      "\u001b[1;31mDriverError\u001b[0m: '\base_de_dados\\estrutura_territorial\\BRMUE250GC_SIR.shp' does not exist in the file system, and is not recognized as a supported dataset name."
     ]
    }
   ],
   "source": [
    "# Cria o Geo Data Frame com base na shapefile de todos os municipios do Brasil\n",
    "gdf_municipios_br = gpd.read_file('\\base_de_dados\\estrutura_territorial\\BRMUE250GC_SIR.shp', encoding='utf-8')\n",
    "gdf_municipios_br"
   ]
  },
  {
   "cell_type": "code",
   "execution_count": null,
   "metadata": {},
   "outputs": [],
   "source": [
    "# Verifica a estrutura do Geo Data Frame\n",
    "gdf_municipios_br.info() "
   ]
  },
  {
   "cell_type": "code",
   "execution_count": null,
   "metadata": {},
   "outputs": [],
   "source": [
    "# Renomeia as colunas do Geo Data Frame\n",
    "gdf_municipios_br.columns = ['municipio', 'cod_mun', 'geometry']"
   ]
  },
  {
   "cell_type": "code",
   "execution_count": null,
   "metadata": {},
   "outputs": [],
   "source": [
    "# Altera o tipo da coluna cod_mun no Geo Data Frame para integer\n",
    "gdf_municipios_br.cod_mun  = pd.to_numeric(gdf_municipios_br.cod_mun, downcast='integer')"
   ]
  },
  {
   "cell_type": "code",
   "execution_count": null,
   "metadata": {},
   "outputs": [],
   "source": [
    "# Expande o Data Frame df_covid_19_br_to_shape para que tenha os mesmos indexes encontrados no Geo Data Frame\n",
    "\n",
    "df_covid_19_br_to_shape = df_covid_19_br_to_shape.reindex(gdf_municipios_br.cod_mun.values)"
   ]
  },
  {
   "cell_type": "code",
   "execution_count": null,
   "metadata": {},
   "outputs": [],
   "source": [
    "# Faz a junção entre Geo Data Frame e o Data Frame \n",
    "\n",
    "gdf_municipios_br = gdf_municipios_br.merge(df_covid_19_br_to_shape, on='cod_mun')"
   ]
  },
  {
   "cell_type": "code",
   "execution_count": null,
   "metadata": {},
   "outputs": [],
   "source": [
    "gdf_municipios_br.iloc[:, 3:] = gdf_municipios_br.iloc[:, 3:].fillna(0)"
   ]
  },
  {
   "cell_type": "code",
   "execution_count": null,
   "metadata": {},
   "outputs": [],
   "source": [
    "gdf_municipios_br.nlargest(n=10, columns='dia3003')"
   ]
  },
  {
   "cell_type": "code",
   "execution_count": null,
   "metadata": {},
   "outputs": [],
   "source": [
    "gdf_municipios_br[gdf_municipios_br['dia2703'] != 0].plot(column='dia2703', figsize=(15, 10))"
   ]
  },
  {
   "cell_type": "code",
   "execution_count": null,
   "metadata": {},
   "outputs": [],
   "source": [
    "gdf_municipios_br.to_file(driver = 'ESRI Shapefile', filename = 'BRMUE250GC_SIR_alterado.shp')"
   ]
  },
  {
   "cell_type": "code",
   "execution_count": null,
   "metadata": {},
   "outputs": [],
   "source": [
    "df_fatores_geograficos = pd.read_csv('base_compilada_de_fatores_geograficos.csv', delimiter=';', encoding='utf-8')"
   ]
  },
  {
   "cell_type": "code",
   "execution_count": null,
   "metadata": {},
   "outputs": [],
   "source": [
    "df_fatores_geograficos.info()"
   ]
  },
  {
   "cell_type": "code",
   "execution_count": null,
   "metadata": {},
   "outputs": [],
   "source": [
    "df_fatores_geograficos.describe()"
   ]
  },
  {
   "cell_type": "code",
   "execution_count": null,
   "metadata": {},
   "outputs": [],
   "source": [
    "df_fatores_geograficos.set_index('cod_mun', inplace=True)"
   ]
  },
  {
   "cell_type": "code",
   "execution_count": null,
   "metadata": {},
   "outputs": [],
   "source": [
    "df_fatores_geograficos = df_fatores_geograficos.join(df_covid_19_br_to_shape, on='cod_mun')"
   ]
  },
  {
   "cell_type": "code",
   "execution_count": null,
   "metadata": {},
   "outputs": [],
   "source": [
    "df_fatores_geograficos.iloc[:, 10:] = df_fatores_geograficos.iloc[:, 10:].fillna(0)"
   ]
  },
  {
   "cell_type": "code",
   "execution_count": null,
   "metadata": {},
   "outputs": [],
   "source": [
    "df_fatores_geograficos = df_fatores_geograficos.join(df_data_primeiro_caso, on='cod_mun')"
   ]
  },
  {
   "cell_type": "code",
   "execution_count": null,
   "metadata": {},
   "outputs": [],
   "source": [
    "df_fatores_geograficos.data_primeiro_caso = pd.to_datetime(df_fatores_geograficos.data_primeiro_caso)"
   ]
  },
  {
   "cell_type": "code",
   "execution_count": null,
   "metadata": {},
   "outputs": [],
   "source": [
    "df_fatores_geograficos.info()"
   ]
  },
  {
   "cell_type": "code",
   "execution_count": null,
   "metadata": {},
   "outputs": [],
   "source": [
    "df_fatores_geograficos['data_padrao'] = pd.to_datetime('2020-02-24')\n",
    "\n",
    "df_fatores_geograficos['dias_contaminação_referencia'] = df_fatores_geograficos['data_primeiro_caso'].sub(df_fatores_geograficos['data_padrao'], axis=0)\n",
    "\n",
    "\n",
    "df_fatores_geograficos['dias_contaminação_referencia'] = df_fatores_geograficos['dias_contaminação_referencia'] / np.timedelta64(1, 'D')\n"
   ]
  },
  {
   "cell_type": "code",
   "execution_count": null,
   "metadata": {},
   "outputs": [],
   "source": [
    "df_fatores_geograficos"
   ]
  },
  {
   "cell_type": "code",
   "execution_count": null,
   "metadata": {},
   "outputs": [],
   "source": [
    "df_fatores_geograficos.columns"
   ]
  },
  {
   "cell_type": "code",
   "execution_count": null,
   "metadata": {},
   "outputs": [],
   "source": [
    "corr = df_fatores_geograficos[['pop2019', \n",
    "                        'pib2017milreais', \n",
    "                        'export_fob_2019',\n",
    "                        'import_fob_2019',\n",
    "                        'pip_per_capita17',\n",
    "                        'hierarquia',\n",
    "                        'dia2502',\n",
    "                        'dias_contaminação_referencia']].corr()"
   ]
  },
  {
   "cell_type": "code",
   "execution_count": null,
   "metadata": {},
   "outputs": [],
   "source": [
    "corr"
   ]
  },
  {
   "cell_type": "code",
   "execution_count": null,
   "metadata": {},
   "outputs": [],
   "source": [
    "sns.heatmap(corr, \n",
    "        xticklabels=corr.columns,\n",
    "        yticklabels=corr.columns, cmap = sns.diverging_palette(250, 10, as_cmap=True))"
   ]
  },
  {
   "cell_type": "markdown",
   "metadata": {},
   "source": [
    "**arranjos populacionais**"
   ]
  },
  {
   "cell_type": "code",
   "execution_count": null,
   "metadata": {},
   "outputs": [],
   "source": [
    "df_arranjos_populacionais = pd.read_csv('arranjo_populacional.csv', sep=';', decimal=',')"
   ]
  },
  {
   "cell_type": "code",
   "execution_count": null,
   "metadata": {},
   "outputs": [],
   "source": [
    "# insere a coluna peso\n",
    "df_arranjos_populacionais['peso_integracao_interna'] = 0\n",
    "\n",
    "# calcula o peso populacional de cada municipio no conjunto\n",
    "for arranjo in df_arranjos_populacionais.arranjo_populacional.unique():\n",
    "    filtro_arranjo_pop = df_arranjos_populacionais.arranjo_populacional == arranjo\n",
    "    df_arranjos_populacionais.loc[:,'peso_integracao_interna'].loc[filtro_arranjo_pop] = df_arranjos_populacionais.loc[filtro_arranjo_pop].pop_2019 / df_arranjos_populacionais.loc[filtro_arranjo_pop].pop_2019.sum();"
   ]
  },
  {
   "cell_type": "code",
   "execution_count": null,
   "metadata": {},
   "outputs": [],
   "source": [
    "# insere a coluna peso\n",
    "df_arranjos_populacionais['peso_integracao_geral'] = 0\n",
    "\n",
    "# calcula o peso populacional de cada municipio no conjunto\n",
    "for arranjo in df_arranjos_populacionais.arranjo_populacional.unique():\n",
    "    filtro_arranjo_pop = df_arranjos_populacionais.arranjo_populacional == arranjo\n",
    "    df_arranjos_populacionais.loc[:,'peso_integracao_geral'].loc[filtro_arranjo_pop] = df_arranjos_populacionais.loc[filtro_arranjo_pop].loc[:,'pessoas_em_pendularidade_trabalho'].sum() / df_arranjos_populacionais.loc[:,'pessoas_em_pendularidade_trabalho'].sum();"
   ]
  },
  {
   "cell_type": "code",
   "execution_count": null,
   "metadata": {},
   "outputs": [],
   "source": [
    "df_fatores_geograficos = df_fatores_geograficos.join(df_arranjos_populacionais.loc[:,['cod_mun', 'peso_integracao_interna', 'peso_integracao_geral']], on='cod_mun')"
   ]
  },
  {
   "cell_type": "code",
   "execution_count": null,
   "metadata": {},
   "outputs": [],
   "source": [
    "df_fatores_geograficos.to_csv('fatores_total.csv', sep=';', decimal=',', encoding='utf-16')"
   ]
  },
  {
   "cell_type": "code",
   "execution_count": null,
   "metadata": {},
   "outputs": [],
   "source": [
    "df_arranjos_populacionais.loc[:,['cod_mun', 'peso_integracao_interna', 'peso_integracao_geral']]"
   ]
  },
  {
   "cell_type": "code",
   "execution_count": null,
   "metadata": {},
   "outputs": [],
   "source": [
    "df_arranjos_populacionais.loc[:,'peso_integracao_geral'].sum()"
   ]
  },
  {
   "cell_type": "code",
   "execution_count": null,
   "metadata": {},
   "outputs": [],
   "source": [
    "next(iter_test)[1].values[0]"
   ]
  },
  {
   "cell_type": "code",
   "execution_count": null,
   "metadata": {},
   "outputs": [],
   "source": [
    "filtro_arranjo_pop = df_arranjos_populacionais.arranjo_populacional == next(iter_test)[1].values[0]\n",
    "df_arranjos_populacionais[filtro_arranjo_pop]"
   ]
  },
  {
   "cell_type": "code",
   "execution_count": null,
   "metadata": {},
   "outputs": [],
   "source": [
    "df_arranjos_populacionais['peso'] = 0"
   ]
  },
  {
   "cell_type": "code",
   "execution_count": null,
   "metadata": {},
   "outputs": [],
   "source": [
    "filtro_arranjo_pop = df_arranjos_populacionais.arranjo_populacional == 'São José do Rio Preto/SP'\n",
    "df_arranjos_populacionais.loc[:,'peso'].sum()"
   ]
  },
  {
   "cell_type": "code",
   "execution_count": null,
   "metadata": {},
   "outputs": [],
   "source": [
    "filtro_arranjo_pop = df_arranjos_populacionais.arranjo_populacional == 'Antônio Prado/RS'\n",
    "\n",
    "#df_arranjos_populacionais.loc[filtro_arranjo_pop].loc[:,'peso'] = \n",
    "\n",
    "df_arranjos_populacionais.loc[filtro_arranjo_pop].pop_2019 / df_arranjos_populacionais.loc[filtro_arranjo_pop].pop_2019.sum()\n",
    "\n",
    "\n",
    "#df_arranjos_populacionais[filtro_arranjo_pop]['p'] = df_arranjos_populacionais[filtro_arranjo_pop].pop_2019.sum()"
   ]
  },
  {
   "cell_type": "code",
   "execution_count": null,
   "metadata": {},
   "outputs": [],
   "source": [
    "df_arranjos_populacionais[filtro_arranjo_pop]['peso']"
   ]
  },
  {
   "cell_type": "code",
   "execution_count": null,
   "metadata": {},
   "outputs": [],
   "source": [
    "df_arranjos_populacionais.loc"
   ]
  },
  {
   "cell_type": "code",
   "execution_count": null,
   "metadata": {},
   "outputs": [],
   "source": []
  },
  {
   "cell_type": "code",
   "execution_count": null,
   "metadata": {},
   "outputs": [],
   "source": []
  },
  {
   "cell_type": "code",
   "execution_count": null,
   "metadata": {},
   "outputs": [],
   "source": []
  },
  {
   "cell_type": "code",
   "execution_count": null,
   "metadata": {},
   "outputs": [],
   "source": []
  },
  {
   "cell_type": "code",
   "execution_count": null,
   "metadata": {},
   "outputs": [],
   "source": []
  },
  {
   "cell_type": "code",
   "execution_count": null,
   "metadata": {},
   "outputs": [],
   "source": []
  },
  {
   "cell_type": "code",
   "execution_count": null,
   "metadata": {},
   "outputs": [],
   "source": [
    "fig, ax = plt.subplots(nrows=1,ncols=2, figsize=(20,8))\n",
    "ax[0].hist(df_fatores_geograficos.pop2019, bins=10)\n",
    "ax[1].scatter(x=np.log(df_fatores_geograficos.pop2019[df_fatores_geograficos.dias_contaminação_referencia.notna()]), y=df_fatores_geograficos.dias_contaminação_referencia[df_fatores_geograficos.dias_contaminação_referencia.notna()]);\n",
    "ax[1].set_title('First Plot')\n",
    "ax[1].set_title('First Plot')"
   ]
  },
  {
   "cell_type": "code",
   "execution_count": null,
   "metadata": {},
   "outputs": [],
   "source": [
    "filtro_dias = df_fatores_geograficos.dias_contaminação_referencia >= 0"
   ]
  },
  {
   "cell_type": "code",
   "execution_count": null,
   "metadata": {},
   "outputs": [],
   "source": [
    "fig, ax = plt.subplots(nrows=1,ncols=2, figsize=(20,8))\n",
    "\n",
    "ax[0].scatter(y=df_fatores_geograficos['pop2019'][filtro_dias], x=df_fatores_geograficos.dias_contaminação_referencia[filtro_dias]);\n",
    "ax[0].set_ylabel('População em 2019')\n",
    "ax[0].ticklabel_format(useOffset=False, style='plain')\n",
    "ax[0].set_xlabel('Data da primeira notificação')\n",
    "ax[0].set_ylabel('População em 2019')\n",
    "\n",
    "\n",
    "ax[1].scatter(y=np.log(df_fatores_geograficos['pop2019'][filtro_dias]), x=df_fatores_geograficos.dias_contaminação_referencia[filtro_dias]);\n",
    "ax[1].set_xlabel('Data da primeira notificação')\n",
    "ax[1].set_ylabel('Log(População em 2019)')\n",
    "ax[1].set_xlabel('Data da primeira notificação');"
   ]
  },
  {
   "cell_type": "code",
   "execution_count": null,
   "metadata": {},
   "outputs": [],
   "source": [
    "fig, ax = plt.subplots(nrows=1,ncols=2, figsize=(20,8))\n",
    "\n",
    "ax[0].scatter(y=df_fatores_geograficos['pib2017milreais'][filtro_dias], x=df_fatores_geograficos.dias_contaminação_referencia[filtro_dias]);\n",
    "ax[0].set_ylabel('PIB Municipal em 2017 (R$1.000)')\n",
    "ax[0].ticklabel_format(useOffset=False, style='plain')\n",
    "ax[0].set_xlabel('Data da primeira notificação')\n",
    "ax[0].set_ylabel('PIB Municipal em 2017')\n",
    "\n",
    "\n",
    "ax[1].scatter(y=np.log(df_fatores_geograficos['pib2017milreais'][filtro_dias]), x=df_fatores_geograficos.dias_contaminação_referencia[filtro_dias]);\n",
    "ax[1].set_xlabel('Data da primeira notificação')\n",
    "ax[1].set_ylabel('Log(PIB Municipal em 2017)')\n",
    "ax[1].set_xlabel('Data da primeira notificação');"
   ]
  },
  {
   "cell_type": "code",
   "execution_count": null,
   "metadata": {
    "hide_input": false
   },
   "outputs": [],
   "source": [
    "fig, ax = plt.subplots(nrows=1,ncols=2, figsize=(20,8))\n",
    "\n",
    "ax[0].scatter(y=df_fatores_geograficos['pip_per_capita17'][filtro_dias], x=df_fatores_geograficos.dias_contaminação_referencia[filtro_dias]);\n",
    "ax[0].set_ylabel('PIB per capita em 2017(R$)')\n",
    "ax[0].ticklabel_format(useOffset=False, style='plain')\n",
    "ax[0].set_xlabel('Data da primeira notificação')\n",
    "ax[0].set_ylabel('População em 2019')\n",
    "\n",
    "\n",
    "ax[1].scatter(y=np.log(df_fatores_geograficos['pip_per_capita17'][filtro_dias]), x=df_fatores_geograficos.dias_contaminação_referencia[filtro_dias]);\n",
    "ax[1].set_xlabel('Data da primeira notificação')\n",
    "ax[1].set_ylabel('Log(PIB per capita em 2017)')\n",
    "ax[1].set_xlabel('Data da primeira notificação');"
   ]
  },
  {
   "cell_type": "code",
   "execution_count": null,
   "metadata": {},
   "outputs": [],
   "source": [
    "fig, ax = plt.subplots(nrows=1,ncols=2, figsize=(20,8))\n",
    "\n",
    "ax[0].scatter(y=df_fatores_geograficos['export_fob_2019'][filtro_dias], x=df_fatores_geograficos.dias_contaminação_referencia[filtro_dias]);\n",
    "ax[0].set_ylabel('Exportações em 2019(FOB)')\n",
    "ax[0].ticklabel_format(useOffset=False, style='plain')\n",
    "ax[0].set_xlabel('Data da primeira notificação')\n",
    "ax[0].set_ylabel('Exportações em 2019 (FOB)')\n",
    "\n",
    "\n",
    "ax[1].scatter(y=np.log(df_fatores_geograficos['export_fob_2019'][filtro_dias]), x=df_fatores_geograficos.dias_contaminação_referencia[filtro_dias]);\n",
    "ax[1].set_xlabel('Data da primeira notificação')\n",
    "ax[1].set_ylabel('Log(Exportações em 2019)')\n",
    "ax[1].set_xlabel('Data da primeira notificação');"
   ]
  },
  {
   "cell_type": "code",
   "execution_count": null,
   "metadata": {},
   "outputs": [],
   "source": [
    "fig, ax = plt.subplots(nrows=1,ncols=2, figsize=(20,8))\n",
    "\n",
    "ax[0].scatter(y=df_fatores_geograficos['import_fob_2019'][filtro_dias], x=df_fatores_geograficos.dias_contaminação_referencia[filtro_dias]);\n",
    "ax[0].set_ylabel('Importações em 2019(FOB)')\n",
    "ax[0].ticklabel_format(useOffset=False, style='plain')\n",
    "ax[0].set_xlabel('Data da primeira notificação')\n",
    "ax[0].set_ylabel('População em 2019')\n",
    "\n",
    "\n",
    "ax[1].scatter(y=np.log(df_fatores_geograficos['import_fob_2019'][filtro_dias]), x=df_fatores_geograficos.dias_contaminação_referencia[filtro_dias]);\n",
    "ax[1].set_xlabel('Data da primeira notificação')\n",
    "ax[1].set_ylabel('Log(Importações em 2019)')\n",
    "ax[1].set_xlabel('Data da primeira notificação');"
   ]
  },
  {
   "cell_type": "code",
   "execution_count": null,
   "metadata": {},
   "outputs": [],
   "source": [
    "plt.scatter?"
   ]
  },
  {
   "cell_type": "code",
   "execution_count": null,
   "metadata": {},
   "outputs": [],
   "source": []
  },
  {
   "cell_type": "code",
   "execution_count": null,
   "metadata": {},
   "outputs": [],
   "source": [
    "fig, ax = plt.subplots(nrows=1,ncols=1, figsize=(20,8))\n",
    "\n",
    "color_map = plt.cm.get_cmap('magma')\n",
    "color_map = color_map.reversed()\n",
    "\n",
    "plt.scatter(c=df_fatores_geograficos['hierarquia'][filtro_dias], \n",
    "            x=df_fatores_geograficos.dias_contaminação_referencia[filtro_dias],\n",
    "            y=np.log(df_fatores_geograficos.pop2019[filtro_dias]),\n",
    "            alpha=0.5,\n",
    "            cmap=color_map,\n",
    "            s=300);\n",
    "\n",
    "\n",
    "teste = plt.colorbar(ticks=[1, 2, 3, 4, 5, 6, 7, 8, 9, 10,  11])\n",
    "# teste.set_label('Hierarquia Urbana', rotation=270)\n",
    "teste.ax.set_yticklabels(['Centro Local', 'Centro de Zona B', 'Centro de Zona A', 'Capital Sub-regional B', 'Capital Sub-regional A', 'Capital Regional C', 'Capital Regional B', 'Capital Regional A', 'Metrópole', 'Metrópole Nacional', 'Grande Metrópole Nacional'])  # horizontal colorbar\n",
    "\n",
    "plt.ticklabel_format(useOffset=False, style='plain')\n",
    "plt.xlabel('Data da primeira notificação')\n",
    "plt.ylabel('População em 2019');"
   ]
  },
  {
   "cell_type": "code",
   "execution_count": null,
   "metadata": {},
   "outputs": [],
   "source": [
    "plt.legend?"
   ]
  },
  {
   "cell_type": "code",
   "execution_count": null,
   "metadata": {},
   "outputs": [],
   "source": [
    "SMALL_SIZE = 12\n",
    "MEDIUM_SIZE = 16\n",
    "BIGGER_SIZE = 20\n",
    "\n",
    "plt.rc('font', size=MEDIUM_SIZE)          # controls default text sizes\n",
    "plt.rc('axes', titlesize=BIGGER_SIZE)     # fontsize of the axes title\n",
    "plt.rc('axes', labelsize=MEDIUM_SIZE)    # fontsize of the x and y labels\n",
    "plt.rc('xtick', labelsize=SMALL_SIZE)    # fontsize of the tick labels\n",
    "plt.rc('ytick', labelsize=SMALL_SIZE)    # fontsize of the tick labels\n",
    "plt.rc('legend', fontsize=MEDIUM_SIZE)    # legend fontsize\n",
    "plt.rc('figure', titlesize=BIGGER_SIZE)  # fontsize of the figure title"
   ]
  },
  {
   "cell_type": "code",
   "execution_count": null,
   "metadata": {},
   "outputs": [],
   "source": [
    "fig, ax = plt.subplots(nrows=1,ncols=1, figsize=(20,8))\n",
    "\n",
    "color_map = plt.cm.get_cmap('magma')\n",
    "color_map = color_map.reversed()\n",
    "\n",
    "scatter = plt.scatter(c=df_fatores_geograficos['hierarquia'][filtro_dias], \n",
    "            x=df_fatores_geograficos.dias_contaminação_referencia[filtro_dias],\n",
    "            y=np.log(df_fatores_geograficos.pop2019[filtro_dias]),\n",
    "            alpha=0.9,\n",
    "            cmap=color_map,\n",
    "            s= 300);\n",
    "\n",
    "ax.set_title('Municípios Brasileiros segundo momento do primeiro Caso de COVID-19, população e hierarquia urbana \\n')\n",
    "teste = plt.colorbar(ticks=[1, 2, 3, 4, 5, 6, 7, 8, 9, 10,  11])\n",
    "# teste.set_label('Hierarquia Urbana', rotation=270)\n",
    "teste.ax.set_yticklabels(['Centro Local', 'Centro de Zona B', 'Centro de Zona A', 'Capital Sub-regional B', 'Capital Sub-regional A', 'Capital Regional C', 'Capital Regional B', 'Capital Regional A', 'Metrópole', 'Metrópole Nacional', 'Grande Metrópole Nacional'])  # horizontal colorbar\n",
    "\n",
    "plt.ticklabel_format(useOffset=False, style='plain')\n",
    "plt.xlabel('primeira notificação (dias a partir de 25 de fevereiro de 2020)')\n",
    "plt.ylabel('População em 2019 (escala logarítmica)');\n",
    "\n",
    "\n",
    "plt.savefig('covid.png')\n",
    "#lgnd = plt.legend(handles=handles, loc=\"lower left\", scatterpoints=1)\n",
    "\n",
    "#legend2 = ax.legend(handles, labels, loc=\"upper right\", title=\"Sizes\")\n",
    "#lgnd.legendHandles[0]._sizes = [30]\n",
    "#lgnd.legendHandles[1]._sizes = [30]"
   ]
  },
  {
   "cell_type": "markdown",
   "metadata": {},
   "source": [
    "Para melhorar o gráfico acima, preciso pegar uns parâmetros nos links abaixo\n",
    "\n",
    "https://matplotlib.org/3.1.0/gallery/lines_bars_and_markers/scatter_with_legend.html\n",
    "\n",
    "https://matplotlib.org/3.1.0/api/_as_gen/matplotlib.lines.Line2D.html#matplotlib.lines.Line2D\n",
    "\n",
    "https://matplotlib.org/3.1.0/api/collections_api.html#matplotlib.collections.PathCollection.legend_elements\n",
    "\n",
    "https://stackoverflow.com/questions/11983024/matplotlib-legends-not-working\n",
    "\n",
    "Minha intenção é colocar uma quarta variável (PIB) nesse mesmo gráfico\n",
    "\n",
    "https://stackoverflow.com/questions/24706125/setting-a-fixed-size-for-points-in-legend\n",
    "\n",
    "https://stackoverflow.com/questions/14827650/pyplot-scatter-plot-marker-size"
   ]
  },
  {
   "cell_type": "code",
   "execution_count": null,
   "metadata": {},
   "outputs": [],
   "source": [
    "fig, ax = plt.subplots(nrows=1,ncols=2, figsize=(20,8))\n",
    "\n",
    "ax[0].scatter(y=df_fatores_geograficos['pop2019'][filtro_dias], x=df_fatores_geograficos.dias_contaminação_referencia[filtro_dias]);\n",
    "ax[0].set_ylabel('População em 2019')\n",
    "ax[0].ticklabel_format(useOffset=False, style='plain')\n",
    "ax[0].set_xlabel('Data da primeira notificação')\n",
    "ax[0].set_ylabel('População em 2019')\n",
    "\n",
    "\n",
    "ax[1].scatter(y=np.log(df_fatores_geograficos['pop2019'][filtro_dias]), x=df_fatores_geograficos.dias_contaminação_referencia[filtro_dias]);\n",
    "ax[1].set_xlabel('Data da primeira notificação')\n",
    "ax[1].set_ylabel('Log(População em 2019)')\n",
    "ax[1].set_xlabel('Data da primeira notificação');"
   ]
  },
  {
   "cell_type": "code",
   "execution_count": null,
   "metadata": {},
   "outputs": [],
   "source": [
    "fig, ax = plt.subplots(nrows=4,ncols=2, figsize=(20,8))\n",
    "ax"
   ]
  },
  {
   "cell_type": "code",
   "execution_count": null,
   "metadata": {},
   "outputs": [],
   "source": [
    "fig, ax = plt.subplots(nrows=4,ncols=2, figsize=(20,8))\n",
    "ax[0,0].scatter(x=np.log(df_fatores_geograficos[variavel][df_fatores_geograficos.dias_contaminação_referencia.notna()]), y=df_fatores_geograficos.dias_contaminação_referencia[df_fatores_geograficos.dias_contaminação_referencia.notna()]);"
   ]
  },
  {
   "cell_type": "code",
   "execution_count": null,
   "metadata": {},
   "outputs": [],
   "source": [
    "fig, ax = plt.subplots(nrows=1,ncols=2, figsize=(20,8))\n",
    "ax[0].hist(df_fatores_geograficos.pop2019, bins=10)\n",
    "ax[1].scatter(x=df_fatores_geograficos.pop2019[df_fatores_geograficos.dias_contaminação_referencia.notna()], y=df_fatores_geograficos.dias_contaminação_referencia[df_fatores_geograficos.dias_contaminação_referencia.notna()]);"
   ]
  },
  {
   "cell_type": "code",
   "execution_count": null,
   "metadata": {},
   "outputs": [],
   "source": [
    "df_fatores_geograficos.pop2019"
   ]
  },
  {
   "cell_type": "code",
   "execution_count": null,
   "metadata": {},
   "outputs": [],
   "source": [
    "df_fatores_geograficos.dia3103.max()"
   ]
  },
  {
   "cell_type": "code",
   "execution_count": null,
   "metadata": {},
   "outputs": [],
   "source": [
    "df_fatores_geograficos.columns"
   ]
  },
  {
   "cell_type": "code",
   "execution_count": null,
   "metadata": {},
   "outputs": [],
   "source": [
    "list_colunas_selecionadas = list(df_fatores_geograficos.columns[2:10])\n",
    "list_colunas_selecionadas.append(df_fatores_geograficos.columns[-3])"
   ]
  },
  {
   "cell_type": "code",
   "execution_count": null,
   "metadata": {},
   "outputs": [],
   "source": [
    "list_colunas_selecionadas"
   ]
  },
  {
   "cell_type": "code",
   "execution_count": null,
   "metadata": {},
   "outputs": [],
   "source": [
    "df_fatores_geograficos_correlacao =  df_fatores_geograficos.loc[:, list_colunas_selecionadas]\n",
    "df_fatores_geograficos_correlacao"
   ]
  },
  {
   "cell_type": "code",
   "execution_count": null,
   "metadata": {
    "scrolled": true
   },
   "outputs": [],
   "source": [
    "corr = df_fatores_geograficos_correlacao.corr()\n",
    "sns.heatmap(corr, \n",
    "        xticklabels=corr.columns,\n",
    "        yticklabels=corr.columns, cmap = sns.diverging_palette(250, 10, as_cmap=True))"
   ]
  },
  {
   "cell_type": "code",
   "execution_count": null,
   "metadata": {},
   "outputs": [],
   "source": [
    "df_fatores_geograficos_correlacao[df_fatores_geograficos_correlacao.iloc[:,-1] != 0]"
   ]
  },
  {
   "cell_type": "code",
   "execution_count": null,
   "metadata": {},
   "outputs": [],
   "source": [
    "corr = df_fatores_geograficos_correlacao[df_fatores_geograficos_correlacao.iloc[:,-1] != 0].corr()\n",
    "sns.heatmap(corr, \n",
    "        xticklabels=corr.columns,\n",
    "        yticklabels=corr.columns, cmap = sns.diverging_palette(250, 10, as_cmap=True))"
   ]
  },
  {
   "cell_type": "code",
   "execution_count": null,
   "metadata": {},
   "outputs": [],
   "source": [
    "sns.pairplot(df_fatores_geograficos_correlacao)"
   ]
  },
  {
   "cell_type": "code",
   "execution_count": null,
   "metadata": {},
   "outputs": [],
   "source": [
    "sns.pairplot(df_fatores_geograficos_correlacao[df_fatores_geograficos_correlacao.iloc[:,-1] != 0])"
   ]
  },
  {
   "cell_type": "code",
   "execution_count": null,
   "metadata": {},
   "outputs": [],
   "source": [
    "corr"
   ]
  },
  {
   "cell_type": "code",
   "execution_count": null,
   "metadata": {},
   "outputs": [],
   "source": [
    "df_fatores_geograficos['dia3103'].sum()"
   ]
  },
  {
   "cell_type": "code",
   "execution_count": null,
   "metadata": {},
   "outputs": [],
   "source": [
    "df_fatores_geograficos_semzeros = df_fatores_geograficos[df_fatores_geograficos.iloc[:,-1] != 0]"
   ]
  },
  {
   "cell_type": "code",
   "execution_count": null,
   "metadata": {},
   "outputs": [],
   "source": [
    "plt.scatter(df_fatores_geograficos['pop2019'], df_fatores_geograficos['dia2903'])"
   ]
  },
  {
   "cell_type": "code",
   "execution_count": null,
   "metadata": {},
   "outputs": [],
   "source": [
    "plt.scatter(df_fatores_geograficos_correlacao_semzeros['pop2019'], df_fatores_geograficos_correlacao_semzeros['dia2903'])"
   ]
  },
  {
   "cell_type": "code",
   "execution_count": null,
   "metadata": {},
   "outputs": [],
   "source": [
    "plt.scatter(df_fatores_geograficos_correlacao['pop2019'], df_fatores_geograficos_correlacao['dia2903'])"
   ]
  },
  {
   "cell_type": "code",
   "execution_count": null,
   "metadata": {},
   "outputs": [],
   "source": [
    "plt.scatter(df_fatores_geograficos_correlacao['export_fob_2019'], df_fatores_geograficos_correlacao['dia2903'])"
   ]
  },
  {
   "cell_type": "code",
   "execution_count": null,
   "metadata": {},
   "outputs": [],
   "source": []
  },
  {
   "cell_type": "code",
   "execution_count": null,
   "metadata": {},
   "outputs": [],
   "source": [
    "sns.pairplot(df_fatores_geograficos_correlacao[['pop2019', 'dia2903']][df_fatores_geograficos_correlacao.iloc[:,-1] != 0], size=5)"
   ]
  },
  {
   "cell_type": "code",
   "execution_count": null,
   "metadata": {},
   "outputs": [],
   "source": []
  },
  {
   "cell_type": "code",
   "execution_count": null,
   "metadata": {
    "scrolled": true
   },
   "outputs": [],
   "source": [
    "df_arranjos_populacionais"
   ]
  },
  {
   "cell_type": "code",
   "execution_count": null,
   "metadata": {},
   "outputs": [],
   "source": []
  }
 ],
 "metadata": {
  "hide_input": false,
  "kernelspec": {
   "display_name": "Python 3",
   "language": "python",
   "name": "python3"
  },
  "language_info": {
   "codemirror_mode": {
    "name": "ipython",
    "version": 3
   },
   "file_extension": ".py",
   "mimetype": "text/x-python",
   "name": "python",
   "nbconvert_exporter": "python",
   "pygments_lexer": "ipython3",
   "version": "3.7.3"
  },
  "toc": {
   "base_numbering": 1,
   "nav_menu": {},
   "number_sections": true,
   "sideBar": true,
   "skip_h1_title": true,
   "title_cell": "Table of Contents",
   "title_sidebar": "Contents",
   "toc_cell": false,
   "toc_position": {
    "height": "calc(100% - 180px)",
    "left": "10px",
    "top": "150px",
    "width": "212.778px"
   },
   "toc_section_display": true,
   "toc_window_display": true
  },
  "varInspector": {
   "cols": {
    "lenName": 16,
    "lenType": 16,
    "lenVar": 40
   },
   "kernels_config": {
    "python": {
     "delete_cmd_postfix": "",
     "delete_cmd_prefix": "del ",
     "library": "var_list.py",
     "varRefreshCmd": "print(var_dic_list())"
    },
    "r": {
     "delete_cmd_postfix": ") ",
     "delete_cmd_prefix": "rm(",
     "library": "var_list.r",
     "varRefreshCmd": "cat(var_dic_list()) "
    }
   },
   "types_to_exclude": [
    "module",
    "function",
    "builtin_function_or_method",
    "instance",
    "_Feature"
   ],
   "window_display": false
  }
 },
 "nbformat": 4,
 "nbformat_minor": 2
}
