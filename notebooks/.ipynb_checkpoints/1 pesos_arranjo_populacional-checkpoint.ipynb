{
 "cells": [
  {
   "cell_type": "markdown",
   "metadata": {},
   "source": [
    "# Tratamento dos Pesos dos Arranjos Populacionais\n",
    "\n",
    "No fluxo de trabalho para análise dos casos de COVID-19 nos municípios brasileiros, é conveniente que se faça uma análise da relação entre os municípios afetados e alguns atributos municipais em relacionados a patamares de centralidade na rede urbana, graus de concentração econômica e populacional, bem como de níveis de relacionamento por mobilidade (número de passageiros em aeroportos, fluxos de cargas, atratividade para turismo e mobilidade pendular para trabalho e estudo).\n",
    "\n",
    "No fluxo de trabalho, este notebook foi elaborado para tratamento dos dados de arranjos populacionais, unidades territoriais identificadas pelo IBGE pela presença de mobilidade intermunicipal para trabalho e estudo. Dado que esses arranjos populacionais apresentam uma elevada variedade no número de pessoas em mobilidade, é adequado que as análises não se refiram apenas à presença de municípios contaminados em dentro ou fora de arranjos, mas segundo a grandeza dessas ligações em cada arranjo e no seu conjunto.\n",
    "\n",
    "Por essa razão, aos dados de arranjos populacionais, obtidos no IBGE, são aqui calculados o peso de integração interna e o peso de integração geral. O primeiro corresponde à participação do município no total da população do arranjo a que pertence. É um indicador que dá peso para cada um dos municípios em relação ao arranjo, enquanto o segundo se refere à parcela de mobilidade pendular do arranjo em relação ao total de mobilidade em todos os arranjos. A medida ajuda a distinguir arranjos de menor integração por movimento pendular daqueles de maior integração. \n"
   ]
  },
  {
   "cell_type": "code",
   "execution_count": 1,
   "metadata": {},
   "outputs": [],
   "source": [
    "import pandas as pd # Biblioteca para operação avançada com dados tabulares de diversos tipos"
   ]
  },
  {
   "cell_type": "markdown",
   "metadata": {},
   "source": [
    "**Importação dos dados de arranjo populacional**"
   ]
  },
  {
   "cell_type": "code",
   "execution_count": 2,
   "metadata": {},
   "outputs": [],
   "source": [
    "df_arranjos_populacionais = pd.read_csv('1_arranjo_populacional.csv', sep=';', decimal=',')"
   ]
  },
  {
   "cell_type": "markdown",
   "metadata": {},
   "source": [
    "**Inserção das colunas peso_integracao_interna e peso_integracao_geral**"
   ]
  },
  {
   "cell_type": "code",
   "execution_count": 3,
   "metadata": {},
   "outputs": [
    {
     "name": "stderr",
     "output_type": "stream",
     "text": [
      "C:\\Users\\Acer A315\\Anaconda3\\lib\\site-packages\\pandas\\core\\indexing.py:205: SettingWithCopyWarning: \n",
      "A value is trying to be set on a copy of a slice from a DataFrame\n",
      "\n",
      "See the caveats in the documentation: http://pandas.pydata.org/pandas-docs/stable/user_guide/indexing.html#returning-a-view-versus-a-copy\n",
      "  self._setitem_with_indexer(indexer, value)\n"
     ]
    }
   ],
   "source": [
    "# insere a coluna peso integração interna\n",
    "df_arranjos_populacionais['peso_integracao_interna'] = 0\n",
    "\n",
    "# calcula o peso populacional de cada municipio no conjunto\n",
    "for arranjo in df_arranjos_populacionais.arranjo_populacional.unique():\n",
    "    filtro_arranjo_pop = df_arranjos_populacionais.arranjo_populacional == arranjo\n",
    "    df_arranjos_populacionais.loc[:,'peso_integracao_interna'].loc[filtro_arranjo_pop] = df_arranjos_populacionais.loc[filtro_arranjo_pop].pop_2019 / df_arranjos_populacionais.loc[filtro_arranjo_pop].pop_2019.sum();\n",
    "    \n",
    "    \n",
    "# insere a coluna peso integração geral\n",
    "df_arranjos_populacionais['peso_integracao_geral'] = 0\n",
    "\n",
    "# calcula o peso da pendularidade do arranjo populacional em relação a todos os arranjos e atribui a cada um de seus municípios\n",
    "for arranjo in df_arranjos_populacionais.arranjo_populacional.unique():\n",
    "    filtro_arranjo_pop = df_arranjos_populacionais.arranjo_populacional == arranjo\n",
    "    df_arranjos_populacionais.loc[:,'peso_integracao_geral'].loc[filtro_arranjo_pop] = df_arranjos_populacionais.loc[filtro_arranjo_pop].loc[:,'pessoas_em_pendularidade_trabalho'].sum() / df_arranjos_populacionais.loc[:,'pessoas_em_pendularidade_trabalho'].sum();    "
   ]
  },
  {
   "cell_type": "code",
   "execution_count": 4,
   "metadata": {},
   "outputs": [],
   "source": [
    "df_arranjos_populacionais.to_csv('1_arranjo_populacional_com_pesos.csv', decimal=',', sep=';', encoding='utf-16')"
   ]
  }
 ],
 "metadata": {
  "hide_input": false,
  "kernelspec": {
   "display_name": "Python 3",
   "language": "python",
   "name": "python3"
  },
  "language_info": {
   "codemirror_mode": {
    "name": "ipython",
    "version": 3
   },
   "file_extension": ".py",
   "mimetype": "text/x-python",
   "name": "python",
   "nbconvert_exporter": "python",
   "pygments_lexer": "ipython3",
   "version": "3.7.3"
  },
  "toc": {
   "base_numbering": 1,
   "nav_menu": {},
   "number_sections": true,
   "sideBar": true,
   "skip_h1_title": true,
   "title_cell": "Table of Contents",
   "title_sidebar": "Contents",
   "toc_cell": false,
   "toc_position": {},
   "toc_section_display": true,
   "toc_window_display": true
  },
  "varInspector": {
   "cols": {
    "lenName": 16,
    "lenType": 16,
    "lenVar": 40
   },
   "kernels_config": {
    "python": {
     "delete_cmd_postfix": "",
     "delete_cmd_prefix": "del ",
     "library": "var_list.py",
     "varRefreshCmd": "print(var_dic_list())"
    },
    "r": {
     "delete_cmd_postfix": ") ",
     "delete_cmd_prefix": "rm(",
     "library": "var_list.r",
     "varRefreshCmd": "cat(var_dic_list()) "
    }
   },
   "types_to_exclude": [
    "module",
    "function",
    "builtin_function_or_method",
    "instance",
    "_Feature"
   ],
   "window_display": false
  }
 },
 "nbformat": 4,
 "nbformat_minor": 2
}
