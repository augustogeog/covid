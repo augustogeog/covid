{
 "cells": [
  {
   "cell_type": "markdown",
   "metadata": {},
   "source": [
    "# COMPORTAMENTO GEOGRÁFICO DA COVID-19 EM DIFERENTES CLASSES DE MUNICÍPIOS SEGUNDO HIERARQUIA URBANA, CONCENTRAÇÃO POPULACIONAL, CONCENTRAÇÃO DE RIQUEZA E NÍVEIS DE INTEGRAÇÃO E MOBILIDADE"
   ]
  },
  {
   "cell_type": "markdown",
   "metadata": {},
   "source": [
    "## PREPARAÇÃO DO NOTEBOOK"
   ]
  },
  {
   "cell_type": "markdown",
   "metadata": {
    "jupyter": {
     "source_hidden": true
    }
   },
   "source": [
    "* Importação das principais bibliotecas\n",
    "* Configuração das operações por default (estilos e tamanhos de gráficos)\n",
    "* Referenciamento das subpastas do projeto"
   ]
  },
  {
   "cell_type": "code",
   "execution_count": 401,
   "metadata": {
    "code_folding": [],
    "jupyter": {
     "source_hidden": true
    }
   },
   "outputs": [],
   "source": [
    "# importação de bibliotecas básicas\n",
    "\n",
    "import pandas as pd # Biblioteca para operação avançada com dados tabulares de diversos tipos\n",
    "import numpy as np # Biblioteca para operação com vetores de auto desempenho e um tipo por vez\n",
    "from matplotlib import use as mpl_use # Função Matplotlib que estabelece backend e precisa ser chamda antes do plt\n",
    "mpl_use('nbagg') # uso do backend \"nbagg\" para os gráficos terem paineis interativos\n",
    "import matplotlib.pyplot as plt # Biblioteca para geração de gráficos de menor nível de abstração\n",
    "import seaborn as sns # Biblioteca baseada em matplotlib para geração de gráficos e estilização, com maior nível de abstração\n",
    "import geopandas as gpd # Biblioteca de análise geográfica\n",
    "import descartes # Dependência do Geopandas para poder gerar mapas\n",
    "import matplotlib \n",
    "import os"
   ]
  },
  {
   "cell_type": "code",
   "execution_count": 402,
   "metadata": {
    "code_folding": [],
    "jupyter": {
     "source_hidden": true
    }
   },
   "outputs": [],
   "source": [
    "# configurações das operações por default\n",
    "\n",
    "# Configuração de DataFrame Pandas para formato numérico com duas casas decimais quando a coluna for float\n",
    "pd.set_option('display.float_format', lambda x: '%.4f' % x)\n",
    "\n",
    "# Apresentação dos gráficos no interior das células\n",
    "%matplotlib inline \n",
    "plt.style.use('ggplot') # Apresentação dos gráficos\n",
    "plt.rcParams['figure.figsize'] = [20,10]\n",
    "# Códigos abaixo são configurações que deixo por opção, caso se tornem úteis em alguma operação\n",
    "# Configuração das Células para que apresentam múltiplos resultados em vez de apenas o último \n",
    "# InteractiveShell.ast_node_interactivity = \"all\"\n",
    "# sns.set() # Configuração de Gráficos para padrão de formatação básica da biblioteca Seaborn\n",
    "\n",
    "\n",
    "# configuração dos tamanhos de fonte dos gráficos\n",
    "SMALL_SIZE = 12\n",
    "MEDIUM_SIZE = 16\n",
    "BIGGER_SIZE = 20\n",
    "\n",
    "plt.rc('font', size=MEDIUM_SIZE)          # controls default text sizes\n",
    "plt.rc('axes', titlesize=BIGGER_SIZE)     # fontsize of the axes title\n",
    "plt.rc('axes', labelsize=MEDIUM_SIZE)    # fontsize of the x and y labels\n",
    "plt.rc('xtick', labelsize=MEDIUM_SIZE)    # fontsize of the tick labels\n",
    "plt.rc('ytick', labelsize=MEDIUM_SIZE)    # fontsize of the tick labels\n",
    "plt.rc('legend', fontsize=MEDIUM_SIZE)    # legend fontsize\n",
    "plt.rc('figure', titlesize=BIGGER_SIZE)  # fontsize of the figure title"
   ]
  },
  {
   "cell_type": "markdown",
   "metadata": {},
   "source": [
    "## IMPORTAÇÃO DE DADOS E GERAÇÃO DAS PRINCIPAIS FUNÇÕES "
   ]
  },
  {
   "cell_type": "markdown",
   "metadata": {},
   "source": [
    "Nesta seção é feita a **importação** e o **tratamento** dos dados de fatores geográficos municipais (hierarquia urbana, população, PIB, PIB *per capita*, grau de competitividade do turismo, proximidade topológica a nós na rede rodoviários/hidroviários, volume de exportação, volume de importação, número de passageiros em voos domésticos e internacionais), bem como de casos de COVID-19 segundo sua referência territorial. Também é realizado o **desenvolvimento de funções** para a geração de data frames para identificação do relacionamento entre cada fator geográfico e a proporção de municípios afetados, bem como para sua plotagem."
   ]
  },
  {
   "cell_type": "markdown",
   "metadata": {},
   "source": [
    "**Importação e visualização preliminar dos dados sobre fatores geográficos**"
   ]
  },
  {
   "cell_type": "code",
   "execution_count": 464,
   "metadata": {},
   "outputs": [
    {
     "data": {
      "text/html": [
       "<div>\n",
       "<style scoped>\n",
       "    .dataframe tbody tr th:only-of-type {\n",
       "        vertical-align: middle;\n",
       "    }\n",
       "\n",
       "    .dataframe tbody tr th {\n",
       "        vertical-align: top;\n",
       "    }\n",
       "\n",
       "    .dataframe thead th {\n",
       "        text-align: right;\n",
       "    }\n",
       "</style>\n",
       "<table border=\"1\" class=\"dataframe\">\n",
       "  <thead>\n",
       "    <tr style=\"text-align: right;\">\n",
       "      <th></th>\n",
       "      <th>cod_mun</th>\n",
       "      <th>UF</th>\n",
       "      <th>Município</th>\n",
       "      <th>pop2019</th>\n",
       "      <th>pib2017milreais</th>\n",
       "      <th>export_fob_2019</th>\n",
       "      <th>import_fob_2019</th>\n",
       "      <th>pip_per_capita17</th>\n",
       "      <th>hierarquia_urbana07</th>\n",
       "      <th>hierarquia</th>\n",
       "      <th>...</th>\n",
       "      <th>dia1104</th>\n",
       "      <th>dia1204</th>\n",
       "      <th>dia1304</th>\n",
       "      <th>dia1404</th>\n",
       "      <th>dia1504</th>\n",
       "      <th>dia1604</th>\n",
       "      <th>dia1704</th>\n",
       "      <th>dia1804</th>\n",
       "      <th>data_primeiro_caso</th>\n",
       "      <th>dias_contaminação_referencia</th>\n",
       "    </tr>\n",
       "  </thead>\n",
       "  <tbody>\n",
       "    <tr>\n",
       "      <td>0</td>\n",
       "      <td>1100015</td>\n",
       "      <td>RO</td>\n",
       "      <td>Alta Floresta D'Oeste</td>\n",
       "      <td>22945</td>\n",
       "      <td>498864</td>\n",
       "      <td>198695</td>\n",
       "      <td>13294</td>\n",
       "      <td>19610</td>\n",
       "      <td>Centro Local</td>\n",
       "      <td>1</td>\n",
       "      <td>...</td>\n",
       "      <td>0.0000</td>\n",
       "      <td>0.0000</td>\n",
       "      <td>0.0000</td>\n",
       "      <td>0.0000</td>\n",
       "      <td>0.0000</td>\n",
       "      <td>0.0000</td>\n",
       "      <td>0.0000</td>\n",
       "      <td>0.0000</td>\n",
       "      <td>NaN</td>\n",
       "      <td>nan</td>\n",
       "    </tr>\n",
       "    <tr>\n",
       "      <td>1</td>\n",
       "      <td>1100023</td>\n",
       "      <td>RO</td>\n",
       "      <td>Ariquemes</td>\n",
       "      <td>107863</td>\n",
       "      <td>2296074</td>\n",
       "      <td>38002769</td>\n",
       "      <td>738809</td>\n",
       "      <td>21390</td>\n",
       "      <td>Centro Subregional B</td>\n",
       "      <td>4</td>\n",
       "      <td>...</td>\n",
       "      <td>2.0000</td>\n",
       "      <td>7.0000</td>\n",
       "      <td>7.0000</td>\n",
       "      <td>7.0000</td>\n",
       "      <td>7.0000</td>\n",
       "      <td>16.0000</td>\n",
       "      <td>20.0000</td>\n",
       "      <td>20.0000</td>\n",
       "      <td>2020-04-10</td>\n",
       "      <td>46.0000</td>\n",
       "    </tr>\n",
       "    <tr>\n",
       "      <td>2</td>\n",
       "      <td>1100031</td>\n",
       "      <td>RO</td>\n",
       "      <td>Cabixi</td>\n",
       "      <td>5312</td>\n",
       "      <td>138894</td>\n",
       "      <td>137660</td>\n",
       "      <td>0</td>\n",
       "      <td>22320</td>\n",
       "      <td>Centro Local</td>\n",
       "      <td>1</td>\n",
       "      <td>...</td>\n",
       "      <td>0.0000</td>\n",
       "      <td>0.0000</td>\n",
       "      <td>0.0000</td>\n",
       "      <td>0.0000</td>\n",
       "      <td>0.0000</td>\n",
       "      <td>0.0000</td>\n",
       "      <td>0.0000</td>\n",
       "      <td>0.0000</td>\n",
       "      <td>NaN</td>\n",
       "      <td>nan</td>\n",
       "    </tr>\n",
       "    <tr>\n",
       "      <td>3</td>\n",
       "      <td>1100049</td>\n",
       "      <td>RO</td>\n",
       "      <td>Cacoal</td>\n",
       "      <td>85359</td>\n",
       "      <td>2127523</td>\n",
       "      <td>20514957</td>\n",
       "      <td>53854</td>\n",
       "      <td>24040</td>\n",
       "      <td>Centro Subregional B</td>\n",
       "      <td>4</td>\n",
       "      <td>...</td>\n",
       "      <td>0.0000</td>\n",
       "      <td>0.0000</td>\n",
       "      <td>0.0000</td>\n",
       "      <td>0.0000</td>\n",
       "      <td>0.0000</td>\n",
       "      <td>0.0000</td>\n",
       "      <td>0.0000</td>\n",
       "      <td>0.0000</td>\n",
       "      <td>NaN</td>\n",
       "      <td>nan</td>\n",
       "    </tr>\n",
       "    <tr>\n",
       "      <td>4</td>\n",
       "      <td>1100056</td>\n",
       "      <td>RO</td>\n",
       "      <td>Cerejeiras</td>\n",
       "      <td>16323</td>\n",
       "      <td>448524</td>\n",
       "      <td>97838806</td>\n",
       "      <td>59259</td>\n",
       "      <td>25010</td>\n",
       "      <td>Centro de Zona B</td>\n",
       "      <td>2</td>\n",
       "      <td>...</td>\n",
       "      <td>0.0000</td>\n",
       "      <td>0.0000</td>\n",
       "      <td>0.0000</td>\n",
       "      <td>0.0000</td>\n",
       "      <td>0.0000</td>\n",
       "      <td>0.0000</td>\n",
       "      <td>0.0000</td>\n",
       "      <td>0.0000</td>\n",
       "      <td>NaN</td>\n",
       "      <td>nan</td>\n",
       "    </tr>\n",
       "    <tr>\n",
       "      <td>...</td>\n",
       "      <td>...</td>\n",
       "      <td>...</td>\n",
       "      <td>...</td>\n",
       "      <td>...</td>\n",
       "      <td>...</td>\n",
       "      <td>...</td>\n",
       "      <td>...</td>\n",
       "      <td>...</td>\n",
       "      <td>...</td>\n",
       "      <td>...</td>\n",
       "      <td>...</td>\n",
       "      <td>...</td>\n",
       "      <td>...</td>\n",
       "      <td>...</td>\n",
       "      <td>...</td>\n",
       "      <td>...</td>\n",
       "      <td>...</td>\n",
       "      <td>...</td>\n",
       "      <td>...</td>\n",
       "      <td>...</td>\n",
       "      <td>...</td>\n",
       "    </tr>\n",
       "    <tr>\n",
       "      <td>5565</td>\n",
       "      <td>5222005</td>\n",
       "      <td>GO</td>\n",
       "      <td>Vianópolis</td>\n",
       "      <td>13863</td>\n",
       "      <td>395787</td>\n",
       "      <td>0</td>\n",
       "      <td>0</td>\n",
       "      <td>28940</td>\n",
       "      <td>Centro Local</td>\n",
       "      <td>1</td>\n",
       "      <td>...</td>\n",
       "      <td>1.0000</td>\n",
       "      <td>1.0000</td>\n",
       "      <td>1.0000</td>\n",
       "      <td>1.0000</td>\n",
       "      <td>1.0000</td>\n",
       "      <td>1.0000</td>\n",
       "      <td>1.0000</td>\n",
       "      <td>1.0000</td>\n",
       "      <td>2020-04-07</td>\n",
       "      <td>43.0000</td>\n",
       "    </tr>\n",
       "    <tr>\n",
       "      <td>5566</td>\n",
       "      <td>5222054</td>\n",
       "      <td>GO</td>\n",
       "      <td>Vicentinópolis</td>\n",
       "      <td>8743</td>\n",
       "      <td>350765</td>\n",
       "      <td>6518444</td>\n",
       "      <td>0</td>\n",
       "      <td>41770</td>\n",
       "      <td>Centro Local</td>\n",
       "      <td>1</td>\n",
       "      <td>...</td>\n",
       "      <td>0.0000</td>\n",
       "      <td>0.0000</td>\n",
       "      <td>0.0000</td>\n",
       "      <td>0.0000</td>\n",
       "      <td>0.0000</td>\n",
       "      <td>0.0000</td>\n",
       "      <td>0.0000</td>\n",
       "      <td>0.0000</td>\n",
       "      <td>NaN</td>\n",
       "      <td>nan</td>\n",
       "    </tr>\n",
       "    <tr>\n",
       "      <td>5567</td>\n",
       "      <td>5222203</td>\n",
       "      <td>GO</td>\n",
       "      <td>Vila Boa</td>\n",
       "      <td>6171</td>\n",
       "      <td>137500</td>\n",
       "      <td>0</td>\n",
       "      <td>0</td>\n",
       "      <td>23990</td>\n",
       "      <td>Centro Local</td>\n",
       "      <td>1</td>\n",
       "      <td>...</td>\n",
       "      <td>0.0000</td>\n",
       "      <td>0.0000</td>\n",
       "      <td>0.0000</td>\n",
       "      <td>0.0000</td>\n",
       "      <td>0.0000</td>\n",
       "      <td>0.0000</td>\n",
       "      <td>0.0000</td>\n",
       "      <td>0.0000</td>\n",
       "      <td>NaN</td>\n",
       "      <td>nan</td>\n",
       "    </tr>\n",
       "    <tr>\n",
       "      <td>5568</td>\n",
       "      <td>5222302</td>\n",
       "      <td>GO</td>\n",
       "      <td>Vila Propício</td>\n",
       "      <td>5821</td>\n",
       "      <td>182175</td>\n",
       "      <td>0</td>\n",
       "      <td>0</td>\n",
       "      <td>32020</td>\n",
       "      <td>Centro Local</td>\n",
       "      <td>1</td>\n",
       "      <td>...</td>\n",
       "      <td>0.0000</td>\n",
       "      <td>0.0000</td>\n",
       "      <td>0.0000</td>\n",
       "      <td>0.0000</td>\n",
       "      <td>0.0000</td>\n",
       "      <td>0.0000</td>\n",
       "      <td>0.0000</td>\n",
       "      <td>0.0000</td>\n",
       "      <td>NaN</td>\n",
       "      <td>nan</td>\n",
       "    </tr>\n",
       "    <tr>\n",
       "      <td>5569</td>\n",
       "      <td>5300108</td>\n",
       "      <td>DF</td>\n",
       "      <td>Brasília</td>\n",
       "      <td>3015268</td>\n",
       "      <td>244682756</td>\n",
       "      <td>92482175</td>\n",
       "      <td>1109160024</td>\n",
       "      <td>80500</td>\n",
       "      <td>Metrópole Nacional</td>\n",
       "      <td>10</td>\n",
       "      <td>...</td>\n",
       "      <td>592.0000</td>\n",
       "      <td>618.0000</td>\n",
       "      <td>641.0000</td>\n",
       "      <td>651.0000</td>\n",
       "      <td>688.0000</td>\n",
       "      <td>727.0000</td>\n",
       "      <td>756.0000</td>\n",
       "      <td>764.0000</td>\n",
       "      <td>2020-03-07</td>\n",
       "      <td>12.0000</td>\n",
       "    </tr>\n",
       "  </tbody>\n",
       "</table>\n",
       "<p>5570 rows × 82 columns</p>\n",
       "</div>"
      ],
      "text/plain": [
       "      cod_mun  UF               Município  pop2019  pib2017milreais  \\\n",
       "0     1100015  RO  Alta Floresta D'Oeste     22945           498864   \n",
       "1     1100023  RO              Ariquemes    107863          2296074   \n",
       "2     1100031  RO                 Cabixi      5312           138894   \n",
       "3     1100049  RO                 Cacoal     85359          2127523   \n",
       "4     1100056  RO             Cerejeiras     16323           448524   \n",
       "...       ...  ..                     ...      ...              ...   \n",
       "5565  5222005  GO             Vianópolis     13863           395787   \n",
       "5566  5222054  GO         Vicentinópolis      8743           350765   \n",
       "5567  5222203  GO               Vila Boa      6171           137500   \n",
       "5568  5222302  GO          Vila Propício      5821           182175   \n",
       "5569  5300108  DF               Brasília   3015268        244682756   \n",
       "\n",
       "      export_fob_2019  import_fob_2019  pip_per_capita17  \\\n",
       "0              198695            13294             19610   \n",
       "1            38002769           738809             21390   \n",
       "2              137660                0             22320   \n",
       "3            20514957            53854             24040   \n",
       "4            97838806            59259             25010   \n",
       "...               ...              ...               ...   \n",
       "5565                0                0             28940   \n",
       "5566          6518444                0             41770   \n",
       "5567                0                0             23990   \n",
       "5568                0                0             32020   \n",
       "5569         92482175       1109160024             80500   \n",
       "\n",
       "       hierarquia_urbana07  hierarquia  ...  dia1104  dia1204  dia1304  \\\n",
       "0             Centro Local           1  ...   0.0000   0.0000   0.0000   \n",
       "1     Centro Subregional B           4  ...   2.0000   7.0000   7.0000   \n",
       "2             Centro Local           1  ...   0.0000   0.0000   0.0000   \n",
       "3     Centro Subregional B           4  ...   0.0000   0.0000   0.0000   \n",
       "4         Centro de Zona B           2  ...   0.0000   0.0000   0.0000   \n",
       "...                    ...         ...  ...      ...      ...      ...   \n",
       "5565          Centro Local           1  ...   1.0000   1.0000   1.0000   \n",
       "5566          Centro Local           1  ...   0.0000   0.0000   0.0000   \n",
       "5567          Centro Local           1  ...   0.0000   0.0000   0.0000   \n",
       "5568          Centro Local           1  ...   0.0000   0.0000   0.0000   \n",
       "5569    Metrópole Nacional          10  ... 592.0000 618.0000 641.0000   \n",
       "\n",
       "      dia1404  dia1504  dia1604  dia1704  dia1804 data_primeiro_caso  \\\n",
       "0      0.0000   0.0000   0.0000   0.0000   0.0000                NaN   \n",
       "1      7.0000   7.0000  16.0000  20.0000  20.0000         2020-04-10   \n",
       "2      0.0000   0.0000   0.0000   0.0000   0.0000                NaN   \n",
       "3      0.0000   0.0000   0.0000   0.0000   0.0000                NaN   \n",
       "4      0.0000   0.0000   0.0000   0.0000   0.0000                NaN   \n",
       "...       ...      ...      ...      ...      ...                ...   \n",
       "5565   1.0000   1.0000   1.0000   1.0000   1.0000         2020-04-07   \n",
       "5566   0.0000   0.0000   0.0000   0.0000   0.0000                NaN   \n",
       "5567   0.0000   0.0000   0.0000   0.0000   0.0000                NaN   \n",
       "5568   0.0000   0.0000   0.0000   0.0000   0.0000                NaN   \n",
       "5569 651.0000 688.0000 727.0000 756.0000 764.0000         2020-03-07   \n",
       "\n",
       "     dias_contaminação_referencia  \n",
       "0                             nan  \n",
       "1                         46.0000  \n",
       "2                             nan  \n",
       "3                             nan  \n",
       "4                             nan  \n",
       "...                           ...  \n",
       "5565                      43.0000  \n",
       "5566                          nan  \n",
       "5567                          nan  \n",
       "5568                          nan  \n",
       "5569                      12.0000  \n",
       "\n",
       "[5570 rows x 82 columns]"
      ]
     },
     "execution_count": 464,
     "metadata": {},
     "output_type": "execute_result"
    }
   ],
   "source": [
    "df_fatores_geograficos = pd.read_csv('fatores_total.csv', decimal=',', sep=';', encoding='utf-16')\n",
    "\n",
    "df_fatores_geograficos"
   ]
  },
  {
   "cell_type": "markdown",
   "metadata": {},
   "source": [
    "**Número de municípios afetados na última data registrada na base de dados** "
   ]
  },
  {
   "cell_type": "code",
   "execution_count": 469,
   "metadata": {
    "code_folding": [],
    "hide_input": false
   },
   "outputs": [
    {
     "data": {
      "text/plain": [
       "1265"
      ]
     },
     "execution_count": 469,
     "metadata": {},
     "output_type": "execute_result"
    }
   ],
   "source": [
    "df_fatores_geograficos.iloc[:,-3][df_fatores_geograficos.iloc[:,-3] != 0].count()"
   ]
  },
  {
   "cell_type": "markdown",
   "metadata": {},
   "source": [
    "**Importação e visualização preliminar dos dados sobre COVID-19**"
   ]
  },
  {
   "cell_type": "code",
   "execution_count": 406,
   "metadata": {
    "code_folding": [],
    "hide_input": false
   },
   "outputs": [
    {
     "data": {
      "text/html": [
       "<div>\n",
       "<style scoped>\n",
       "    .dataframe tbody tr th:only-of-type {\n",
       "        vertical-align: middle;\n",
       "    }\n",
       "\n",
       "    .dataframe tbody tr th {\n",
       "        vertical-align: top;\n",
       "    }\n",
       "\n",
       "    .dataframe thead th {\n",
       "        text-align: right;\n",
       "    }\n",
       "</style>\n",
       "<table border=\"1\" class=\"dataframe\">\n",
       "  <thead>\n",
       "    <tr style=\"text-align: right;\">\n",
       "      <th></th>\n",
       "      <th>cod_mun</th>\n",
       "      <th>municipio</th>\n",
       "      <th>estado</th>\n",
       "      <th>data</th>\n",
       "      <th>novos_casos</th>\n",
       "      <th>casos_total</th>\n",
       "    </tr>\n",
       "  </thead>\n",
       "  <tbody>\n",
       "    <tr>\n",
       "      <td>0</td>\n",
       "      <td>3550308</td>\n",
       "      <td>São Paulo</td>\n",
       "      <td>SP</td>\n",
       "      <td>2020-02-25</td>\n",
       "      <td>1</td>\n",
       "      <td>1</td>\n",
       "    </tr>\n",
       "    <tr>\n",
       "      <td>1</td>\n",
       "      <td>3550308</td>\n",
       "      <td>São Paulo</td>\n",
       "      <td>SP</td>\n",
       "      <td>2020-02-26</td>\n",
       "      <td>0</td>\n",
       "      <td>1</td>\n",
       "    </tr>\n",
       "    <tr>\n",
       "      <td>2</td>\n",
       "      <td>3550308</td>\n",
       "      <td>São Paulo</td>\n",
       "      <td>SP</td>\n",
       "      <td>2020-02-27</td>\n",
       "      <td>0</td>\n",
       "      <td>1</td>\n",
       "    </tr>\n",
       "    <tr>\n",
       "      <td>3</td>\n",
       "      <td>3550308</td>\n",
       "      <td>São Paulo</td>\n",
       "      <td>SP</td>\n",
       "      <td>2020-02-28</td>\n",
       "      <td>1</td>\n",
       "      <td>2</td>\n",
       "    </tr>\n",
       "    <tr>\n",
       "      <td>4</td>\n",
       "      <td>3550308</td>\n",
       "      <td>São Paulo</td>\n",
       "      <td>SP</td>\n",
       "      <td>2020-02-29</td>\n",
       "      <td>0</td>\n",
       "      <td>2</td>\n",
       "    </tr>\n",
       "    <tr>\n",
       "      <td>...</td>\n",
       "      <td>...</td>\n",
       "      <td>...</td>\n",
       "      <td>...</td>\n",
       "      <td>...</td>\n",
       "      <td>...</td>\n",
       "      <td>...</td>\n",
       "    </tr>\n",
       "    <tr>\n",
       "      <td>19439</td>\n",
       "      <td>5200258</td>\n",
       "      <td>Águas Lindas de Goiás</td>\n",
       "      <td>GO</td>\n",
       "      <td>2020-04-18</td>\n",
       "      <td>0</td>\n",
       "      <td>2</td>\n",
       "    </tr>\n",
       "    <tr>\n",
       "      <td>19440</td>\n",
       "      <td>4200606</td>\n",
       "      <td>Águas Mornas</td>\n",
       "      <td>SC</td>\n",
       "      <td>2020-04-18</td>\n",
       "      <td>0</td>\n",
       "      <td>1</td>\n",
       "    </tr>\n",
       "    <tr>\n",
       "      <td>19441</td>\n",
       "      <td>3500501</td>\n",
       "      <td>Águas de Lindóia</td>\n",
       "      <td>SP</td>\n",
       "      <td>2020-04-18</td>\n",
       "      <td>0</td>\n",
       "      <td>1</td>\n",
       "    </tr>\n",
       "    <tr>\n",
       "      <td>19442</td>\n",
       "      <td>3500600</td>\n",
       "      <td>Águas de São Pedro</td>\n",
       "      <td>SP</td>\n",
       "      <td>2020-04-18</td>\n",
       "      <td>0</td>\n",
       "      <td>1</td>\n",
       "    </tr>\n",
       "    <tr>\n",
       "      <td>19443</td>\n",
       "      <td>1505106</td>\n",
       "      <td>Óbidos</td>\n",
       "      <td>PA</td>\n",
       "      <td>2020-04-18</td>\n",
       "      <td>0</td>\n",
       "      <td>1</td>\n",
       "    </tr>\n",
       "  </tbody>\n",
       "</table>\n",
       "<p>19444 rows × 6 columns</p>\n",
       "</div>"
      ],
      "text/plain": [
       "       cod_mun              municipio estado        data  novos_casos  \\\n",
       "0      3550308              São Paulo     SP  2020-02-25            1   \n",
       "1      3550308              São Paulo     SP  2020-02-26            0   \n",
       "2      3550308              São Paulo     SP  2020-02-27            0   \n",
       "3      3550308              São Paulo     SP  2020-02-28            1   \n",
       "4      3550308              São Paulo     SP  2020-02-29            0   \n",
       "...        ...                    ...    ...         ...          ...   \n",
       "19439  5200258  Águas Lindas de Goiás     GO  2020-04-18            0   \n",
       "19440  4200606           Águas Mornas     SC  2020-04-18            0   \n",
       "19441  3500501       Águas de Lindóia     SP  2020-04-18            0   \n",
       "19442  3500600     Águas de São Pedro     SP  2020-04-18            0   \n",
       "19443  1505106                 Óbidos     PA  2020-04-18            0   \n",
       "\n",
       "       casos_total  \n",
       "0                1  \n",
       "1                1  \n",
       "2                1  \n",
       "3                2  \n",
       "4                2  \n",
       "...            ...  \n",
       "19439            2  \n",
       "19440            1  \n",
       "19441            1  \n",
       "19442            1  \n",
       "19443            1  \n",
       "\n",
       "[19444 rows x 6 columns]"
      ]
     },
     "execution_count": 406,
     "metadata": {},
     "output_type": "execute_result"
    }
   ],
   "source": [
    "df_covid_19_br = pd.read_csv('base_covid_atualizada1.csv', decimal=',', sep=';', encoding='utf-16')\n",
    "\n",
    "df_covid_19_br = df_covid_19_br.drop(axis=1, columns='Unnamed: 0')\n",
    "\n",
    "df_covid_19_br"
   ]
  },
  {
   "cell_type": "markdown",
   "metadata": {},
   "source": [
    "**Integração das bases de COVID-19 e fatores geográficos**"
   ]
  },
  {
   "cell_type": "code",
   "execution_count": 407,
   "metadata": {},
   "outputs": [
    {
     "data": {
      "text/plain": [
       "array(['INDEFINIDA'], dtype=object)"
      ]
     },
     "execution_count": 407,
     "metadata": {},
     "output_type": "execute_result"
    }
   ],
   "source": [
    "# Integração dos dados de fatores geográficos, df_fatores_geograficos, aos dados de covid, df_covid_19_br\n",
    "\n",
    "df_covid_19_br = pd.merge(left=df_covid_19_br, right=df_fatores_geograficos.iloc[:,0:26],how='left', on='cod_mun')\n",
    "\n",
    "# Retira colunas duplicadas\n",
    "df_covid_19_br = df_covid_19_br.drop(axis=1, columns=['Município', 'estado'])\n",
    "\n",
    "\n",
    "# Aplica tipo datetime ã coluna data\n",
    "#df_covid_19_br.data = pd.to_datetime(df_covid_19_br.data)\n",
    "\n",
    "\n",
    "### conferência dos casos em que não houve integração de dados, por não haver código de município, naqueles casos em que a localização municipal é indefinida.\n",
    "### Caso o output da célula seja \"array(['INDEFINIDA'], dtype=object)\", o merge foi feito corretamente\n",
    "df_covid_19_br.loc[df_covid_19_br.classe_pib.isna()].municipio.unique()"
   ]
  },
  {
   "cell_type": "markdown",
   "metadata": {},
   "source": [
    "**Definição de função para geração de Data Frame de análise por Classes de Fatores Geográficos**"
   ]
  },
  {
   "cell_type": "code",
   "execution_count": 408,
   "metadata": {},
   "outputs": [],
   "source": [
    "def conta_municipios_por_classe(df_covid_19_br=df_covid_19_br, df_fatores_geograficos=df_fatores_geograficos, col=None):\n",
    "    \n",
    "    # cria df_municipios_com_casos_por_classe com número de municípios afetados por classes em col\n",
    "    df_municipios_com_casos_por_classe = df_covid_19_br.pivot_table(index='data', columns=col, values='casos_total', aggfunc='count') # cria df_muncipios_com_casos_por_classe \n",
    "    df_municipios_com_casos_por_classe = df_municipios_com_casos_por_classe.fillna(0) # insere 0 para valores nulos \n",
    "    \n",
    "    \n",
    "    # cria df_razao_municipios_com_casos_por_classe com fração, de 0 a 1, de municípios afetados por classes em col\n",
    "    df_fracao_municipios_com_casos_por_classe = df_municipios_com_casos_por_classe.copy()\n",
    "    for classe, total_municipios_classe in df_fatores_geograficos.loc[:,col].value_counts().sort_index().iteritems():\n",
    "        df_fracao_municipios_com_casos_por_classe[classe] = df_fracao_municipios_com_casos_por_classe[classe] / total_municipios_classe\n",
    "\n",
    "\n",
    "    return df_municipios_com_casos_por_classe, df_fracao_municipios_com_casos_por_classe"
   ]
  },
  {
   "cell_type": "markdown",
   "metadata": {},
   "source": [
    "**Definição de função para plotagem de proporção de municípios afetados por Classes de Fatores Geográficos**"
   ]
  },
  {
   "cell_type": "code",
   "execution_count": 409,
   "metadata": {},
   "outputs": [],
   "source": [
    "def plot_razao_municipios_afetados(df=None, titulo='Título', save_fig=None):\n",
    "    for coluna, marker in zip(df.columns, ['P', 's', 'o', '8', 'D', 'X', '*', \"\", \"\", \"\", \"\", \"\", \"\", \"\"]):\n",
    "        df[coluna].plot(marker=marker, markersize=7)\n",
    "       \n",
    "    plt.legend(loc='upper left')\n",
    "\n",
    "\n",
    "    datas_total = np.array(df.index)\n",
    "\n",
    "    xtick_labels = np.array([x.split('-')[2] + '-' + x.split('-')[1] for x in df.index[::5]], dtype='object')\n",
    "\n",
    "    xticks_datas = np.array(df.index[::5])\n",
    "\n",
    "    xticks_posicao = np.where(np.isin(datas_total, xticks_datas))[0]\n",
    "\n",
    "    plt.xticks(ticks_posicao, datas_selecionadas);\n",
    "\n",
    "\n",
    "    yticks_posicao = np.linspace(0.1, 1, num=10)\n",
    "\n",
    "\n",
    "    plt.yticks(yticks_posicao, np.chararray.replace(np.linspace(0.1, 1, num=10).round(2).astype(str), '.', ','));\n",
    "\n",
    "\n",
    "    # plt.xticks([ 0,  5, 10, 15, 20, 25, 30, 35, 40, 45, 50], ['25-02', '01-03', '06-03', '11-03', '16-03', '21-03', '26-03','31-03', '05-04', '10-04', '15-04'])\n",
    "\n",
    "    plt.title(titulo + '\\n')\n",
    "\n",
    "    plt.xlabel(\"\")\n",
    "    plt.ylim(bottom=0)\n",
    "    \n",
    "    \n",
    "    if save_fig == None:\n",
    "        save_fig = 'plot ritmos ' + df.columns.name + '.png'\n",
    "    plt.savefig(save_fig);"
   ]
  },
  {
   "cell_type": "code",
   "execution_count": null,
   "metadata": {},
   "outputs": [],
   "source": []
  },
  {
   "cell_type": "code",
   "execution_count": null,
   "metadata": {},
   "outputs": [],
   "source": []
  },
  {
   "cell_type": "code",
   "execution_count": null,
   "metadata": {},
   "outputs": [],
   "source": []
  },
  {
   "cell_type": "code",
   "execution_count": null,
   "metadata": {},
   "outputs": [],
   "source": [
    "for coluna, marker in zip(df_classes_pop_fracao.columns, ['P', 's', 'o', '8', 'D', 'X', '*', '>', 'd', None, None, None, None, None, None, None]):\n",
    "    df_classes_pop_fracao[coluna].plot(marker=marker, markersize=7)\n",
    "       \n",
    "plt.legend(loc='upper left')\n",
    "\n",
    "\n",
    "#plt.xticks([x for x in []], ['25/02'])\n",
    "\n",
    "\n",
    "#plt.xticks(['2020-02-25', '2020-03-05', '2020-03-10', '2020-03-15', '2020-03-20', '2020-03-25', '2020-03-30', '2020-04-04'], ['25/02', '05/03', '10/03', '15/03', '20/03', '25/05', '30/03', '04/04'])\n",
    "\n",
    "\n",
    "\n",
    "datas_total = np.array(df_classes_pop.index)\n",
    "\n",
    "xtick_labels = np.array([x.split('-')[2] + '-' + x.split('-')[1] for x in df_classes_pop_fracao.index[::5]], dtype='object')\n",
    "\n",
    "xticks_datas = np.array(df_classes_pop_fracao.index[::5])\n",
    "\n",
    "xticks_posicao = np.where(np.isin(datas_total, xticks_datas))[0]\n",
    "\n",
    "plt.xticks(ticks_posicao, datas_selecionadas);\n",
    "\n",
    "\n",
    "\n",
    "yticks_posicao = np.linspace(0.1, 1, num=10)\n",
    "\n",
    "\n",
    "plt.yticks(yticks_posicao, np.chararray.replace(np.linspace(0.1, 1, num=10).round(2).astype(str), '.', ','));\n",
    "\n",
    "\n",
    "# plt.xticks([ 0,  5, 10, 15, 20, 25, 30, 35, 40, 45, 50], ['25-02', '01-03', '06-03', '11-03', '16-03', '21-03', '26-03','31-03', '05-04', '10-04', '15-04'])\n",
    "\n",
    "\n",
    "\n",
    "plt.title('Razão de municípios com casos notificados por total de municípios no Brasil,\\n segundo classes de patamar populacional\\n')\n",
    "\n",
    "\n",
    "plt.xlabel(\"\")\n",
    "plt.ylim(bottom=0)\n",
    "\n",
    "plt.savefig('ritmos_pop_atual.png');"
   ]
  },
  {
   "cell_type": "code",
   "execution_count": null,
   "metadata": {},
   "outputs": [],
   "source": [
    "df_para_plot = df_covid_19_br.pivot_table(index='data', columns='classe_pop', values='casos_total', aggfunc='count')\n",
    "\n",
    "df_para_plot = df_para_plot.fillna(0)\n",
    "\n",
    "df_para_plot"
   ]
  },
  {
   "cell_type": "code",
   "execution_count": null,
   "metadata": {},
   "outputs": [],
   "source": [
    "df_para_plot2 = df_para_plot.copy()\n",
    "for hierarquia, total in zip(['Grande Metrópole Nacional', 'Metrópole Nacional', 'Metrópole','Capital Regional A', 'Capital Regional B', 'Capital Regional C','Centro Subregional A', 'Centro Subregional B','Centro de Zona A', 'Centro de Zona B', 'Centro Local'], [47, 29, 101, 60, 46, 83, 85, 79, 197, 364, 4479]):\n",
    "    df_para_plot2[hierarquia] = df_para_plot2[hierarquia] / total\n",
    "df_para_plot2"
   ]
  },
  {
   "cell_type": "code",
   "execution_count": null,
   "metadata": {},
   "outputs": [],
   "source": [
    "df_fatores_geograficos.classe_pop.value_counts().sort_index()"
   ]
  },
  {
   "cell_type": "code",
   "execution_count": null,
   "metadata": {},
   "outputs": [],
   "source": [
    "array_classes = np.sort(df_fatores_geograficos.classe_pop.unique())"
   ]
  },
  {
   "cell_type": "code",
   "execution_count": null,
   "metadata": {},
   "outputs": [],
   "source": [
    "df_para_plot2 = df_para_plot.copy()\n",
    "for classe, total_municipios_classe in df_fatores_geograficos.classe_pop.value_counts().sort_index().iteritems():\n",
    "    df_para_plot2[classe] = df_para_plot2[classe] / total_municipios_classe"
   ]
  },
  {
   "cell_type": "code",
   "execution_count": null,
   "metadata": {},
   "outputs": [],
   "source": [
    "df_para_plot2"
   ]
  },
  {
   "cell_type": "code",
   "execution_count": null,
   "metadata": {},
   "outputs": [],
   "source": [
    "teste_series = df_fatores_geograficos.classe_pop.value_counts().sort_index()"
   ]
  },
  {
   "cell_type": "code",
   "execution_count": null,
   "metadata": {},
   "outputs": [],
   "source": [
    "teste_series[]"
   ]
  },
  {
   "cell_type": "code",
   "execution_count": null,
   "metadata": {},
   "outputs": [],
   "source": [
    "teste_series.sort_index()"
   ]
  },
  {
   "cell_type": "code",
   "execution_count": null,
   "metadata": {},
   "outputs": [],
   "source": [
    "teste_iter = teste_series.sort_index().iteritems()"
   ]
  },
  {
   "cell_type": "code",
   "execution_count": null,
   "metadata": {},
   "outputs": [],
   "source": [
    "next(teste_iter)[0]"
   ]
  },
  {
   "cell_type": "code",
   "execution_count": null,
   "metadata": {},
   "outputs": [],
   "source": [
    "next(teste_iter)[1]"
   ]
  },
  {
   "cell_type": "code",
   "execution_count": null,
   "metadata": {},
   "outputs": [],
   "source": [
    "df_para_plot2 = df_para_plot.copy()\n",
    "for hierarquia, total in zip(['Grande Metrópole Nacional', 'Metrópole Nacional', 'Metrópole','Capital Regional A', 'Capital Regional B', 'Capital Regional C','Centro Subregional A', 'Centro Subregional B','Centro de Zona A', 'Centro de Zona B', 'Centro Local'], [47, 29, 101, 60, 46, 83, 85, 79, 197, 364, 4479]):\n",
    "    df_para_plot2[hierarquia] = df_para_plot2[hierarquia] / total\n",
    "df_para_plot2"
   ]
  },
  {
   "cell_type": "code",
   "execution_count": null,
   "metadata": {},
   "outputs": [],
   "source": []
  },
  {
   "cell_type": "code",
   "execution_count": null,
   "metadata": {},
   "outputs": [],
   "source": []
  },
  {
   "cell_type": "code",
   "execution_count": null,
   "metadata": {},
   "outputs": [],
   "source": []
  },
  {
   "cell_type": "code",
   "execution_count": null,
   "metadata": {},
   "outputs": [],
   "source": []
  },
  {
   "cell_type": "code",
   "execution_count": null,
   "metadata": {},
   "outputs": [],
   "source": [
    "teste = df_faunique_geograficos.loc[:, ['cod_mun','hierarquia_urbana07']].iterrows()"
   ]
  },
  {
   "cell_type": "code",
   "execution_count": null,
   "metadata": {
    "code_folding": [],
    "hide_input": false
   },
   "outputs": [],
   "source": [
    "dic_mapeamento_hierarquias = {}\n",
    "for linha in df_fatores_geograficos.loc[:, ['cod_mun','hierarquia_urbana07']].iterrows():\n",
    "    dic_mapeamento_hierarquias[linha[1]['cod_mun']] = linha[1]['hierarquia_urbana07']"
   ]
  },
  {
   "cell_type": "code",
   "execution_count": null,
   "metadata": {
    "code_folding": [],
    "hide_input": false
   },
   "outputs": [],
   "source": [
    "df_covid_19_br['hierarquia_urbana'] = df_covid_19_br.cod_mun.map(dic_mapeamento_hierarquias)"
   ]
  },
  {
   "cell_type": "code",
   "execution_count": null,
   "metadata": {},
   "outputs": [],
   "source": [
    "df_covid_19_br.data = pd.to_datetime(df_covid_19_br.data)"
   ]
  },
  {
   "cell_type": "code",
   "execution_count": null,
   "metadata": {},
   "outputs": [],
   "source": [
    "df_para_plot = df_covid_19_br.pivot_table(index='data', columns='hierarquia_urbana', values='casos_total', aggfunc='count')"
   ]
  },
  {
   "cell_type": "code",
   "execution_count": null,
   "metadata": {
    "code_folding": [],
    "hide_input": false
   },
   "outputs": [],
   "source": [
    "df_para_plot = df_para_plot.fillna(0)"
   ]
  },
  {
   "cell_type": "code",
   "execution_count": null,
   "metadata": {
    "code_folding": [],
    "hide_input": false
   },
   "outputs": [],
   "source": [
    "df_para_plot = df_para_plot[['Grande Metrópole Nacional', 'Metrópole Nacional', 'Metrópole',\n",
    "             'Capital Regional A', 'Capital Regional B', 'Capital Regional C',\n",
    "             'Centro Subregional A', 'Centro Subregional B',\n",
    "             'Centro de Zona A', 'Centro de Zona B', 'Centro Local']]"
   ]
  },
  {
   "cell_type": "code",
   "execution_count": null,
   "metadata": {
    "code_folding": [],
    "hide_input": false
   },
   "outputs": [],
   "source": [
    "df_para_plot"
   ]
  },
  {
   "cell_type": "code",
   "execution_count": null,
   "metadata": {
    "code_folding": [],
    "hide_input": false
   },
   "outputs": [],
   "source": [
    "df_para_plot2 = df_para_plot.copy()\n",
    "for hierarquia, total in zip(['Grande Metrópole Nacional', 'Metrópole Nacional', 'Metrópole','Capital Regional A', 'Capital Regional B', 'Capital Regional C','Centro Subregional A', 'Centro Subregional B','Centro de Zona A', 'Centro de Zona B', 'Centro Local'], [47, 29, 101, 60, 46, 83, 85, 79, 197, 364, 4479]):\n",
    "    df_para_plot2[hierarquia] = df_para_plot2[hierarquia] / total\n",
    "df_para_plot2"
   ]
  },
  {
   "cell_type": "code",
   "execution_count": null,
   "metadata": {
    "code_folding": [],
    "hide_input": false
   },
   "outputs": [],
   "source": [
    "df_para_plot2.index"
   ]
  },
  {
   "cell_type": "code",
   "execution_count": null,
   "metadata": {
    "code_folding": [],
    "hide_input": false
   },
   "outputs": [],
   "source": [
    "for coluna in ['Grande Metrópole Nacional', 'Metrópole Nacional', 'Metrópole','Capital Regional A', 'Capital Regional B', 'Capital Regional C','Centro Subregional A', 'Centro Subregional B','Centro de Zona A', 'Centro de Zona B', 'Centro Local']:\n",
    "    df_para_plot2[coluna].plot()\n",
    "plt.legend()\n",
    "plt.title('Razão de municípios com casos notificados por total de municípios e hierarquia urbana no Brasil \\n')\n",
    "\n",
    "plt.xticks(['2020-02-25', '2020-03-05', '2020-03-10', '2020-03-15', '2020-03-20', '2020-03-25', '2020-03-30', '2020-04-04', '2020-04-11'], ['25/02', '05/03', '10/03', '15/03', '20/03', '25/05', '30/03', '04/04', '11/04'])\n",
    "\n",
    "plt.xlabel(\"\")\n",
    "plt. ylim(top=1)\n",
    "\n",
    "plt.savefig('ritmos_hierarquia_urbana.png')"
   ]
  },
  {
   "cell_type": "markdown",
   "metadata": {},
   "source": [
    "## Turismo"
   ]
  },
  {
   "cell_type": "code",
   "execution_count": null,
   "metadata": {
    "code_folding": [],
    "hide_input": false
   },
   "outputs": [],
   "source": [
    "df_covid_19_br"
   ]
  },
  {
   "cell_type": "code",
   "execution_count": null,
   "metadata": {
    "code_folding": [],
    "hide_input": false
   },
   "outputs": [],
   "source": [
    "dic_mapeamento_turismo = {}\n",
    "for linha in df_fatores_geograficos.loc[:, ['cod_mun','turismo']].iterrows():\n",
    "    dic_mapeamento_turismo[linha[1]['cod_mun']] = linha[1]['turismo']"
   ]
  },
  {
   "cell_type": "code",
   "execution_count": null,
   "metadata": {
    "code_folding": [],
    "hide_input": false
   },
   "outputs": [],
   "source": [
    "df_covid_19_br['turismo'] = df_covid_19_br.cod_mun.map(dic_mapeamento_turismo)"
   ]
  },
  {
   "cell_type": "code",
   "execution_count": null,
   "metadata": {},
   "outputs": [],
   "source": [
    "df_covid_19_br.data = pd.to_datetime(df_covid_19_br.data)"
   ]
  },
  {
   "cell_type": "code",
   "execution_count": null,
   "metadata": {},
   "outputs": [],
   "source": [
    "df_para_plot_turismo = df_covid_19_br.pivot_table(index='data', columns='turismo', values='casos_total', aggfunc='count')"
   ]
  },
  {
   "cell_type": "code",
   "execution_count": null,
   "metadata": {
    "code_folding": [],
    "hide_input": false
   },
   "outputs": [],
   "source": [
    "df_para_plot_turismo = df_para_plot_turismo.fillna(0)"
   ]
  },
  {
   "cell_type": "code",
   "execution_count": null,
   "metadata": {
    "code_folding": [],
    "hide_input": false
   },
   "outputs": [],
   "source": [
    "df_para_plot_turismo.columns = ['0','1','2','3','4','5']"
   ]
  },
  {
   "cell_type": "code",
   "execution_count": null,
   "metadata": {
    "code_folding": [],
    "hide_input": false
   },
   "outputs": [],
   "source": [
    "df_para_plot_turismo"
   ]
  },
  {
   "cell_type": "code",
   "execution_count": null,
   "metadata": {
    "code_folding": [],
    "hide_input": false
   },
   "outputs": [],
   "source": [
    "df_para_plot_turismo2 = df_para_plot_turismo.copy()\n",
    "for turismo, total in zip(['5','4','3','2','1','0'], [62, 257, 476, 1522, 377, 2876]):\n",
    "    df_para_plot_turismo2[turismo] = df_para_plot_turismo2[turismo] / total\n",
    "df_para_plot_turismo2"
   ]
  },
  {
   "cell_type": "code",
   "execution_count": null,
   "metadata": {
    "code_folding": [],
    "hide_input": false
   },
   "outputs": [],
   "source": [
    "df_para_plot_turismo2.columns = ['Sem Classe', 'E', 'D','C','B', 'A']"
   ]
  },
  {
   "cell_type": "code",
   "execution_count": null,
   "metadata": {
    "code_folding": [],
    "hide_input": false
   },
   "outputs": [],
   "source": [
    "for coluna in ['A', 'B', 'C','D', 'E', 'Sem Classe']:\n",
    "    df_para_plot_turismo2[coluna].plot()\n",
    "plt.legend(loc='upper left')\n",
    "plt.title('Razão de municípios com casos notificados por total de municípios no Brasil,\\n segundo grau de competitividade do turismo \\n')\n",
    "\n",
    "plt.xticks(['2020-02-25', '2020-03-05', '2020-03-10', '2020-03-15', '2020-03-20', '2020-03-25', '2020-03-30', '2020-04-04'], ['25/02', '05/03', '10/03', '15/03', '20/03', '25/05', '30/03', '04/04'])\n",
    "\n",
    "plt.xlabel(\"\")\n",
    "plt. ylim(top=1)\n",
    "\n",
    "plt.savefig('ritmos_turismo.png')"
   ]
  },
  {
   "cell_type": "code",
   "execution_count": null,
   "metadata": {},
   "outputs": [],
   "source": []
  },
  {
   "cell_type": "markdown",
   "metadata": {},
   "source": [
    "## PIB"
   ]
  },
  {
   "cell_type": "code",
   "execution_count": null,
   "metadata": {},
   "outputs": [],
   "source": [
    "df_fatores_geograficos.columns"
   ]
  },
  {
   "cell_type": "code",
   "execution_count": null,
   "metadata": {
    "code_folding": [],
    "hide_input": false
   },
   "outputs": [],
   "source": [
    "df_covid_19_br"
   ]
  },
  {
   "cell_type": "code",
   "execution_count": null,
   "metadata": {
    "code_folding": [],
    "hide_input": false
   },
   "outputs": [],
   "source": [
    "df_covid_19_br = df_covid_19_br[['municipio', 'estado', 'data', 'novos_casos','casos_total', 'hierarquia_urbana', 'turismo']]"
   ]
  },
  {
   "cell_type": "code",
   "execution_count": null,
   "metadata": {
    "code_folding": [],
    "hide_input": false
   },
   "outputs": [],
   "source": [
    "df_covid_19_br"
   ]
  },
  {
   "cell_type": "code",
   "execution_count": null,
   "metadata": {
    "code_folding": [],
    "hide_input": false
   },
   "outputs": [],
   "source": [
    "def gera_df_plot_dias_covid_por_fator(df_fatores, df_covid, col, uf=None):\n",
    "    \"\"\" \n",
    "    toma o dataframe de fatores geográficos para a COVID-19, com cod_mun no index, \n",
    "    e retorna um dataframe pronto para plotagem de evolução diária por fator.\n",
    "    \"\"\"\n",
    "\n",
    "    if uf != None:\n",
    "        df_covid = df_covid[df_covid.estado  == uf]\n",
    "        df_fatores = df_fatores[df_fatores.UF  == uf]\n",
    "    \n",
    "    dic_mapeamento = {}\n",
    "    for linha in df_fatores.loc[:, ['cod_mun', col]].iterrows():\n",
    "        dic_mapeamento[linha[1]['cod_mun']] = linha[1][col]\n",
    "\n",
    "    df_covid[col] = df_covid.cod_mun.map(dic_mapeamento)\n",
    "    \n",
    "    df_covid.data = pd.to_datetime(df_covid.data)\n",
    "    \n",
    "    df_para_plot = df_covid.pivot_table(index='data', columns=col, values='casos_total', aggfunc='count')\n",
    "    \n",
    "    df_para_plot = df_para_plot.fillna(0)\n",
    "    \n",
    "    return df_para_plot"
   ]
  },
  {
   "cell_type": "code",
   "execution_count": null,
   "metadata": {
    "code_folding": [],
    "hide_input": false
   },
   "outputs": [],
   "source": [
    "df_fatores_geograficos.columns"
   ]
  },
  {
   "cell_type": "code",
   "execution_count": null,
   "metadata": {
    "code_folding": [],
    "hide_input": false
   },
   "outputs": [],
   "source": [
    "df_plot_evolucao_pib = gera_df_plot_dias_covid_por_fator(df_fatores=df_fatores_geograficos, df_covid=df_covid_19_br, col='classe_pib', uf=None)"
   ]
  },
  {
   "cell_type": "code",
   "execution_count": null,
   "metadata": {
    "code_folding": [],
    "hide_input": false
   },
   "outputs": [],
   "source": [
    "df_plot_evolucao_pib"
   ]
  },
  {
   "cell_type": "code",
   "execution_count": null,
   "metadata": {
    "code_folding": [],
    "hide_input": false
   },
   "outputs": [],
   "source": [
    "np.sort(df_plot_evolucao_pib.columns)"
   ]
  },
  {
   "cell_type": "code",
   "execution_count": null,
   "metadata": {
    "code_folding": [],
    "hide_input": false
   },
   "outputs": [],
   "source": [
    "np.sort(df_fatores_geograficos.classe_pib.unique())"
   ]
  },
  {
   "cell_type": "code",
   "execution_count": null,
   "metadata": {
    "code_folding": [],
    "hide_input": false,
    "scrolled": true
   },
   "outputs": [],
   "source": [
    "df_fatores_geograficos.classe_pib.value_counts()"
   ]
  },
  {
   "cell_type": "code",
   "execution_count": null,
   "metadata": {
    "code_folding": [],
    "hide_input": false
   },
   "outputs": [],
   "source": [
    "df_fatores_geograficos.classe_pib.value_counts().values"
   ]
  },
  {
   "cell_type": "code",
   "execution_count": null,
   "metadata": {
    "code_folding": [],
    "hide_input": false
   },
   "outputs": [],
   "source": [
    "df_plot_evolucao_pib2 = df_plot_evolucao_pib.copy()\n",
    "for faixapib, total in zip(['acima de 20.000', \n",
    "                           'até 50', \n",
    "                           'de 1.000 a 5.000', \n",
    "                           'de 10.000 a 20.000', \n",
    "                           'de 100 a 500', \n",
    "                           'de 5.000 a 10.000', \n",
    "                           'de 50 a 100', \n",
    "                           'de 500 a 1.000'], [42, 693, 597, 56,  2447, 65, 1109, 561]):\n",
    "    df_plot_evolucao_pib2[faixapib] = df_plot_evolucao_pib2[faixapib] / total\n",
    "df_plot_evolucao_pib2"
   ]
  },
  {
   "cell_type": "code",
   "execution_count": null,
   "metadata": {
    "code_folding": [],
    "hide_input": false
   },
   "outputs": [],
   "source": [
    "df_plot_evolucao_pib2 = df_plot_evolucao_pib2[['até 50', 'de 50 a 100', 'de 100 a 500', 'de 500 a 1.000', 'de 1.000 a 5.000', 'de 5.000 a 10.000', 'de 10.000 a 20.000', 'acima de 20.000', ]]"
   ]
  },
  {
   "cell_type": "code",
   "execution_count": null,
   "metadata": {
    "code_folding": [],
    "hide_input": false
   },
   "outputs": [],
   "source": [
    "for coluna in df_plot_evolucao_pib2.columns:\n",
    "    df_plot_evolucao_pib2[coluna].plot()\n",
    "plt.legend()\n",
    "plt.title('Razão de municípios com casos notificados por total de municípios no Brasil,\\n segundo PIB de 2017 (Milhões R$)')\n",
    "\n",
    "plt.xticks(['2020-02-25', '2020-03-05', '2020-03-10', '2020-03-15', '2020-03-20', '2020-03-25', '2020-03-30', '2020-04-04'], ['25/02', '05/03', '10/03', '15/03', '20/03', '25/05', '30/03', '04/04'])\n",
    "\n",
    "plt.xlabel(\"\")\n",
    "plt. ylim()\n",
    "\n",
    "plt.savefig('ritmos_pib.png')"
   ]
  },
  {
   "cell_type": "code",
   "execution_count": null,
   "metadata": {},
   "outputs": [],
   "source": []
  },
  {
   "cell_type": "markdown",
   "metadata": {},
   "source": [
    "## População"
   ]
  },
  {
   "cell_type": "code",
   "execution_count": null,
   "metadata": {},
   "outputs": [],
   "source": [
    "df_plot_evolucao_pop = gera_df_plot_dias_covid_por_fator(df_fatores=df_fatores_geograficos, df_covid=df_covid_19_br, col='classe_pop', uf=None)"
   ]
  },
  {
   "cell_type": "code",
   "execution_count": null,
   "metadata": {},
   "outputs": [],
   "source": [
    "df_plot_evolucao_pop  = df_plot_evolucao_pop[['Até 20.000', 'Até 50.000', 'Até 100.000','Até 500.000','Até 1.000.000', 'Acima de 1.000.000']]"
   ]
  },
  {
   "cell_type": "code",
   "execution_count": null,
   "metadata": {},
   "outputs": [],
   "source": [
    "df_plot_evolucao_pop "
   ]
  },
  {
   "cell_type": "code",
   "execution_count": null,
   "metadata": {
    "code_folding": [],
    "hide_input": false
   },
   "outputs": [],
   "source": [
    "df_fatores_geograficos.classe_pop.value_counts()"
   ]
  },
  {
   "cell_type": "code",
   "execution_count": null,
   "metadata": {
    "code_folding": [],
    "hide_input": false,
    "scrolled": true
   },
   "outputs": [],
   "source": [
    "df_plot_evolucao_pop.columns"
   ]
  },
  {
   "cell_type": "code",
   "execution_count": null,
   "metadata": {
    "code_folding": [],
    "hide_input": false
   },
   "outputs": [],
   "source": [
    "df_plot_evolucao_pop2 = df_plot_evolucao_pop.copy()\n",
    "for faixapop, total in zip(['Até 20.000', \n",
    "                            'Até 50.000', \n",
    "                            'Até 100.000', \n",
    "                            'Até 500.000',\n",
    "                            'Até 1.000.000',\n",
    "                            'Acima de 1.000.000'], [3796, 1101,  349,  276,   31,   17]):\n",
    "    df_plot_evolucao_pop2[faixapop] = df_plot_evolucao_pop2[faixapop] / total\n",
    "df_plot_evolucao_pop2"
   ]
  },
  {
   "cell_type": "code",
   "execution_count": null,
   "metadata": {
    "code_folding": [],
    "hide_input": false
   },
   "outputs": [],
   "source": [
    "for coluna in df_plot_evolucao_pop2.columns:\n",
    "    df_plot_evolucao_pop2[coluna].plot()\n",
    "plt.legend()\n",
    "plt.title('Razão de municípios com casos notificados por total de municípios no Brasil,\\n segundo número de habitantes em 2019')\n",
    "\n",
    "plt.xticks(['2020-02-25', '2020-03-05', '2020-03-10', '2020-03-15', '2020-03-20', '2020-03-25', '2020-03-30', '2020-04-04'], ['25/02', '05/03', '10/03', '15/03', '20/03', '25/05', '30/03', '04/04'])\n",
    "\n",
    "plt.xlabel(\"\")\n",
    "plt. ylim()\n",
    "\n",
    "plt.savefig('ritmos_pop.png')"
   ]
  },
  {
   "cell_type": "code",
   "execution_count": null,
   "metadata": {
    "scrolled": true
   },
   "outputs": [],
   "source": [
    "df_fatores_geograficos.classe_exportacao.unique()"
   ]
  },
  {
   "cell_type": "markdown",
   "metadata": {},
   "source": [
    "## PIB Percapita"
   ]
  },
  {
   "cell_type": "code",
   "execution_count": null,
   "metadata": {},
   "outputs": [],
   "source": [
    "df_plot_evolucao_pib_percapita = gera_df_plot_dias_covid_por_fator(df_fatores=df_fatores_geograficos, df_covid=df_covid_19_br, col='classe_capita', uf=None)"
   ]
  },
  {
   "cell_type": "code",
   "execution_count": null,
   "metadata": {},
   "outputs": [],
   "source": [
    "df_plot_evolucao_pib_percapita = df_plot_evolucao_pib_percapita[[\n",
    "    'até 1.000', 'de 1.000 a 2.000', 'de 2.000 a 3.000', 'de 3.000 a 4.000',\n",
    "    'de 4.000 a 5.000', 'de 5.000 a 10.000', 'Acima de 10.000'\n",
    "]]"
   ]
  },
  {
   "cell_type": "code",
   "execution_count": null,
   "metadata": {},
   "outputs": [],
   "source": [
    "df_plot_evolucao_pib_percapita"
   ]
  },
  {
   "cell_type": "code",
   "execution_count": null,
   "metadata": {
    "code_folding": [],
    "hide_input": false,
    "scrolled": true
   },
   "outputs": [],
   "source": [
    "df_fatores_geograficos.classe_capita.value_counts()"
   ]
  },
  {
   "cell_type": "code",
   "execution_count": null,
   "metadata": {
    "code_folding": [],
    "hide_input": false,
    "scrolled": true
   },
   "outputs": [],
   "source": [
    "df_plot_evolucao_pib_percapita.columns"
   ]
  },
  {
   "cell_type": "code",
   "execution_count": null,
   "metadata": {
    "code_folding": [],
    "hide_input": false
   },
   "outputs": [],
   "source": [
    "df_plot_evolucao_pib_percapita2 = df_plot_evolucao_pib_percapita.copy()\n",
    "for faixapibcapita, total in zip(['até 1.000', \n",
    "                            'de 1.000 a 2.000', \n",
    "                            'de 2.000 a 3.000', \n",
    "                            'de 3.000 a 4.000',\n",
    "                            'de 4.000 a 5.000', \n",
    "                            'de 5.000 a 10.000', \n",
    "                            'Acima de 10.000'\n",
    "                            ], [1541, 1748, 1126, 549, 277, 271, 58]):\n",
    "    df_plot_evolucao_pib_percapita2[faixapibcapita] = df_plot_evolucao_pib_percapita2[faixapibcapita] / total\n",
    "df_plot_evolucao_pib_percapita2"
   ]
  },
  {
   "cell_type": "code",
   "execution_count": null,
   "metadata": {
    "code_folding": [],
    "hide_input": false
   },
   "outputs": [],
   "source": [
    "for coluna in df_plot_evolucao_pib_percapita2.columns:\n",
    "    df_plot_evolucao_pib_percapita2[coluna].plot()\n",
    "plt.legend(loc='upper left')\n",
    "plt.title('Razão de municípios com casos notificados por total de municípios no Brasil,\\n segundo PIB percapita em 2017 (R$)')\n",
    "\n",
    "plt.xticks(['2020-02-25', '2020-03-05', '2020-03-10', '2020-03-15', '2020-03-20', '2020-03-25', '2020-03-30', '2020-04-04'], ['25/02', '05/03', '10/03', '15/03', '20/03', '25/05', '30/03', '04/04'])\n",
    "\n",
    "plt.xlabel(\"\")\n",
    "plt. ylim(top=1)\n",
    "\n",
    "plt.savefig('ritmos_pib_percapita.png')"
   ]
  },
  {
   "cell_type": "markdown",
   "metadata": {},
   "source": [
    "## Exportação"
   ]
  },
  {
   "cell_type": "code",
   "execution_count": null,
   "metadata": {},
   "outputs": [],
   "source": [
    "df_plot_evolucao_exportacao = gera_df_plot_dias_covid_por_fator(df_fatores=df_fatores_geograficos, df_covid=df_covid_19_br, col='classe_exportacao', uf=None)"
   ]
  },
  {
   "cell_type": "code",
   "execution_count": null,
   "metadata": {},
   "outputs": [],
   "source": [
    "df_plot_evolucao_exportacao = df_plot_evolucao_exportacao[[\n",
    "    'Sem exportações','até 50.000', 'de 50.000 a 200.000', \n",
    "    'de 200.000 a 500.000', 'de 500.000 a 1.000.000',\n",
    "    'de 1.000.000 a 5.000.000', 'de 5.000.000 a 20.000.000',\n",
    "    'de 20.000.000 a 50.000.000', 'de 50.000.000 a 100.000.000', \n",
    "    'de 100.000.000 a 500.000.000','acima de 500.000.000'\n",
    "]]"
   ]
  },
  {
   "cell_type": "code",
   "execution_count": null,
   "metadata": {},
   "outputs": [],
   "source": [
    "df_plot_evolucao_exportacao"
   ]
  },
  {
   "cell_type": "code",
   "execution_count": null,
   "metadata": {
    "code_folding": [],
    "hide_input": false,
    "scrolled": true
   },
   "outputs": [],
   "source": [
    "df_fatores_geograficos.classe_exportacao.value_counts()"
   ]
  },
  {
   "cell_type": "code",
   "execution_count": null,
   "metadata": {
    "code_folding": [],
    "hide_input": false
   },
   "outputs": [],
   "source": [
    "df_plot_evolucao_exportacao.columns"
   ]
  },
  {
   "cell_type": "code",
   "execution_count": null,
   "metadata": {
    "code_folding": [],
    "hide_input": false
   },
   "outputs": [],
   "source": [
    "df_plot_evolucao_exportacao2 = df_plot_evolucao_exportacao.copy()\n",
    "for faixa_export, total in zip([\n",
    "    'Sem exportações','até 50.000', 'de 50.000 a 200.000', \n",
    "    'de 200.000 a 500.000', 'de 500.000 a 1.000.000',\n",
    "    'de 1.000.000 a 5.000.000', 'de 5.000.000 a 20.000.000',\n",
    "    'de 20.000.000 a 50.000.000', 'de 50.000.000 a 100.000.000', \n",
    "    'de 100.000.000 a 500.000.000','acima de 500.000.000'\n",
    "], [3374, 274, 179, 161, 177, 340, 347, 237, 177, 232, 93]):\n",
    "    df_plot_evolucao_exportacao2[faixa_export] = df_plot_evolucao_exportacao2[faixa_export] / total\n",
    "df_plot_evolucao_exportacao2"
   ]
  },
  {
   "cell_type": "code",
   "execution_count": null,
   "metadata": {
    "code_folding": [],
    "hide_input": false
   },
   "outputs": [],
   "source": [
    "for coluna in df_plot_evolucao_exportacao2.columns:\n",
    "    df_plot_evolucao_exportacao2[coluna].plot()\n",
    "plt.legend(loc='upper left')\n",
    "plt.title('Razão de municípios com casos notificados por total de municípios no Brasil,\\n segundo Exportações em 2019 (U$FOB) \\n')\n",
    "\n",
    "plt.xticks(['2020-02-25', '2020-03-05', '2020-03-10', '2020-03-15', '2020-03-20', '2020-03-25', '2020-03-30', '2020-04-04'], ['25/02', '05/03', '10/03', '15/03', '20/03', '25/05', '30/03', '04/04'])\n",
    "\n",
    "plt.xlabel(\"\")\n",
    "plt. ylim(top=1)\n",
    "\n",
    "plt.savefig('ritmos_exportacao.png')"
   ]
  },
  {
   "cell_type": "code",
   "execution_count": null,
   "metadata": {},
   "outputs": [],
   "source": []
  },
  {
   "cell_type": "code",
   "execution_count": null,
   "metadata": {},
   "outputs": [],
   "source": [
    "df_fatores_geograficos.classe_importacao.unique()"
   ]
  },
  {
   "cell_type": "markdown",
   "metadata": {},
   "source": [
    "## Importação"
   ]
  },
  {
   "cell_type": "code",
   "execution_count": null,
   "metadata": {},
   "outputs": [],
   "source": [
    "df_plot_evolucao_importacao = gera_df_plot_dias_covid_por_fator(df_fatores=df_fatores_geograficos, df_covid=df_covid_19_br, col='classe_importacao', uf=None)"
   ]
  },
  {
   "cell_type": "code",
   "execution_count": null,
   "metadata": {},
   "outputs": [],
   "source": [
    "df_plot_evolucao_importacao = df_plot_evolucao_importacao[[\n",
    "    'sem importação','até 50.000', 'de 50.000 até 100.000', \n",
    "    'de 100.000 até 500.000', 'de 500.000 até 1.000.000',\n",
    "    'de 1.000.000 até 5.000.000', 'de 5.000.000 até 10.000.000',\n",
    "    'de 10.000.000 até 50.000.000', 'de 50.000.000 até 200.000.000', \n",
    "    'de 2000.000 até 500.000.000','acima de 500.000.000'\n",
    "]]"
   ]
  },
  {
   "cell_type": "code",
   "execution_count": null,
   "metadata": {},
   "outputs": [],
   "source": [
    "df_plot_evolucao_importacao"
   ]
  },
  {
   "cell_type": "code",
   "execution_count": null,
   "metadata": {
    "code_folding": [],
    "hide_input": false,
    "scrolled": true
   },
   "outputs": [],
   "source": [
    "df_fatores_geograficos.classe_importacao.value_counts()"
   ]
  },
  {
   "cell_type": "code",
   "execution_count": null,
   "metadata": {
    "code_folding": [],
    "hide_input": false
   },
   "outputs": [],
   "source": [
    "df_plot_evolucao_importacao.columns"
   ]
  },
  {
   "cell_type": "code",
   "execution_count": null,
   "metadata": {
    "code_folding": [],
    "hide_input": false
   },
   "outputs": [],
   "source": [
    "df_plot_evolucao_importacao2 = df_plot_evolucao_importacao.copy()\n",
    "for faixa_import, total in zip([\n",
    "    'sem importação','até 50.000', 'de 50.000 até 100.000', \n",
    "    'de 100.000 até 500.000', 'de 500.000 até 1.000.000',\n",
    "    'de 1.000.000 até 5.000.000', 'de 5.000.000 até 10.000.000',\n",
    "    'de 10.000.000 até 50.000.000', 'de 50.000.000 até 200.000.000', \n",
    "    'de 2000.000 até 500.000.000','acima de 500.000.000'\n",
    "], [3548, 420, 115, 283, 140, 364, 163, 264, 134, 64, 75]):\n",
    "    df_plot_evolucao_importacao2[faixa_import] = df_plot_evolucao_importacao2[faixa_import] / total\n",
    "df_plot_evolucao_importacao2"
   ]
  },
  {
   "cell_type": "code",
   "execution_count": null,
   "metadata": {
    "code_folding": [],
    "hide_input": false
   },
   "outputs": [],
   "source": [
    "for coluna in df_plot_evolucao_importacao2.columns:\n",
    "    df_plot_evolucao_importacao2[coluna].plot()\n",
    "plt.legend(loc='upper left')\n",
    "plt.title('Razão de municípios com casos notificados por total de municípios no Brasil,\\n segundo importações em 2019 (U$FOB) \\n')\n",
    "\n",
    "plt.xticks(['2020-02-25', '2020-03-05', '2020-03-10', '2020-03-15', '2020-03-20', '2020-03-25', '2020-03-30', '2020-04-04'], ['25/02', '05/03', '10/03', '15/03', '20/03', '25/05', '30/03', '04/04'])\n",
    "\n",
    "plt.xlabel(\"\")\n",
    "plt. ylim(top =1)\n",
    "\n",
    "plt.savefig('ritmos_importacoes.png')"
   ]
  },
  {
   "cell_type": "code",
   "execution_count": null,
   "metadata": {
    "scrolled": true
   },
   "outputs": [],
   "source": [
    "df_fatores_geograficos.columns"
   ]
  },
  {
   "cell_type": "markdown",
   "metadata": {},
   "source": [
    "## Índice de proximidade rodoviária/hidroviária"
   ]
  },
  {
   "cell_type": "code",
   "execution_count": null,
   "metadata": {},
   "outputs": [],
   "source": [
    "df_fatores_geograficos.classe_proximidade.unique()"
   ]
  },
  {
   "cell_type": "code",
   "execution_count": null,
   "metadata": {},
   "outputs": [],
   "source": [
    "df_plot_evolucao_proximidade = gera_df_plot_dias_covid_por_fator(df_fatores=df_fatores_geograficos, df_covid=df_covid_19_br, col='classe_proximidade', uf=None)"
   ]
  },
  {
   "cell_type": "code",
   "execution_count": null,
   "metadata": {},
   "outputs": [],
   "source": [
    "df_plot_evolucao_proximidade = df_plot_evolucao_proximidade[[\n",
    "    '0', '0,20 a 0,25', '0,25 a 0,30', '0,30 a 0,35',\n",
    "    '0,35 a 0,40','0,40 a 0,45','acima de 0,45'\n",
    "]]"
   ]
  },
  {
   "cell_type": "code",
   "execution_count": null,
   "metadata": {},
   "outputs": [],
   "source": [
    "df_plot_evolucao_proximidade"
   ]
  },
  {
   "cell_type": "code",
   "execution_count": null,
   "metadata": {
    "code_folding": [],
    "hide_input": false,
    "scrolled": true
   },
   "outputs": [],
   "source": [
    "df_fatores_geograficos.classe_proximidade.value_counts()"
   ]
  },
  {
   "cell_type": "code",
   "execution_count": null,
   "metadata": {
    "code_folding": [],
    "hide_input": false
   },
   "outputs": [],
   "source": [
    "df_plot_evolucao_proximidade.columns"
   ]
  },
  {
   "cell_type": "code",
   "execution_count": null,
   "metadata": {
    "code_folding": [],
    "hide_input": false
   },
   "outputs": [],
   "source": [
    "df_plot_evolucao_proximidade2 = df_plot_evolucao_proximidade.copy()\n",
    "for faixa_proximidade, total in zip([\n",
    "    '0', '0,20 a 0,25', '0,25 a 0,30', '0,30 a 0,35',\n",
    "    '0,35 a 0,40','0,40 a 0,45','acima de 0,45'\n",
    "], [184, 183, 1382, 2285, 1332, 189, 15]):\n",
    "    df_plot_evolucao_proximidade2[faixa_proximidade] = df_plot_evolucao_proximidade2[faixa_proximidade] / total\n",
    "df_plot_evolucao_proximidade2"
   ]
  },
  {
   "cell_type": "code",
   "execution_count": null,
   "metadata": {
    "code_folding": [],
    "hide_input": false
   },
   "outputs": [],
   "source": [
    "for coluna in df_plot_evolucao_proximidade2.columns:\n",
    "    df_plot_evolucao_proximidade2[coluna].plot()\n",
    "plt.legend(loc='upper left')\n",
    "plt.title('Razão de municípios com casos notificados por total de municípios no Brasil,\\n segundo índice de proximidade rodoviária/hidroviária')\n",
    "\n",
    "plt.xticks(['2020-02-25', '2020-03-05', '2020-03-10', '2020-03-15', '2020-03-20', '2020-03-25', '2020-03-30', '2020-04-04'], ['25/02', '05/03', '10/03', '15/03', '20/03', '25/05', '30/03', '04/04'])\n",
    "\n",
    "plt.xlabel(\"\")\n",
    "plt. ylim()\n",
    "\n",
    "plt.savefig('ritmos_exportacao.png')"
   ]
  },
  {
   "cell_type": "code",
   "execution_count": null,
   "metadata": {},
   "outputs": [],
   "source": [
    "df_fatores_geograficos.classe_voos_domesticos.unique()"
   ]
  },
  {
   "cell_type": "code",
   "execution_count": null,
   "metadata": {},
   "outputs": [],
   "source": [
    "df_fatores_geograficos.columns"
   ]
  },
  {
   "cell_type": "markdown",
   "metadata": {},
   "source": [
    "## Voos Domésticos"
   ]
  },
  {
   "cell_type": "code",
   "execution_count": null,
   "metadata": {},
   "outputs": [],
   "source": [
    "df_plot_evolucao_voos_domesticos = gera_df_plot_dias_covid_por_fator(df_fatores=df_fatores_geograficos, df_covid=df_covid_19_br, col='classe_voos_domesticos', uf=None)"
   ]
  },
  {
   "cell_type": "code",
   "execution_count": null,
   "metadata": {},
   "outputs": [],
   "source": [
    "df_plot_evolucao_voos_domesticos = df_plot_evolucao_voos_domesticos[[\n",
    "    'sem voos', 'até 20', 'até 50', 'de 50 até 200',\n",
    "    'de 200 até 1.000', 'acima de 1.000'\n",
    "]]"
   ]
  },
  {
   "cell_type": "code",
   "execution_count": null,
   "metadata": {},
   "outputs": [],
   "source": [
    "df_plot_evolucao_voos_domesticos.columns = [\n",
    "    'sem voos', 'até 20', 'de 20 até 50', 'de 50 até 200',\n",
    "    'de 200 até 1.000', 'acima de 1.000'\n",
    "]"
   ]
  },
  {
   "cell_type": "code",
   "execution_count": null,
   "metadata": {},
   "outputs": [],
   "source": [
    "df_plot_evolucao_voos_domesticos"
   ]
  },
  {
   "cell_type": "code",
   "execution_count": null,
   "metadata": {
    "code_folding": [],
    "hide_input": false,
    "scrolled": true
   },
   "outputs": [],
   "source": [
    "df_fatores_geograficos.classe_voos_domesticos.value_counts()"
   ]
  },
  {
   "cell_type": "code",
   "execution_count": null,
   "metadata": {
    "code_folding": [],
    "hide_input": false
   },
   "outputs": [],
   "source": [
    "df_plot_evolucao_voos_domesticos.columns"
   ]
  },
  {
   "cell_type": "code",
   "execution_count": null,
   "metadata": {
    "code_folding": [],
    "hide_input": false
   },
   "outputs": [],
   "source": [
    "df_plot_evolucao_voos_domesticos2 = df_plot_evolucao_voos_domesticos.copy()\n",
    "for faixa_voos_dom, total in zip([\n",
    "    'sem voos', 'até 20', 'de 20 até 50', 'de 50 até 200',\n",
    "    'de 200 até 1.000', 'acima de 1.000'\n",
    "], [5401, 63, 33, 38, 20, 15]):\n",
    "    df_plot_evolucao_voos_domesticos2[faixa_voos_dom] = df_plot_evolucao_voos_domesticos2[faixa_voos_dom] / total\n",
    "df_plot_evolucao_voos_domesticos2"
   ]
  },
  {
   "cell_type": "code",
   "execution_count": null,
   "metadata": {
    "hide_input": false
   },
   "outputs": [],
   "source": [
    "filtro_dias = df_fatores_geograficos.dias_contaminação_referencia >= 0\n",
    "\n",
    "fig, ax = plt.subplots(nrows=1,ncols=1, figsize=(20,8))\n",
    "\n",
    "color_map = plt.cm.get_cmap('magma')\n",
    "color_map = color_map.reversed()\n",
    "\n",
    "scatter = plt.scatter(c=df_fatores_geograficos['hierarquia'][filtro_dias], \n",
    "            x=df_fatores_geograficos.dias_contaminação_referencia[filtro_dias],\n",
    "            y=np.log(df_fatores_geograficos.pop2019[filtro_dias]),\n",
    "            alpha=0.9,\n",
    "            cmap=color_map,\n",
    "            s= 300);\n",
    "\n",
    "ax.set_title('Municípios Brasileiros segundo dade de notificação do primeiro caso de COVID-19,\\n população e hierarquia urbana \\n')\n",
    "teste = plt.colorbar(ticks=[0,1, 2, 3, 4, 5, 6, 7, 8, 9, 10,  11])\n",
    "# teste.set_label('Hierarquia Urbana', rotation=270)\n",
    "teste.ax.set_yticklabels(['Sem Classificação','Centro Local', 'Centro de Zona B', 'Centro de Zona A', 'Capital Sub-regional B', 'Capital Sub-regional A', 'Capital Regional C', 'Capital Regional B', 'Capital Regional A', 'Metrópole', 'Metrópole Nacional', 'Grande Metrópole Nacional'])  # horizontal colorbar\n",
    "\n",
    "plt.ticklabel_format(useOffset=False, style='plain')\n",
    "plt.xlabel('data da primeira notificação')\n",
    "plt.ylabel('População em 2019 (escala logarítmica)');\n",
    "plt.ylim(top=17)\n",
    "\n",
    "plt.xticks([1, 10, 15, 20, 25, 30, 35, 40], ['25/02', '05/03', '10/03', '15/03', '20/03', '25/05', '30/03', '04/04'])\n",
    "plt.savefig('covid_pop_hierarquia.png')\n",
    "#lgnd = plt.legend(handles=handles, loc=\"lower left\", scatterpoints=1)\n",
    "\n",
    "#legend2 = ax.legend(handles, labels, loc=\"upper right\", title=\"Sizes\")\n",
    "#lgnd.legendHandles[0]._sizes = [30]\n",
    "#lgnd.legendHandles[1]._sizes = [30]"
   ]
  },
  {
   "cell_type": "code",
   "execution_count": null,
   "metadata": {},
   "outputs": [],
   "source": [
    "filtro_dias = df_fatores_geograficos.dias_contaminação_referencia >= 0\n",
    "\n",
    "fig, ax = plt.subplots(nrows=1,ncols=1, figsize=(20,8))\n",
    "\n",
    "color_map = plt.cm.get_cmap('gist_heat')\n",
    "color_map = color_map.reversed()\n",
    "\n",
    "scatter = plt.scatter(c=df_fatores_geograficos['pip_per_capita17'][filtro_dias], \n",
    "            x=df_fatores_geograficos.dias_contaminação_referencia[filtro_dias],\n",
    "            y=np.log(df_fatores_geograficos.pib2017milreais[filtro_dias]),\n",
    "            alpha=0.9,\n",
    "            cmap=color_map,\n",
    "            s= 300);\n",
    "\n",
    "ax.set_title('Municípios Brasileiros segundo momento do primeiro caso de COVID-19, PIB e PIB per capita\\n')\n",
    "\n",
    "teste = plt.colorbar()\n",
    "teste.set_label('PIB per capita em 2017', rotation=270)\n",
    "#teste.ax.set_yticklabels(['Sem Classificação','Centro Local', 'Centro de Zona B', 'Centro de Zona A', 'Capital Sub-regional B', 'Capital Sub-regional A', 'Capital Regional C', 'Capital Regional B', 'Capital Regional A', 'Metrópole', 'Metrópole Nacional', 'Grande Metrópole Nacional'])  # horizontal colorbar\n",
    "\n",
    "plt.ticklabel_format(useOffset=False, style='plain')\n",
    "plt.xlabel('primeira notificação')\n",
    "plt.ylabel('log(PIB em 2017 (mil Reais))');\n",
    "\n",
    "plt.tight_layout()\n",
    "\n",
    "plt.xticks([1, 10, 15, 20, 25, 30, 35, 40], ['25/02', '05/03', '10/03', '15/03', '20/03', '25/05', '30/03', '04/04'])\n",
    "plt.savefig('covid_pib_pibpercapita.png')\n",
    "\n",
    "#lgnd = plt.legend(handles=handles, loc=\"lower left\", scatterpoints=1)\n",
    "\n",
    "#legend2 = ax.legend(handles, labels, loc=\"upper right\", title=\"Sizes\")\n",
    "#lgnd.legendHandles[0]._sizes = [30]\n",
    "#lgnd.legendHandles[1]._sizes = [30]"
   ]
  },
  {
   "cell_type": "code",
   "execution_count": null,
   "metadata": {},
   "outputs": [],
   "source": [
    "filtro_dias = df_fatores_geograficos.dias_contaminação_referencia >= 0\n",
    "\n",
    "fig, ax = plt.subplots(nrows=1,ncols=1, figsize=(20,8))\n",
    "\n",
    "color_map = plt.cm.get_cmap('summer')\n",
    "color_map = color_map.reversed()\n",
    "\n",
    "scatter = plt.scatter(c=df_fatores_geograficos['voos_int'][filtro_dias], \n",
    "            x=df_fatores_geograficos.dias_contaminação_referencia[filtro_dias],\n",
    "            y=np.log(df_fatores_geograficos.voos_dom[filtro_dias] + 1),\n",
    "            alpha=0.9,\n",
    "            cmap=color_map,\n",
    "            s= 300);\n",
    "\n",
    "ax.set_title('Municípios Brasileiros segundo momento do primeiro caso de COVID-19,\\n número de vôos nacionais e internacionais\\n')\n",
    "\n",
    "teste = plt.colorbar()\n",
    "teste.set_label('Voos internacionais', rotation=270)\n",
    "#teste.ax.set_yticklabels(['Sem Classificação','Centro Local', 'Centro de Zona B', 'Centro de Zona A', 'Capital Sub-regional B', 'Capital Sub-regional A', 'Capital Regional C', 'Capital Regional B', 'Capital Regional A', 'Metrópole', 'Metrópole Nacional', 'Grande Metrópole Nacional'])  # horizontal colorbar\n",
    "\n",
    "plt.ticklabel_format(useOffset=False, style='plain')\n",
    "plt.xlabel('primeira notificação (dias a partir de 25 de fevereiro de 2020)')\n",
    "plt.ylabel('Voos nacionais (escala logarítmica)');\n",
    "\n",
    "plt.tight_layout()\n",
    "\n",
    "plt.xticks([1, 10, 15, 20, 25, 30, 35, 40], ['25/02', '05/03', '10/03', '15/03', '20/03', '25/05', '30/03', '04/04'])\n",
    "plt.savefig('covid_voos.png')\n",
    "\n",
    "#plt.savefig('covid.png')\n",
    "#lgnd = plt.legend(handles=handles, loc=\"lower left\", scatterpoints=1)\n",
    "\n",
    "#legend2 = ax.legend(handles, labels, loc=\"upper right\", title=\"Sizes\")\n",
    "#lgnd.legendHandles[0]._sizes = [30]\n",
    "#lgnd.legendHandles[1]._sizes = [30]"
   ]
  },
  {
   "cell_type": "code",
   "execution_count": null,
   "metadata": {},
   "outputs": [],
   "source": [
    "filtro_dias = df_fatores_geograficos.dias_contaminação_referencia >= 0\n",
    "\n",
    "fig, ax = plt.subplots(nrows=1,ncols=1, figsize=(20,8))\n",
    "\n",
    "color_map = plt.cm.get_cmap('cividis')\n",
    "color_map = color_map.reversed()\n",
    "\n",
    "scatter = plt.scatter(c=df_fatores_geograficos['indice_proximidade'][filtro_dias], \n",
    "            x=df_fatores_geograficos.dias_contaminação_referencia[filtro_dias],\n",
    "            y=(np.log(df_fatores_geograficos.indice_intermediacao[filtro_dias]*1000000000))/20,\n",
    "            alpha=0.9,\n",
    "            cmap=color_map,\n",
    "            s= 300);\n",
    "\n",
    "ax.set_title('Municípios Brasileiros segundo momento do primeiro caso de COVID-19,\\n índice de intermediação e índice de proximidade rodoviária/hidroviária \\n')\n",
    "\n",
    "teste = plt.colorbar()\n",
    "teste.set_label('Indice de Proximidade', rotation=270)\n",
    "#teste.ax.set_yticklabels(['Sem Classificação','Centro Local', 'Centro de Zona B', 'Centro de Zona A', 'Capital Sub-regional B', 'Capital Sub-regional A', 'Capital Regional C', 'Capital Regional B', 'Capital Regional A', 'Metrópole', 'Metrópole Nacional', 'Grande Metrópole Nacional'])  # horizontal colorbar\n",
    "\n",
    "plt.ticklabel_format(useOffset=False, style='plain')\n",
    "plt.xlabel('primeira notificação')\n",
    "plt.ylabel('Indice de Intermediação');\n",
    "\n",
    "plt.tight_layout()\n",
    "\n",
    "plt.xticks([1, 10, 15, 20, 25, 30, 35, 40], ['25/02', '05/03', '10/03', '15/03', '20/03', '25/05', '30/03', '04/04'])\n",
    "plt.savefig('covid_indice_intermediacao.png')\n",
    "\n",
    "\n",
    "#plt.savefig('covid.png')\n",
    "#lgnd = plt.legend(handles=handles, loc=\"lower left\", scatterpoints=1)\n",
    "\n",
    "#legend2 = ax.legend(handles, labels, loc=\"upper right\", title=\"Sizes\")\n",
    "#lgnd.legendHandles[0]._sizes = [30]\n",
    "#lgnd.legendHandles[1]._sizes = [30]"
   ]
  },
  {
   "cell_type": "code",
   "execution_count": null,
   "metadata": {
    "code_folding": [],
    "hide_input": false
   },
   "outputs": [],
   "source": [
    "filtro_dias = df_fatores_geograficos.dias_contaminação_referencia >= 0\n",
    "\n",
    "fig, ax = plt.subplots(nrows=1,ncols=1, figsize=(20,8))\n",
    "\n",
    "color_map = plt.cm.get_cmap('cividis')\n",
    "color_map = color_map.reversed()\n",
    "\n",
    "scatter = plt.scatter(c=df_fatores_geograficos['peso_integracao_geral'][filtro_dias], \n",
    "            x=df_fatores_geograficos.dias_contaminação_referencia[filtro_dias],\n",
    "            y=df_fatores_geograficos.peso_integracao_interna[filtro_dias],\n",
    "            alpha=0.9,\n",
    "            cmap=color_map,\n",
    "            s= 300);\n",
    "\n",
    "ax.set_title('Municípios Brasileiros segundo momento do primeiro caso de COVID-19,\\n índice de intermediação e índice de proximidade rodoviária/hidroviária \\n')\n",
    "\n",
    "teste = plt.colorbar()\n",
    "teste.set_label('Indice de Proximidade', rotation=270)\n",
    "#teste.ax.set_yticklabels(['Sem Classificação','Centro Local', 'Centro de Zona B', 'Centro de Zona A', 'Capital Sub-regional B', 'Capital Sub-regional A', 'Capital Regional C', 'Capital Regional B', 'Capital Regional A', 'Metrópole', 'Metrópole Nacional', 'Grande Metrópole Nacional'])  # horizontal colorbar\n",
    "\n",
    "plt.ticklabel_format(useOffset=False, style='plain')\n",
    "plt.xlabel('primeira notificação')\n",
    "plt.ylabel('Indice de Intermediação');\n",
    "\n",
    "plt.tight_layout()\n",
    "\n",
    "plt.xticks([1, 10, 15, 20, 25, 30, 35, 40], ['25/02', '05/03', '10/03', '15/03', '20/03', '25/05', '30/03', '04/04'])\n",
    "plt.savefig('covid_indice_intermediacao.png')\n",
    "\n",
    "\n",
    "#plt.savefig('covid.png')\n",
    "#lgnd = plt.legend(handles=handles, loc=\"lower left\", scatterpoints=1)\n",
    "\n",
    "#legend2 = ax.legend(handles, labels, loc=\"upper right\", title=\"Sizes\")\n",
    "#lgnd.legendHandles[0]._sizes = [30]\n",
    "#lgnd.legendHandles[1]._sizes = [30]"
   ]
  },
  {
   "cell_type": "code",
   "execution_count": null,
   "metadata": {
    "code_folding": [],
    "hide_input": false
   },
   "outputs": [],
   "source": [
    "for coluna in df_plot_evolucao_voos_domesticos2.columns:\n",
    "    df_plot_evolucao_voos_domesticos2[coluna].plot()\n",
    "plt.legend(loc='upper left')\n",
    "plt.title('Razão de municípios com casos notificados por total de municípios no Brasil,\\n segundo número de voos domésticos em fevereiro de 2020')\n",
    "\n",
    "plt.xticks(['2020-02-25', '2020-03-05', '2020-03-10', '2020-03-15', '2020-03-20', '2020-03-25', '2020-03-30', '2020-04-04'], ['25/02', '05/03', '10/03', '15/03', '20/03', '25/05', '30/03', '04/04'])\n",
    "\n",
    "plt.xlabel(\"\")\n",
    "plt. ylim()\n",
    "\n",
    "plt.savefig('ritmos_voos_domesticos.png')"
   ]
  },
  {
   "cell_type": "code",
   "execution_count": null,
   "metadata": {},
   "outputs": [],
   "source": []
  },
  {
   "cell_type": "code",
   "execution_count": null,
   "metadata": {},
   "outputs": [],
   "source": []
  },
  {
   "cell_type": "code",
   "execution_count": null,
   "metadata": {},
   "outputs": [],
   "source": []
  },
  {
   "cell_type": "code",
   "execution_count": null,
   "metadata": {},
   "outputs": [],
   "source": [
    "df_para_plot_pr = df_covid_19_br[df_covid_19_br['estado'] == 'PR'].pivot_table(index='data', columns='hierarquia_urbana', values='casos_total', aggfunc='count')"
   ]
  },
  {
   "cell_type": "code",
   "execution_count": null,
   "metadata": {
    "code_folding": [],
    "hide_input": false
   },
   "outputs": [],
   "source": [
    "df_para_plot_pr = df_para_plot_pr.fillna(0)"
   ]
  },
  {
   "cell_type": "code",
   "execution_count": null,
   "metadata": {
    "code_folding": [],
    "hide_input": false
   },
   "outputs": [],
   "source": [
    "df_para_plot_pr"
   ]
  },
  {
   "cell_type": "code",
   "execution_count": null,
   "metadata": {
    "code_folding": [],
    "hide_input": false
   },
   "outputs": [],
   "source": [
    "df_para_plot_pr = df_para_plot_pr[['Metrópole','Capital Regional B', 'Capital Regional C','Centro Subregional A', 'Centro Subregional B','Centro de Zona A', 'Centro de Zona B', 'Centro Local']]"
   ]
  },
  {
   "cell_type": "code",
   "execution_count": null,
   "metadata": {
    "code_folding": [],
    "hide_input": false
   },
   "outputs": [],
   "source": [
    "df_para_plot_pr2 = df_para_plot_pr.copy()\n",
    "for hierarquia, total in zip(['Metrópole','Capital Regional B', 'Capital Regional C','Centro Subregional A', 'Centro Subregional B','Centro de Zona A', 'Centro de Zona B', 'Centro Local'], [47, 29, 101, 60, 46, 83, 85, 79, 197, 364, 4479]):\n",
    "    df_para_plot_pr2[hierarquia] = df_para_plot_pr2[hierarquia] / total\n",
    "df_para_plot2"
   ]
  },
  {
   "cell_type": "code",
   "execution_count": null,
   "metadata": {
    "code_folding": [],
    "hide_input": false
   },
   "outputs": [],
   "source": [
    "plt.legend?"
   ]
  },
  {
   "cell_type": "code",
   "execution_count": null,
   "metadata": {
    "code_folding": [],
    "hide_input": false
   },
   "outputs": [],
   "source": [
    "for coluna in ['Metrópole','Capital Regional B', 'Capital Regional C','Centro Subregional A', 'Centro Subregional B','Centro de Zona A', 'Centro de Zona B', 'Centro Local']:\n",
    "    df_para_plot2[coluna].plot()\n",
    "plt.legend(loc='upper left')\n",
    "\n",
    "\n",
    "plt.title('Razão de municípios com casos notificados por total de municípios no Paraná')\n",
    "plt.xticks(['2020-02-25', '2020-03-05', '2020-03-10', '2020-03-15', '2020-03-20', '2020-03-25', '2020-03-30', '2020-04-04'], ['25/02', '05/03', '10/03', '15/03', '20/03', '25/05', '30/03', '04/04'])\n",
    "plt.xlabel(\"\")\n",
    "\n",
    "\n",
    "plt.ylim(top=1)\n",
    "plt.savefig('ritmos_pr.png')"
   ]
  },
  {
   "cell_type": "code",
   "execution_count": null,
   "metadata": {
    "code_folding": [],
    "hide_input": false
   },
   "outputs": [],
   "source": [
    "filter_len_cod_mun = df_covid_19_br.cod_mun.astype('str').str.len() == 2\n",
    "\n",
    "\n",
    "df_covid_19_br = df_covid_19_br[~filter_len_cod_mun]"
   ]
  },
  {
   "cell_type": "code",
   "execution_count": null,
   "metadata": {},
   "outputs": [],
   "source": []
  },
  {
   "cell_type": "code",
   "execution_count": null,
   "metadata": {},
   "outputs": [],
   "source": [
    "df_covid_19_br.info()"
   ]
  },
  {
   "cell_type": "code",
   "execution_count": null,
   "metadata": {},
   "outputs": [],
   "source": [
    "df_covid_19_br.data = pd.to_datetime(df_covid_19_br.data)"
   ]
  },
  {
   "cell_type": "code",
   "execution_count": null,
   "metadata": {
    "code_folding": [],
    "hide_input": false
   },
   "outputs": [],
   "source": [
    "df_covid_19_br.plot('data', 'casos_total')"
   ]
  },
  {
   "cell_type": "code",
   "execution_count": null,
   "metadata": {
    "code_folding": [],
    "hide_input": false
   },
   "outputs": [],
   "source": [
    "pd.to_datetime(df_covid_19_br.data)"
   ]
  },
  {
   "cell_type": "code",
   "execution_count": null,
   "metadata": {
    "code_folding": [],
    "hide_input": false
   },
   "outputs": [],
   "source": [
    "filtro_dias_hierarquia = (df_fatores_geograficos.dias_contaminação_referencia >= 0) & (df_fatores_geograficos.hierarquia > 0)\n",
    "filtro_dias_sem_hierarquia = (df_fatores_geograficos.dias_contaminação_referencia >= 0) & (df_fatores_geograficos.hierarquia == 0)\n",
    "\n",
    "\n",
    "fig, ax = plt.subplots(nrows=1,ncols=1, figsize=(20,8))\n",
    "\n",
    "color_map = plt.cm.get_cmap('magma')\n",
    "color_map = color_map.reversed()\n",
    "\n",
    "\n",
    "scatter = plt.scatter(c=df_fatores_geograficos['hierarquia'][filtro_dias_sem_hierarquia], \n",
    "            x=df_fatores_geograficos.dias_contaminação_referencia[filtro_dias_sem_hierarquia],\n",
    "            y=np.log(df_fatores_geograficos.pop2019[filtro_dias_sem_hierarquia]),\n",
    "            alpha=0.9,\n",
    "            s= 300);\n",
    "\n",
    "\n",
    "ax.set_title('Municípios Brasileiros segundo momento do primeiro Caso de COVID-19, população e hierarquia urbana \\n')\n",
    "teste = plt.colorbar(ticks=[0,1, 2, 3, 4, 5, 6, 7, 8, 9, 10,  11])\n",
    "# teste.set_label('Hierarquia Urbana', rotation=270)\n",
    "teste.ax.set_yticklabels(['Sem Classificação','Centro Local', 'Centro de Zona B', 'Centro de Zona A', 'Capital Sub-regional B', 'Capital Sub-regional A', 'Capital Regional C', 'Capital Regional B', 'Capital Regional A', 'Metrópole', 'Metrópole Nacional', 'Grande Metrópole Nacional'])  # horizontal colorbar\n",
    "\n",
    "plt.ticklabel_format(useOffset=False, style='plain')\n",
    "plt.xlabel('primeira notificação (dias a partir de 25 de fevereiro de 2020)')\n",
    "plt.ylabel('População em 2019 (escala logarítmica)');\n",
    "plt.xlim(left=0)\n",
    "plt.ylim(top=17)\n",
    "\n",
    "plt.savefig('covid.png')\n",
    "#lgnd = plt.legend(handles=handles, loc=\"lower left\", scatterpoints=1)\n",
    "\n",
    "#legend2 = ax.legend(handles, labels, loc=\"upper right\", title=\"Sizes\")\n",
    "#lgnd.legendHandles[0]._sizes = [30]\n",
    "#lgnd.legendHandles[1]._sizes = [30]"
   ]
  },
  {
   "cell_type": "code",
   "execution_count": null,
   "metadata": {},
   "outputs": [],
   "source": [
    "filtro_dias = df_fatores_geograficos.dias_contaminação_referencia >= 0\n",
    "\n",
    "fig, ax = plt.subplots(nrows=1,ncols=1, figsize=(20,8))\n",
    "\n",
    "color_map = plt.cm.get_cmap('magma')\n",
    "color_map = color_map.reversed()\n",
    "\n",
    "scatter = plt.scatter(c=df_fatores_geograficos['hierarquia'][filtro_dias], \n",
    "            x=df_fatores_geograficos.dias_contaminação_referencia[filtro_dias],\n",
    "            y=np.log(df_fatores_geograficos.pop2019[filtro_dias]),\n",
    "            alpha=0.9,\n",
    "            cmap=color_map,\n",
    "            s= 300);\n",
    "\n",
    "ax.set_title('Municípios Brasileiros segundo momento do primeiro Caso de COVID-19, população e hierarquia urbana \\n')\n",
    "teste = plt.colorbar(ticks=[0,1, 2, 3, 4, 5, 6, 7, 8, 9, 10,  11])\n",
    "# teste.set_label('Hierarquia Urbana', rotation=270)\n",
    "teste.ax.set_yticklabels(['Sem Classificação','Centro Local', 'Centro de Zona B', 'Centro de Zona A', 'Capital Sub-regional B', 'Capital Sub-regional A', 'Capital Regional C', 'Capital Regional B', 'Capital Regional A', 'Metrópole', 'Metrópole Nacional', 'Grande Metrópole Nacional'])  # horizontal colorbar\n",
    "\n",
    "plt.ticklabel_format(useOffset=False, style='plain')\n",
    "plt.xlabel('primeira notificação (dias a partir de 25 de fevereiro de 2020)')\n",
    "plt.ylabel('População em 2019 (escala logarítmica)');\n",
    "\n",
    "\n",
    "plt.savefig('covid.png')\n",
    "#lgnd = plt.legend(handles=handles, loc=\"lower left\", scatterpoints=1)\n",
    "\n",
    "#legend2 = ax.legend(handles, labels, loc=\"upper right\", title=\"Sizes\")\n",
    "#lgnd.legendHandles[0]._sizes = [30]\n",
    "#lgnd.legendHandles[1]._sizes = [30]"
   ]
  },
  {
   "cell_type": "code",
   "execution_count": null,
   "metadata": {},
   "outputs": [],
   "source": [
    "df_fatores_geograficos.columns"
   ]
  },
  {
   "cell_type": "code",
   "execution_count": null,
   "metadata": {},
   "outputs": [],
   "source": [
    "df_fatores_geograficos[df_fatores_geograficos['dia0504'] >0][['pib2017milreais','dia0504']].corr()"
   ]
  },
  {
   "cell_type": "code",
   "execution_count": null,
   "metadata": {},
   "outputs": [],
   "source": [
    "df_fatores_geograficos[df_fatores_geograficos['dia0504'] >0][['pop2019','dia0504']].corr()"
   ]
  },
  {
   "cell_type": "code",
   "execution_count": null,
   "metadata": {},
   "outputs": [],
   "source": [
    "df_fatores_geograficos[df_fatores_geograficos['dia0504'] >0][['export_fob_2019', 'dia0504']].corr()"
   ]
  },
  {
   "cell_type": "code",
   "execution_count": null,
   "metadata": {},
   "outputs": [],
   "source": [
    "df_fatores_geograficos[df_fatores_geograficos['dia0504'] >0][['import_fob_2019', 'dia0504']].corr()"
   ]
  },
  {
   "cell_type": "code",
   "execution_count": null,
   "metadata": {},
   "outputs": [],
   "source": [
    "df_fatores_geograficos[df_fatores_geograficos['dia0504'] >0][['pip_per_capita17', 'dia0504']].corr()"
   ]
  },
  {
   "cell_type": "code",
   "execution_count": null,
   "metadata": {},
   "outputs": [],
   "source": [
    "df_fatores_geograficos"
   ]
  },
  {
   "cell_type": "code",
   "execution_count": null,
   "metadata": {},
   "outputs": [],
   "source": [
    "df_fatores_geograficos[df_fatores_geograficos['dia0504'] >0][['pip_per_capita17', 'dia0504']].corr()"
   ]
  },
  {
   "cell_type": "code",
   "execution_count": null,
   "metadata": {},
   "outputs": [],
   "source": [
    "df_fatores_geograficos_para_correlacao = pd.concat([df_fatores_geograficos[['cod_mun', 'UF', 'Município', 'pop2019', 'pib2017milreais',\n",
    "       'export_fob_2019', 'import_fob_2019', 'pip_per_capita17',\n",
    "       'hierarquia_urbana07', 'hierarquia', 'voos_dom', 'voos_int',\n",
    "       'indice_proximidade', 'indice_intermediacao', 'dia0504']], df_fatores_geograficos[['dias_contaminação_referencia']]], axis='columns')\n",
    "\n",
    "df_fatores_geograficos_para_correlacao"
   ]
  },
  {
   "cell_type": "code",
   "execution_count": null,
   "metadata": {},
   "outputs": [],
   "source": [
    "sns.pairplot((df_fatores_geograficos_para_correlacao.iloc[:,3:][df_fatores_geograficos_para_correlacao['dias_contaminação_referencia'] > 0]))"
   ]
  },
  {
   "cell_type": "code",
   "execution_count": null,
   "metadata": {},
   "outputs": [],
   "source": [
    "filtro_dias = df_fatores_geograficos.dias_contaminação_referencia >= 0\n",
    "\n",
    "fig, ax = plt.subplots(nrows=1,ncols=2, figsize=(20,8))\n",
    "\n",
    "ax[0].scatter(y=df_fatores_geograficos['pop2019'][filtro_dias], x=df_fatores_geograficos.dias_contaminação_referencia[filtro_dias]);\n",
    "ax[0].set_ylabel('População em 2019')\n",
    "ax[0].ticklabel_format(useOffset=False, style='plain')\n",
    "ax[0].set_xlabel('Data da primeira notificação')\n",
    "ax[0].set_ylabel('População em 2019')\n",
    "\n",
    "\n",
    "ax[1].scatter(y=np.log(df_fatores_geograficos['pop2019'][filtro_dias]), x=df_fatores_geograficos.dias_contaminação_referencia[filtro_dias]);\n",
    "ax[1].set_xlabel('Data da primeira notificação')\n",
    "ax[1].set_ylabel('Log(População em 2019)')\n",
    "ax[1].set_xlabel('Data da primeira notificação');"
   ]
  },
  {
   "cell_type": "code",
   "execution_count": null,
   "metadata": {},
   "outputs": [],
   "source": [
    "filtro_dias = df_fatores_geograficos.dias_contaminação_referencia >= 0\n",
    "\n",
    "fig, ax = plt.subplots(nrows=1,ncols=2, figsize=(20,8))\n",
    "\n",
    "ax[0].scatter(y=df_fatores_geograficos['pib2017milreais'][filtro_dias], x=df_fatores_geograficos.dias_contaminação_referencia[filtro_dias]);\n",
    "ax[0].set_ylabel('PIB em 2017 (mil Reais)')\n",
    "ax[0].ticklabel_format(useOffset=False, style='plain')\n",
    "ax[0].set_xlabel('Data da primeira notificação')\n",
    "ax[0].set_ylabel('População em 2019')\n",
    "\n",
    "\n",
    "ax[1].scatter(y=np.log(df_fatores_geograficos['pib2017milreais'][filtro_dias]), x=df_fatores_geograficos.dias_contaminação_referencia[filtro_dias]);\n",
    "ax[1].set_xlabel('Data da primeira notificação')\n",
    "ax[1].set_ylabel('Log(PIB em 2017 (mil Reais))')\n",
    "ax[1].set_xlabel('Data da primeira notificação');"
   ]
  },
  {
   "cell_type": "code",
   "execution_count": null,
   "metadata": {},
   "outputs": [],
   "source": [
    "filtro_dias = df_fatores_geograficos.dias_contaminação_referencia >= 0\n",
    "\n",
    "fig, ax = plt.subplots(nrows=1,ncols=2, figsize=(20,8))\n",
    "\n",
    "ax[0].scatter(y=df_fatores_geograficos['pip_per_capita17'][filtro_dias], x=df_fatores_geograficos.dias_contaminação_referencia[filtro_dias]);\n",
    "ax[0].set_ylabel('PIB per capita em 2017 (mil Reais)')\n",
    "ax[0].ticklabel_format(useOffset=False, style='plain')\n",
    "ax[0].set_xlabel('Data da primeira notificação')\n",
    "ax[0].set_ylabel('População em 2019')\n",
    "\n",
    "\n",
    "ax[1].scatter(y=np.log(df_fatores_geograficos['pip_per_capita17'][filtro_dias]), x=df_fatores_geograficos.dias_contaminação_referencia[filtro_dias]);\n",
    "ax[1].set_xlabel('Data da primeira notificação')\n",
    "ax[1].set_ylabel('Log(PIB per capita em 2017 (mil Reais))')\n",
    "ax[1].set_xlabel('Data da primeira notificação');"
   ]
  },
  {
   "cell_type": "code",
   "execution_count": null,
   "metadata": {},
   "outputs": [],
   "source": [
    "filtro_dias = df_fatores_geograficos.dias_contaminação_referencia >= 0\n",
    "\n",
    "fig, ax = plt.subplots(nrows=1,ncols=2, figsize=(20,8))\n",
    "\n",
    "ax[0].scatter(y=df_fatores_geograficos['export_fob_2019'][filtro_dias], x=df_fatores_geograficos.dias_contaminação_referencia[filtro_dias]);\n",
    "ax[0].set_ylabel('Exportações 2019 (FOB)')\n",
    "ax[0].ticklabel_format(useOffset=False, style='plain')\n",
    "ax[0].set_xlabel('Data da primeira notificação')\n",
    "ax[0].set_ylabel('População em 2019')\n",
    "\n",
    "\n",
    "ax[1].scatter(y=np.log(df_fatores_geograficos['export_fob_2019'][filtro_dias]), x=df_fatores_geograficos.dias_contaminação_referencia[filtro_dias]);\n",
    "ax[1].set_xlabel('Data da primeira notificação')\n",
    "ax[1].set_ylabel('Log(Exportações 2019 (FOB))')\n",
    "ax[1].set_xlabel('Data da primeira notificação');"
   ]
  },
  {
   "cell_type": "code",
   "execution_count": null,
   "metadata": {},
   "outputs": [],
   "source": [
    "filtro_dias = df_fatores_geograficos.dias_contaminação_referencia >= 0\n",
    "\n",
    "fig, ax = plt.subplots(nrows=1,ncols=2, figsize=(20,8))\n",
    "\n",
    "ax[0].scatter(y=df_fatores_geograficos['import_fob_2019'][filtro_dias], x=df_fatores_geograficos.dias_contaminação_referencia[filtro_dias]);\n",
    "ax[0].set_ylabel('Importações 2019 (FOB)')\n",
    "ax[0].ticklabel_format(useOffset=False, style='plain')\n",
    "ax[0].set_xlabel('Data da primeira notificação')\n",
    "ax[0].set_ylabel('População em 2019')\n",
    "\n",
    "\n",
    "ax[1].scatter(y=np.log(df_fatores_geograficos['import_fob_2019'][filtro_dias]), x=df_fatores_geograficos.dias_contaminação_referencia[filtro_dias]);\n",
    "ax[1].set_xlabel('Data da primeira notificação')\n",
    "ax[1].set_ylabel('Log(Importações 2019 (FOB))')\n",
    "ax[1].set_xlabel('Data da primeira notificação');"
   ]
  },
  {
   "cell_type": "code",
   "execution_count": null,
   "metadata": {},
   "outputs": [],
   "source": [
    "filtro_dias = df_fatores_geograficos.dias_contaminação_referencia >= 0\n",
    "\n",
    "fig, ax = plt.subplots(nrows=1,ncols=2, figsize=(20,8))\n",
    "\n",
    "ax[0].scatter(y=df_fatores_geograficos['import_fob_2019'][filtro_dias], x=df_fatores_geograficos.dias_contaminação_referencia[filtro_dias]);\n",
    "ax[0].set_ylabel('Importações 2019 (FOB)')\n",
    "ax[0].ticklabel_format(useOffset=False, style='plain')\n",
    "ax[0].set_xlabel('Data da primeira notificação')\n",
    "ax[0].set_ylabel('População em 2019')\n",
    "\n",
    "\n",
    "ax[1].scatter(y=np.log(df_fatores_geograficos['import_fob_2019'][filtro_dias]), x=df_fatores_geograficos.dias_contaminação_referencia[filtro_dias]);\n",
    "ax[1].set_xlabel('Data da primeira notificação')\n",
    "ax[1].set_ylabel('Log(Importações 2019 (FOB))')\n",
    "ax[1].set_xlabel('Data da primeira notificação');"
   ]
  },
  {
   "cell_type": "code",
   "execution_count": null,
   "metadata": {},
   "outputs": [],
   "source": []
  },
  {
   "cell_type": "code",
   "execution_count": null,
   "metadata": {},
   "outputs": [],
   "source": [
    "df_fatores_geograficos[['peso_integracao_geral', 'peso_integracao_interna']].max()"
   ]
  },
  {
   "cell_type": "code",
   "execution_count": null,
   "metadata": {},
   "outputs": [],
   "source": [
    "filtro_dias = df_fatores_geograficos.dias_contaminação_referencia >= 0\n",
    "\n",
    "fig, ax = plt.subplots(nrows=1,ncols=1, figsize=(20,8))\n",
    "\n",
    "color_map = plt.cm.get_cmap('magma')\n",
    "color_map = color_map.reversed()\n",
    "\n",
    "scatter = plt.scatter(c=df_fatores_geograficos['peso_integracao_interna'][filtro_dias], \n",
    "            x=df_fatores_geograficos.dias_contaminação_referencia[filtro_dias],\n",
    "            y=df_fatores_geograficos.peso_integracao_geral[filtro_dias],\n",
    "            alpha=0.9,\n",
    "            cmap=color_map,\n",
    "            s= 300);\n",
    "\n",
    "ax.set_title('Municípios Brasileiros segundo momento do primeiro Caso de COVID-19, número de vôos nacionais e internacionais\\n')\n",
    "\n",
    "teste = plt.colorbar()\n",
    "teste.set_label('Voos internacionais', rotation=270)\n",
    "#teste.ax.set_yticklabels(['Sem Classificação','Centro Local', 'Centro de Zona B', 'Centro de Zona A', 'Capital Sub-regional B', 'Capital Sub-regional A', 'Capital Regional C', 'Capital Regional B', 'Capital Regional A', 'Metrópole', 'Metrópole Nacional', 'Grande Metrópole Nacional'])  # horizontal colorbar\n",
    "\n",
    "plt.ticklabel_format(useOffset=False, style='plain')\n",
    "plt.xlabel('primeira notificação (dias a partir de 25 de fevereiro de 2020)')\n",
    "plt.ylabel('Voos nacionais (escala logarítmica)');\n",
    "\n",
    "plt.tight_layout()\n",
    "#plt.savefig('covid.png')\n",
    "#lgnd = plt.legend(handles=handles, loc=\"lower left\", scatterpoints=1)\n",
    "\n",
    "#legend2 = ax.legend(handles, labels, loc=\"upper right\", title=\"Sizes\")\n",
    "#lgnd.legendHandles[0]._sizes = [30]\n",
    "#lgnd.legendHandles[1]._sizes = [30]"
   ]
  },
  {
   "cell_type": "code",
   "execution_count": null,
   "metadata": {},
   "outputs": [],
   "source": [
    "['cod_mun', 'UF', 'Município', 'pop2019', 'pib2017milreais',\n",
    "       'export_fob_2019', 'import_fob_2019', 'pip_per_capita17',\n",
    "       'hierarquia_urbana07', 'hierarquia', 'voos_dom', 'voos_int',\n",
    "       'indice_proximidade', 'indice_intermediacao', 'cod_mun.1',\n",
    "       'peso_integracao_interna', 'peso_integracao_geral', 'dia2502',\n",
    "       'dia2902', 'dia0403', 'dia0503', 'dia0603', 'dia0703', 'dia0803',\n",
    "       'dia0903', 'dia1003', 'dia1103', 'dia1203', 'dia1303', 'dia1403',\n",
    "       'dia1503', 'dia1603', 'dia1703', 'dia1803', 'dia1903', 'dia2003',\n",
    "       'dia2103', 'dia2203', 'dia2303', 'dia2403', 'dia2503', 'dia2603',\n",
    "       'dia2703', 'dia2803', 'dia2903', 'dia3003', 'dia3103', 'dia0104',\n",
    "       'dia0204', 'dia0304', 'dia0404', 'dia0504', 'data_primeiro_caso',\n",
    "       'data_padrao', 'dias_contaminação_referencia']"
   ]
  },
  {
   "cell_type": "code",
   "execution_count": null,
   "metadata": {},
   "outputs": [],
   "source": [
    "sns.pairplot(df_fatores_geograficos_correlacao)"
   ]
  },
  {
   "cell_type": "code",
   "execution_count": null,
   "metadata": {},
   "outputs": [],
   "source": []
  },
  {
   "cell_type": "code",
   "execution_count": null,
   "metadata": {},
   "outputs": [],
   "source": []
  },
  {
   "cell_type": "code",
   "execution_count": null,
   "metadata": {},
   "outputs": [],
   "source": [
    "df_fatores_integracao = df_fatores_integracao.loc[:, ['UF','Município',\n",
    "    'pop2019', 'pib2017milreais', 'export_fob_2019', 'import_fob_2019',\n",
    "    'pip_per_capita17', 'hierarquia', 'voos_dom', 'voos_int',\n",
    "    'indice_proximidade', 'indice_intermediacao', 'peso_integracao_geral'\n",
    "]]"
   ]
  },
  {
   "cell_type": "code",
   "execution_count": null,
   "metadata": {},
   "outputs": [],
   "source": []
  },
  {
   "cell_type": "code",
   "execution_count": null,
   "metadata": {},
   "outputs": [],
   "source": [
    "X = df_fatores_integracao.values[:,2:]"
   ]
  },
  {
   "cell_type": "code",
   "execution_count": null,
   "metadata": {},
   "outputs": [],
   "source": [
    "from sklearn.preprocessing import StandardScaler\n",
    "\n",
    "sc = StandardScaler()\n",
    "Xsc = sc.fit_transform(X)"
   ]
  },
  {
   "cell_type": "code",
   "execution_count": null,
   "metadata": {},
   "outputs": [],
   "source": [
    "from sklearn.cluster import KMeans\n",
    "from sklearn.metrics import silhouette_score, silhouette_samples\n",
    "\n",
    "clst = KMeans(n_clusters=5)\n",
    "y = clst.fit_predict(Xsc)"
   ]
  },
  {
   "cell_type": "code",
   "execution_count": null,
   "metadata": {},
   "outputs": [],
   "source": [
    "df_fatores_integracao['classe_de_integracao'] = y"
   ]
  },
  {
   "cell_type": "code",
   "execution_count": null,
   "metadata": {},
   "outputs": [],
   "source": [
    "df_fatores_integracao[df_fatores_integracao['classe_de_integracao'] == 0]"
   ]
  },
  {
   "cell_type": "code",
   "execution_count": null,
   "metadata": {},
   "outputs": [],
   "source": [
    "df_fatores_geograficos[]"
   ]
  },
  {
   "cell_type": "code",
   "execution_count": null,
   "metadata": {},
   "outputs": [],
   "source": []
  },
  {
   "cell_type": "code",
   "execution_count": null,
   "metadata": {},
   "outputs": [],
   "source": [
    "from sklearn.cluster import KMeans\n",
    "from sklearn.metrics import silhouette_score, silhouette_samples\n",
    "from sklearn.preprocessing import StandardScaler\n",
    "\n",
    "\n",
    "\n",
    "clrs = ['lightblue', 'red', 'magenta', 'orange', 'green']\n",
    "for nc in range(2, 6):\n",
    "    cmap = colors.ListedColormap(clrs[0:nc])\n",
    "\n",
    "    clst = KMeans(n_clusters=nc)\n",
    "    y = clst.fit_predict(X)\n",
    "    \n",
    "    plt.figure()\n",
    "    plt.subplot(121)\n",
    "    plt.scatter(X[:,0], X[:,1], c=y, cmap=cmap)\n",
    "    plt.scatter(clst.cluster_centers_[:,0], clst.cluster_centers_[:,1], c='black', marker='x', s=50)\n",
    "    plt.title('{} clusters, silhueta: {}'.format(nc, silhouette_score(X, y)))\n",
    "    \n",
    "    plt.subplot(122)\n",
    "    sil_v = silhouette_samples(X, y)\n",
    "    xs = 1\n",
    "    for j in range(0, clst.n_clusters):\n",
    "        sil_vc = np.sort(sil_v[y == j])\n",
    "        dom_x = range(xs, xs + len(sil_vc))\n",
    "        plt.fill_between(dom_x, sil_vc, color=clrs[j])\n",
    "        plt.scatter(dom_x, sil_vc, s=3, c='black')\n",
    "        xs = xs + len(sil_vc)"
   ]
  },
  {
   "cell_type": "code",
   "execution_count": null,
   "metadata": {},
   "outputs": [],
   "source": [
    "from sklearn.cluster import KMeans\n",
    "from sklearn.metrics import silhouette_score, silhouette_samples\n",
    "\n",
    "\n",
    "clrs = ['lightblue', 'red', 'magenta', 'orange', 'green']\n",
    "for nc in range(2, 6):\n",
    "    cmap = colors.ListedColormap(clrs[0:nc])\n",
    "\n",
    "    clst = KMeans(n_clusters=nc)\n",
    "    y = clst.fit_predict(X)\n",
    "    \n",
    "    plt.figure()\n",
    "    plt.subplot(121)\n",
    "    plt.scatter(X[:,0], X[:,1], c=y, cmap=cmap)\n",
    "    plt.scatter(clst.cluster_centers_[:,0], clst.cluster_centers_[:,1], c='black', marker='x', s=50)\n",
    "    plt.title('{} clusters, silhueta: {}'.format(nc, silhouette_score(X, y)))\n",
    "    \n",
    "    plt.subplot(122)\n",
    "    sil_v = silhouette_samples(X, y)\n",
    "    xs = 1\n",
    "    for j in range(0, clst.n_clusters):\n",
    "        sil_vc = np.sort(sil_v[y == j])\n",
    "        dom_x = range(xs, xs + len(sil_vc))\n",
    "        plt.fill_between(dom_x, sil_vc, color=clrs[j])\n",
    "        plt.scatter(dom_x, sil_vc, s=3, c='black')\n",
    "        xs = xs + len(sil_vc)"
   ]
  },
  {
   "cell_type": "code",
   "execution_count": null,
   "metadata": {},
   "outputs": [],
   "source": []
  },
  {
   "cell_type": "code",
   "execution_count": null,
   "metadata": {},
   "outputs": [],
   "source": []
  },
  {
   "cell_type": "code",
   "execution_count": null,
   "metadata": {},
   "outputs": [],
   "source": []
  },
  {
   "cell_type": "code",
   "execution_count": null,
   "metadata": {},
   "outputs": [],
   "source": []
  },
  {
   "cell_type": "code",
   "execution_count": null,
   "metadata": {},
   "outputs": [],
   "source": [
    "df_fatores_integracao = df_fatores_integracao.loc[:, ['UF','Município',\n",
    "    'pop2019', 'pib2017milreais','hierarquia', 'voos_dom', 'voos_int',\n",
    "    'peso_integracao_geral'\n",
    "]]"
   ]
  },
  {
   "cell_type": "code",
   "execution_count": null,
   "metadata": {},
   "outputs": [],
   "source": [
    "X = df_fatores_integracao.values[:,2:]"
   ]
  },
  {
   "cell_type": "code",
   "execution_count": null,
   "metadata": {},
   "outputs": [],
   "source": [
    "from sklearn.preprocessing import StandardScaler\n",
    "\n",
    "sc = StandardScaler()\n",
    "Xsc = sc.fit_transform(X)"
   ]
  },
  {
   "cell_type": "code",
   "execution_count": null,
   "metadata": {},
   "outputs": [],
   "source": [
    "from sklearn.cluster import KMeans\n",
    "from sklearn.metrics import silhouette_score, silhouette_samples\n",
    "\n",
    "clst = KMeans(n_clusters=5)\n",
    "y = clst.fit_predict(Xsc)"
   ]
  },
  {
   "cell_type": "code",
   "execution_count": null,
   "metadata": {},
   "outputs": [],
   "source": [
    "df_fatores_integracao['classe_de_integracao'] = y"
   ]
  },
  {
   "cell_type": "code",
   "execution_count": null,
   "metadata": {},
   "outputs": [],
   "source": [
    "df_fatores_integracao[df_fatores_integracao['classe_de_integracao'] == 2]"
   ]
  },
  {
   "cell_type": "code",
   "execution_count": 404,
   "metadata": {},
   "outputs": [],
   "source": [
    "# df_fatores_geograficos = pd.read_csv('fatores_para_k_means.csv', decimal=',', sep=';')"
   ]
  }
 ],
 "metadata": {
  "hide_input": false,
  "kernelspec": {
   "display_name": "Python 3",
   "language": "python",
   "name": "python3"
  },
  "language_info": {
   "codemirror_mode": {
    "name": "ipython",
    "version": 3
   },
   "file_extension": ".py",
   "mimetype": "text/x-python",
   "name": "python",
   "nbconvert_exporter": "python",
   "pygments_lexer": "ipython3",
   "version": "3.7.3"
  },
  "toc": {
   "base_numbering": 1,
   "nav_menu": {},
   "number_sections": true,
   "sideBar": true,
   "skip_h1_title": true,
   "title_cell": "Table of Contents",
   "title_sidebar": "Contents",
   "toc_cell": false,
   "toc_position": {
    "height": "calc(100% - 180px)",
    "left": "10px",
    "top": "150px",
    "width": "212.754px"
   },
   "toc_section_display": true,
   "toc_window_display": true
  },
  "varInspector": {
   "cols": {
    "lenName": 16,
    "lenType": 16,
    "lenVar": 40
   },
   "kernels_config": {
    "python": {
     "delete_cmd_postfix": "",
     "delete_cmd_prefix": "del ",
     "library": "var_list.py",
     "varRefreshCmd": "print(var_dic_list())"
    },
    "r": {
     "delete_cmd_postfix": ") ",
     "delete_cmd_prefix": "rm(",
     "library": "var_list.r",
     "varRefreshCmd": "cat(var_dic_list()) "
    }
   },
   "types_to_exclude": [
    "module",
    "function",
    "builtin_function_or_method",
    "instance",
    "_Feature"
   ],
   "window_display": false
  }
 },
 "nbformat": 4,
 "nbformat_minor": 4
}
