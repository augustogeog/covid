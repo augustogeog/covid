{
 "cells": [
  {
   "cell_type": "code",
   "execution_count": 6,
   "metadata": {},
   "outputs": [],
   "source": [
    "import pandas as pd\n",
    "import matplotlib.pyplot as plt"
   ]
  },
  {
   "cell_type": "markdown",
   "metadata": {},
   "source": [
    "Na função abaixo, ainda preciso colocar um parse_date_time, para otimizar análises temporais"
   ]
  },
  {
   "cell_type": "code",
   "execution_count": 20,
   "metadata": {},
   "outputs": [],
   "source": [
    "def colect_cases(output=None, output_format='csv',correct_columns=True, correct_rows=True):\n",
    "    #Retrieves the notified cases in Brazilian boletins found in \n",
    "    #https://raw.githubusercontent.com/wcota/covid19br/master/cases-brazil-cities-time.csv\n",
    "    # correct_columns -> whether or not to rearrange the columns and rename them\n",
    "    # Correct_rows -> whether or not to remove the total cases by date, which would duplicate the values per day\n",
    "    # name_csv -> string withe name of the csv file to save the content of the Data Frame. If name_csv equals to None, no file is saved\n",
    "    \n",
    "    \n",
    "    # loads the CSV data into df_cases\n",
    "    df_cases = pd.read_csv('https://raw.githubusercontent.com/wcota/covid19br/master/cases-brazil-cities-time.csv', ) \n",
    "#     df_cases[\"datetime\"] = pd.to_datetime(df_cases.date)\n",
    "# Deixei essa linha comentada para vc decidir se vale a pena ou não essa transformação, quando abro o arquivo ele não interpreta as datas de forma correta.\n",
    "\n",
    "    \n",
    "    # if correct_columns == True, it rearranges the columns orders and renames them    \n",
    "    if correct_columns == True:\n",
    "        df_cases = df_cases[['ibgeID', 'city', 'state', 'date', 'newCases', 'totalCases']].rename(columns={'ibgeID':'cod_mun', 'city':'municipio', 'state':'estado', 'date':'data', 'newCases':'novos_casos', 'totalCases':'casos_total'})    \n",
    "    \n",
    "    # if correct_rows == True, it removes the rows that show the total cases by date, which would duplicate the values per day    \n",
    "    if correct_rows == True:\n",
    "        filter_cases_total = df_cases.loc[df_cases.estado == 'TOTAL']\n",
    "        df_cases.drop(filter_cases_total.index, axis=0, inplace=True)\n",
    "\n",
    "    # removes the state name in the municipality column\n",
    "    df_cases.municipio = df_cases.municipio.apply(lambda a_corrigir: a_corrigir.split('/')[0]) \n",
    "        \n",
    "    # if name_csv contains the name of a csv file, a file will be created in the current directory \n",
    "    #or in the specified directory \n",
    "    if output != None:\n",
    "        if output_format == 'csv':\n",
    "            df_cases.to_csv(output + '.csv', encoding='utf-16')\n",
    "        if output_format == 'excel':\n",
    "            df_cases.to_excel(output  '.xlsx', encoding='utf-16')\n",
    "    \n",
    "    return df_cases"
   ]
  },
  {
   "cell_type": "code",
   "execution_count": 23,
   "metadata": {},
   "outputs": [],
   "source": [
    "df_teste = colect_cases(output=\"tst\",output_format='csv')"
   ]
  },
  {
   "cell_type": "code",
   "execution_count": null,
   "metadata": {},
   "outputs": [],
   "source": [
    "df_teste.to_excel()"
   ]
  },
  {
   "cell_type": "code",
   "execution_count": 11,
   "metadata": {},
   "outputs": [
    {
     "name": "stdout",
     "output_type": "stream",
     "text": [
      "<class 'pandas.core.frame.DataFrame'>\n",
      "Int64Index: 1739 entries, 0 to 1762\n",
      "Data columns (total 6 columns):\n",
      "cod_mun        1739 non-null int64\n",
      "municipio      1739 non-null object\n",
      "estado         1739 non-null object\n",
      "data           1739 non-null datetime64[ns]\n",
      "novos_casos    1739 non-null int64\n",
      "casos_total    1739 non-null int64\n",
      "dtypes: datetime64[ns](1), int64(3), object(2)\n",
      "memory usage: 95.1+ KB\n"
     ]
    }
   ],
   "source": [
    "df_teste.info()"
   ]
  },
  {
   "cell_type": "code",
   "execution_count": 8,
   "metadata": {},
   "outputs": [
    {
     "data": {
      "text/plain": [
       "0      2020-02-25\n",
       "2      2020-02-29\n",
       "4      2020-03-04\n",
       "6      2020-03-05\n",
       "7      2020-03-05\n",
       "8      2020-03-05\n",
       "10     2020-03-06\n",
       "11     2020-03-06\n",
       "12     2020-03-06\n",
       "13     2020-03-06\n",
       "15     2020-03-07\n",
       "16     2020-03-07\n",
       "17     2020-03-07\n",
       "18     2020-03-07\n",
       "19     2020-03-07\n",
       "20     2020-03-07\n",
       "22     2020-03-08\n",
       "23     2020-03-08\n",
       "24     2020-03-08\n",
       "25     2020-03-08\n",
       "26     2020-03-08\n",
       "27     2020-03-08\n",
       "28     2020-03-08\n",
       "29     2020-03-08\n",
       "30     2020-03-08\n",
       "32     2020-03-09\n",
       "33     2020-03-09\n",
       "34     2020-03-09\n",
       "35     2020-03-09\n",
       "36     2020-03-09\n",
       "          ...    \n",
       "1733   2020-03-26\n",
       "1734   2020-03-26\n",
       "1735   2020-03-26\n",
       "1736   2020-03-26\n",
       "1737   2020-03-26\n",
       "1738   2020-03-26\n",
       "1739   2020-03-26\n",
       "1740   2020-03-26\n",
       "1741   2020-03-26\n",
       "1742   2020-03-26\n",
       "1743   2020-03-26\n",
       "1744   2020-03-26\n",
       "1745   2020-03-26\n",
       "1746   2020-03-26\n",
       "1747   2020-03-26\n",
       "1748   2020-03-26\n",
       "1749   2020-03-26\n",
       "1750   2020-03-26\n",
       "1751   2020-03-26\n",
       "1752   2020-03-26\n",
       "1753   2020-03-26\n",
       "1754   2020-03-26\n",
       "1755   2020-03-26\n",
       "1756   2020-03-26\n",
       "1757   2020-03-26\n",
       "1758   2020-03-26\n",
       "1759   2020-03-26\n",
       "1760   2020-03-26\n",
       "1761   2020-03-26\n",
       "1762   2020-03-26\n",
       "Name: data, Length: 1739, dtype: datetime64[ns]"
      ]
     },
     "execution_count": 8,
     "metadata": {},
     "output_type": "execute_result"
    }
   ],
   "source": [
    "pd.to_datetime(df_teste.data)"
   ]
  },
  {
   "cell_type": "code",
   "execution_count": null,
   "metadata": {},
   "outputs": [],
   "source": []
  }
 ],
 "metadata": {
  "hide_input": false,
  "kernelspec": {
   "display_name": "Python 3",
   "language": "python",
   "name": "python3"
  },
  "language_info": {
   "codemirror_mode": {
    "name": "ipython",
    "version": 3
   },
   "file_extension": ".py",
   "mimetype": "text/x-python",
   "name": "python",
   "nbconvert_exporter": "python",
   "pygments_lexer": "ipython3",
   "version": "3.7.3"
  },
  "toc": {
   "base_numbering": 1,
   "nav_menu": {},
   "number_sections": true,
   "sideBar": true,
   "skip_h1_title": false,
   "title_cell": "Table of Contents",
   "title_sidebar": "Contents",
   "toc_cell": false,
   "toc_position": {},
   "toc_section_display": true,
   "toc_window_display": false
  },
  "varInspector": {
   "cols": {
    "lenName": 16,
    "lenType": 16,
    "lenVar": 40
   },
   "kernels_config": {
    "python": {
     "delete_cmd_postfix": "",
     "delete_cmd_prefix": "del ",
     "library": "var_list.py",
     "varRefreshCmd": "print(var_dic_list())"
    },
    "r": {
     "delete_cmd_postfix": ") ",
     "delete_cmd_prefix": "rm(",
     "library": "var_list.r",
     "varRefreshCmd": "cat(var_dic_list()) "
    }
   },
   "types_to_exclude": [
    "module",
    "function",
    "builtin_function_or_method",
    "instance",
    "_Feature"
   ],
   "window_display": false
  }
 },
 "nbformat": 4,
 "nbformat_minor": 2
}
